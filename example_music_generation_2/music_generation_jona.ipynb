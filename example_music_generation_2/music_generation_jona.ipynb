{
 "cells": [
  {
   "cell_type": "markdown",
   "metadata": {
    "id": "0DH9bjZD_Cfi"
   },
   "source": [
    "##### Copyright 2021 The TensorFlow Authors."
   ]
  },
  {
   "cell_type": "code",
   "execution_count": 1,
   "metadata": {
    "cellView": "form",
    "execution": {
     "iopub.execute_input": "2022-06-28T01:21:16.335897Z",
     "iopub.status.busy": "2022-06-28T01:21:16.335346Z",
     "iopub.status.idle": "2022-06-28T01:21:16.338977Z",
     "shell.execute_reply": "2022-06-28T01:21:16.338483Z"
    },
    "id": "JO1GUwC1_T2x"
   },
   "outputs": [],
   "source": [
    "#@title Licensed under the Apache License, Version 2.0 (the \"License\");\n",
    "# you may not use this file except in compliance with the License.\n",
    "# You may obtain a copy of the License at\n",
    "#\n",
    "# https://www.apache.org/licenses/LICENSE-2.0\n",
    "#\n",
    "# Unless required by applicable law or agreed to in writing, software\n",
    "# distributed under the License is distributed on an \"AS IS\" BASIS,\n",
    "# WITHOUT WARRANTIES OR CONDITIONS OF ANY KIND, either express or implied.\n",
    "# See the License for the specific language governing permissions and\n",
    "# limitations under the License."
   ]
  },
  {
   "cell_type": "markdown",
   "metadata": {
    "id": "M4xOsFiu-1-c"
   },
   "source": [
    "# Generate music with an RNN"
   ]
  },
  {
   "cell_type": "markdown",
   "metadata": {
    "id": "OyzAxV7Vu_9Y"
   },
   "source": [
    "<table class=\"tfo-notebook-buttons\" align=\"left\">\n",
    "  <td>\n",
    "    <a target=\"_blank\" href=\"https://www.tensorflow.org/tutorials/audio/music_generation\"><img src=\"https://www.tensorflow.org/images/tf_logo_32px.png\" />View on TensorFlow.org</a>\n",
    "  </td>\n",
    "  <td>\n",
    "    <a target=\"_blank\" href=\"https://colab.research.google.com/github/tensorflow/docs/blob/master/site/en/tutorials/audio/music_generation.ipynb\"><img src=\"https://www.tensorflow.org/images/colab_logo_32px.png\" />Run in Google Colab</a>\n",
    "  </td>\n",
    "  <td>\n",
    "    <a target=\"_blank\" href=\"https://github.com/tensorflow/docs/blob/master/site/en/tutorials/audio/music_generation.ipynb\"><img src=\"https://www.tensorflow.org/images/GitHub-Mark-32px.png\" />View source on GitHub</a>\n",
    "  </td>\n",
    "  <td>\n",
    "    <a href=\"https://storage.googleapis.com/tensorflow_docs/docs/site/en/tutorials/audio/music_generation.ipynb\"><img src=\"https://www.tensorflow.org/images/download_logo_32px.png\" />Download notebook</a>\n",
    "  </td>\n",
    "</table>"
   ]
  },
  {
   "cell_type": "markdown",
   "metadata": {
    "id": "hr78EkAY-FFg"
   },
   "source": [
    "This tutorial shows you how to generate musical notes using a simple recurrent neural network (RNN). You will train a model using a collection of piano MIDI files from the [MAESTRO dataset](https://magenta.tensorflow.org/datasets/maestro). Given a sequence of notes, your model will learn to predict the next note in the sequence. You can generate longer sequences of notes by calling the model repeatedly.\n",
    "\n",
    "This tutorial contains complete code to parse and create MIDI files. You can learn more about how RNNs work by visiting the [Text generation with an RNN](https://www.tensorflow.org/text/tutorials/text_generation) tutorial."
   ]
  },
  {
   "cell_type": "markdown",
   "metadata": {
    "id": "4ZniYb7Y_0Ey"
   },
   "source": [
    "## Setup"
   ]
  },
  {
   "cell_type": "markdown",
   "metadata": {
    "id": "3ks8__E_WUGt"
   },
   "source": [
    "This tutorial uses the [`pretty_midi`](https://github.com/craffel/pretty-midi) library to create and parse MIDI files, and [`pyfluidsynth`](https://github.com/nwhitehead/pyfluidsynth) for generating audio playback in Colab."
   ]
  },
  {
   "cell_type": "code",
   "execution_count": 2,
   "metadata": {
    "execution": {
     "iopub.execute_input": "2022-06-28T01:21:16.342452Z",
     "iopub.status.busy": "2022-06-28T01:21:16.342098Z",
     "iopub.status.idle": "2022-06-28T01:21:40.320196Z",
     "shell.execute_reply": "2022-06-28T01:21:40.319441Z"
    },
    "id": "kahm6Z8v_TqC"
   },
   "outputs": [
    {
     "name": "stdout",
     "output_type": "stream",
     "text": [
      "Requirement already satisfied: fluidsynth in c:\\users\\jonat\\appdata\\local\\programs\\python\\python37\\lib\\site-packages (0.2)\n"
     ]
    }
   ],
   "source": [
    "!pip install fluidsynth"
   ]
  },
  {
   "cell_type": "code",
   "execution_count": 3,
   "metadata": {
    "execution": {
     "iopub.execute_input": "2022-06-28T01:21:40.324376Z",
     "iopub.status.busy": "2022-06-28T01:21:40.323801Z",
     "iopub.status.idle": "2022-06-28T01:21:41.801408Z",
     "shell.execute_reply": "2022-06-28T01:21:41.800665Z"
    },
    "id": "M0lAReB7_Vqb"
   },
   "outputs": [
    {
     "name": "stdout",
     "output_type": "stream",
     "text": [
      "Requirement already satisfied: pyfluidsynth in c:\\users\\jonat\\appdata\\local\\programs\\python\\python37\\lib\\site-packages (1.3.1)\n",
      "Requirement already satisfied: numpy in c:\\users\\jonat\\appdata\\local\\programs\\python\\python37\\lib\\site-packages (from pyfluidsynth) (1.21.6)\n"
     ]
    }
   ],
   "source": [
    "!pip install --upgrade pyfluidsynth"
   ]
  },
  {
   "cell_type": "code",
   "execution_count": 4,
   "metadata": {
    "execution": {
     "iopub.execute_input": "2022-06-28T01:21:41.805404Z",
     "iopub.status.busy": "2022-06-28T01:21:41.805129Z",
     "iopub.status.idle": "2022-06-28T01:21:46.616088Z",
     "shell.execute_reply": "2022-06-28T01:21:46.615318Z"
    },
    "id": "G46kKoQZmIa8"
   },
   "outputs": [
    {
     "name": "stdout",
     "output_type": "stream",
     "text": [
      "Requirement already satisfied: pretty_midi in c:\\users\\jonat\\appdata\\local\\programs\\python\\python37\\lib\\site-packages (0.2.9)\n",
      "Requirement already satisfied: numpy>=1.7.0 in c:\\users\\jonat\\appdata\\local\\programs\\python\\python37\\lib\\site-packages (from pretty_midi) (1.21.6)\n",
      "Requirement already satisfied: six in c:\\users\\jonat\\appdata\\local\\programs\\python\\python37\\lib\\site-packages (from pretty_midi) (1.16.0)\n",
      "Requirement already satisfied: mido>=1.1.16 in c:\\users\\jonat\\appdata\\local\\programs\\python\\python37\\lib\\site-packages (from pretty_midi) (1.2.10)\n"
     ]
    }
   ],
   "source": [
    "!pip install pretty_midi"
   ]
  },
  {
   "cell_type": "code",
   "execution_count": 5,
   "metadata": {
    "execution": {
     "iopub.execute_input": "2022-06-28T01:21:46.620135Z",
     "iopub.status.busy": "2022-06-28T01:21:46.619543Z",
     "iopub.status.idle": "2022-06-28T01:21:49.427271Z",
     "shell.execute_reply": "2022-06-28T01:21:49.426564Z"
    },
    "id": "GsLFq7nsiqcq"
   },
   "outputs": [],
   "source": [
    "import collections\n",
    "import datetime\n",
    "import fluidsynth\n",
    "import glob\n",
    "import numpy as np\n",
    "import pathlib\n",
    "import pandas as pd\n",
    "import pretty_midi\n",
    "import seaborn as sns\n",
    "import tensorflow as tf\n",
    "\n",
    "from IPython import display\n",
    "from matplotlib import pyplot as plt\n",
    "from typing import Dict, List, Optional, Sequence, Tuple"
   ]
  },
  {
   "cell_type": "code",
   "execution_count": 51,
   "metadata": {
    "execution": {
     "iopub.execute_input": "2022-06-28T01:21:49.431547Z",
     "iopub.status.busy": "2022-06-28T01:21:49.431067Z",
     "iopub.status.idle": "2022-06-28T01:21:49.434898Z",
     "shell.execute_reply": "2022-06-28T01:21:49.434386Z"
    },
    "id": "Efja_OtJNzAM"
   },
   "outputs": [],
   "source": [
    "seed = 42\n",
    "tf.random.set_seed(seed)\n",
    "np.random.seed(seed)\n",
    "\n",
    "# Sampling rate for audio playback\n",
    "_SAMPLING_RATE = 16000"
   ]
  },
  {
   "cell_type": "markdown",
   "metadata": {
    "id": "FzIbfb-Ikgg7"
   },
   "source": [
    "## Download the Maestro dataset"
   ]
  },
  {
   "cell_type": "code",
   "execution_count": 52,
   "metadata": {
    "execution": {
     "iopub.execute_input": "2022-06-28T01:21:49.437747Z",
     "iopub.status.busy": "2022-06-28T01:21:49.437532Z",
     "iopub.status.idle": "2022-06-28T01:21:50.596965Z",
     "shell.execute_reply": "2022-06-28T01:21:50.596319Z"
    },
    "id": "mwja4SWmibrL"
   },
   "outputs": [],
   "source": [
    "data_dir = pathlib.Path('data/maestro-v2.0.0')\n",
    "if not data_dir.exists():\n",
    "  tf.keras.utils.get_file(\n",
    "      'maestro-v2.0.0-midi.zip',\n",
    "      origin='https://storage.googleapis.com/magentadata/datasets/maestro/v2.0.0/maestro-v2.0.0-midi.zip',\n",
    "      extract=True,\n",
    "      cache_dir='.', cache_subdir='data',\n",
    "  )"
   ]
  },
  {
   "cell_type": "markdown",
   "metadata": {
    "id": "k7UYBSxcINqJ"
   },
   "source": [
    "The dataset contains about 1,200 MIDI files."
   ]
  },
  {
   "cell_type": "code",
   "execution_count": 53,
   "metadata": {
    "execution": {
     "iopub.execute_input": "2022-06-28T01:21:50.600561Z",
     "iopub.status.busy": "2022-06-28T01:21:50.600315Z",
     "iopub.status.idle": "2022-06-28T01:21:50.609179Z",
     "shell.execute_reply": "2022-06-28T01:21:50.608626Z"
    },
    "id": "72iFI1bPB9o1"
   },
   "outputs": [
    {
     "name": "stdout",
     "output_type": "stream",
     "text": [
      "Number of files: 1282\n"
     ]
    }
   ],
   "source": [
    "filenames = glob.glob(str(data_dir/'**/*.mid*'))\n",
    "print('Number of files:', len(filenames))"
   ]
  },
  {
   "cell_type": "markdown",
   "metadata": {
    "id": "8BlRafYDIRgA"
   },
   "source": [
    "## Process a MIDI file"
   ]
  },
  {
   "cell_type": "markdown",
   "metadata": {
    "id": "oFsmG87gXSbh"
   },
   "source": [
    "First, use ```pretty_midi``` to parse a single MIDI file and inspect the format of the notes. If you would like to download the MIDI file below to play on your computer, you can do so in colab by writing ```files.download(sample_file)```.\n"
   ]
  },
  {
   "cell_type": "code",
   "execution_count": 54,
   "metadata": {
    "execution": {
     "iopub.execute_input": "2022-06-28T01:21:50.612351Z",
     "iopub.status.busy": "2022-06-28T01:21:50.611858Z",
     "iopub.status.idle": "2022-06-28T01:21:50.615238Z",
     "shell.execute_reply": "2022-06-28T01:21:50.614726Z"
    },
    "id": "6oSCbHvJNbci"
   },
   "outputs": [
    {
     "name": "stdout",
     "output_type": "stream",
     "text": [
      "data\\maestro-v2.0.0\\2004\\MIDI-Unprocessed_SMF_02_R1_2004_01-05_ORIG_MID--AUDIO_02_R1_2004_06_Track06_wav.midi\n"
     ]
    }
   ],
   "source": [
    "sample_file = filenames[1]\n",
    "print(sample_file)"
   ]
  },
  {
   "cell_type": "markdown",
   "metadata": {
    "id": "A48VdGEpXnLp"
   },
   "source": [
    "Generate a `PrettyMIDI` object for the sample MIDI file."
   ]
  },
  {
   "cell_type": "code",
   "execution_count": 55,
   "metadata": {
    "execution": {
     "iopub.execute_input": "2022-06-28T01:21:50.618268Z",
     "iopub.status.busy": "2022-06-28T01:21:50.617777Z",
     "iopub.status.idle": "2022-06-28T01:21:50.755488Z",
     "shell.execute_reply": "2022-06-28T01:21:50.754875Z"
    },
    "id": "1YSQ5DjRI2md"
   },
   "outputs": [],
   "source": [
    "pm = pretty_midi.PrettyMIDI(sample_file)"
   ]
  },
  {
   "cell_type": "markdown",
   "metadata": {
    "id": "FZNVsZuA_lef"
   },
   "source": [
    "Play the sample file. The playback widget may take several seconds to load."
   ]
  },
  {
   "cell_type": "code",
   "execution_count": 56,
   "metadata": {
    "execution": {
     "iopub.execute_input": "2022-06-28T01:21:50.759144Z",
     "iopub.status.busy": "2022-06-28T01:21:50.758654Z",
     "iopub.status.idle": "2022-06-28T01:21:50.762402Z",
     "shell.execute_reply": "2022-06-28T01:21:50.761838Z"
    },
    "id": "vzoHAaVY_kyY"
   },
   "outputs": [],
   "source": [
    "def display_audio(pm: pretty_midi.PrettyMIDI, seconds=30):\n",
    "  waveform = pm.fluidsynth(fs=_SAMPLING_RATE)\n",
    "  # Take a sample of the generated waveform to mitigate kernel resets\n",
    "  waveform_short = waveform[:seconds*_SAMPLING_RATE]\n",
    "  return display.Audio(waveform_short, rate=_SAMPLING_RATE)"
   ]
  },
  {
   "cell_type": "code",
   "execution_count": 57,
   "metadata": {
    "execution": {
     "iopub.execute_input": "2022-06-28T01:21:50.765582Z",
     "iopub.status.busy": "2022-06-28T01:21:50.765092Z",
     "iopub.status.idle": "2022-06-28T01:21:53.519298Z",
     "shell.execute_reply": "2022-06-28T01:21:53.518604Z"
    },
    "id": "GOe-3AAi_sRw"
   },
   "outputs": [
    {
     "ename": "AttributeError",
     "evalue": "module 'fluidsynth' has no attribute 'Synth'",
     "output_type": "error",
     "traceback": [
      "\u001b[1;31m---------------------------------------------------------------------------\u001b[0m",
      "\u001b[1;31mAttributeError\u001b[0m                            Traceback (most recent call last)",
      "\u001b[1;32m~\\AppData\\Local\\Temp\\ipykernel_7984\\4108125448.py\u001b[0m in \u001b[0;36m<module>\u001b[1;34m\u001b[0m\n\u001b[1;32m----> 1\u001b[1;33m \u001b[0mdisplay_audio\u001b[0m\u001b[1;33m(\u001b[0m\u001b[0mpm\u001b[0m\u001b[1;33m)\u001b[0m\u001b[1;33m\u001b[0m\u001b[1;33m\u001b[0m\u001b[0m\n\u001b[0m",
      "\u001b[1;32m~\\AppData\\Local\\Temp\\ipykernel_7984\\1630508493.py\u001b[0m in \u001b[0;36mdisplay_audio\u001b[1;34m(pm, seconds)\u001b[0m\n\u001b[0;32m      1\u001b[0m \u001b[1;32mdef\u001b[0m \u001b[0mdisplay_audio\u001b[0m\u001b[1;33m(\u001b[0m\u001b[0mpm\u001b[0m\u001b[1;33m:\u001b[0m \u001b[0mpretty_midi\u001b[0m\u001b[1;33m.\u001b[0m\u001b[0mPrettyMIDI\u001b[0m\u001b[1;33m,\u001b[0m \u001b[0mseconds\u001b[0m\u001b[1;33m=\u001b[0m\u001b[1;36m30\u001b[0m\u001b[1;33m)\u001b[0m\u001b[1;33m:\u001b[0m\u001b[1;33m\u001b[0m\u001b[1;33m\u001b[0m\u001b[0m\n\u001b[1;32m----> 2\u001b[1;33m   \u001b[0mwaveform\u001b[0m \u001b[1;33m=\u001b[0m \u001b[0mpm\u001b[0m\u001b[1;33m.\u001b[0m\u001b[0mfluidsynth\u001b[0m\u001b[1;33m(\u001b[0m\u001b[0mfs\u001b[0m\u001b[1;33m=\u001b[0m\u001b[0m_SAMPLING_RATE\u001b[0m\u001b[1;33m)\u001b[0m\u001b[1;33m\u001b[0m\u001b[1;33m\u001b[0m\u001b[0m\n\u001b[0m\u001b[0;32m      3\u001b[0m   \u001b[1;31m# Take a sample of the generated waveform to mitigate kernel resets\u001b[0m\u001b[1;33m\u001b[0m\u001b[1;33m\u001b[0m\u001b[1;33m\u001b[0m\u001b[0m\n\u001b[0;32m      4\u001b[0m   \u001b[0mwaveform_short\u001b[0m \u001b[1;33m=\u001b[0m \u001b[0mwaveform\u001b[0m\u001b[1;33m[\u001b[0m\u001b[1;33m:\u001b[0m\u001b[0mseconds\u001b[0m\u001b[1;33m*\u001b[0m\u001b[0m_SAMPLING_RATE\u001b[0m\u001b[1;33m]\u001b[0m\u001b[1;33m\u001b[0m\u001b[1;33m\u001b[0m\u001b[0m\n\u001b[0;32m      5\u001b[0m   \u001b[1;32mreturn\u001b[0m \u001b[0mdisplay\u001b[0m\u001b[1;33m.\u001b[0m\u001b[0mAudio\u001b[0m\u001b[1;33m(\u001b[0m\u001b[0mwaveform_short\u001b[0m\u001b[1;33m,\u001b[0m \u001b[0mrate\u001b[0m\u001b[1;33m=\u001b[0m\u001b[0m_SAMPLING_RATE\u001b[0m\u001b[1;33m)\u001b[0m\u001b[1;33m\u001b[0m\u001b[1;33m\u001b[0m\u001b[0m\n",
      "\u001b[1;32m~\\AppData\\Local\\Programs\\Python\\Python37\\lib\\site-packages\\pretty_midi\\pretty_midi.py\u001b[0m in \u001b[0;36mfluidsynth\u001b[1;34m(self, fs, sf2_path)\u001b[0m\n\u001b[0;32m    944\u001b[0m         \u001b[1;31m# Get synthesized waveform for each instrument\u001b[0m\u001b[1;33m\u001b[0m\u001b[1;33m\u001b[0m\u001b[1;33m\u001b[0m\u001b[0m\n\u001b[0;32m    945\u001b[0m         waveforms = [i.fluidsynth(fs=fs,\n\u001b[1;32m--> 946\u001b[1;33m                                   sf2_path=sf2_path) for i in self.instruments]\n\u001b[0m\u001b[0;32m    947\u001b[0m         \u001b[1;31m# Allocate output waveform, with #sample = max length of all waveforms\u001b[0m\u001b[1;33m\u001b[0m\u001b[1;33m\u001b[0m\u001b[1;33m\u001b[0m\u001b[0m\n\u001b[0;32m    948\u001b[0m         \u001b[0msynthesized\u001b[0m \u001b[1;33m=\u001b[0m \u001b[0mnp\u001b[0m\u001b[1;33m.\u001b[0m\u001b[0mzeros\u001b[0m\u001b[1;33m(\u001b[0m\u001b[0mnp\u001b[0m\u001b[1;33m.\u001b[0m\u001b[0mmax\u001b[0m\u001b[1;33m(\u001b[0m\u001b[1;33m[\u001b[0m\u001b[0mw\u001b[0m\u001b[1;33m.\u001b[0m\u001b[0mshape\u001b[0m\u001b[1;33m[\u001b[0m\u001b[1;36m0\u001b[0m\u001b[1;33m]\u001b[0m \u001b[1;32mfor\u001b[0m \u001b[0mw\u001b[0m \u001b[1;32min\u001b[0m \u001b[0mwaveforms\u001b[0m\u001b[1;33m]\u001b[0m\u001b[1;33m)\u001b[0m\u001b[1;33m)\u001b[0m\u001b[1;33m\u001b[0m\u001b[1;33m\u001b[0m\u001b[0m\n",
      "\u001b[1;32m~\\AppData\\Local\\Programs\\Python\\Python37\\lib\\site-packages\\pretty_midi\\pretty_midi.py\u001b[0m in \u001b[0;36m<listcomp>\u001b[1;34m(.0)\u001b[0m\n\u001b[0;32m    944\u001b[0m         \u001b[1;31m# Get synthesized waveform for each instrument\u001b[0m\u001b[1;33m\u001b[0m\u001b[1;33m\u001b[0m\u001b[1;33m\u001b[0m\u001b[0m\n\u001b[0;32m    945\u001b[0m         waveforms = [i.fluidsynth(fs=fs,\n\u001b[1;32m--> 946\u001b[1;33m                                   sf2_path=sf2_path) for i in self.instruments]\n\u001b[0m\u001b[0;32m    947\u001b[0m         \u001b[1;31m# Allocate output waveform, with #sample = max length of all waveforms\u001b[0m\u001b[1;33m\u001b[0m\u001b[1;33m\u001b[0m\u001b[1;33m\u001b[0m\u001b[0m\n\u001b[0;32m    948\u001b[0m         \u001b[0msynthesized\u001b[0m \u001b[1;33m=\u001b[0m \u001b[0mnp\u001b[0m\u001b[1;33m.\u001b[0m\u001b[0mzeros\u001b[0m\u001b[1;33m(\u001b[0m\u001b[0mnp\u001b[0m\u001b[1;33m.\u001b[0m\u001b[0mmax\u001b[0m\u001b[1;33m(\u001b[0m\u001b[1;33m[\u001b[0m\u001b[0mw\u001b[0m\u001b[1;33m.\u001b[0m\u001b[0mshape\u001b[0m\u001b[1;33m[\u001b[0m\u001b[1;36m0\u001b[0m\u001b[1;33m]\u001b[0m \u001b[1;32mfor\u001b[0m \u001b[0mw\u001b[0m \u001b[1;32min\u001b[0m \u001b[0mwaveforms\u001b[0m\u001b[1;33m]\u001b[0m\u001b[1;33m)\u001b[0m\u001b[1;33m)\u001b[0m\u001b[1;33m\u001b[0m\u001b[1;33m\u001b[0m\u001b[0m\n",
      "\u001b[1;32m~\\AppData\\Local\\Programs\\Python\\Python37\\lib\\site-packages\\pretty_midi\\instrument.py\u001b[0m in \u001b[0;36mfluidsynth\u001b[1;34m(self, fs, sf2_path)\u001b[0m\n\u001b[0;32m    466\u001b[0m \u001b[1;33m\u001b[0m\u001b[0m\n\u001b[0;32m    467\u001b[0m         \u001b[1;31m# Create fluidsynth instance\u001b[0m\u001b[1;33m\u001b[0m\u001b[1;33m\u001b[0m\u001b[1;33m\u001b[0m\u001b[0m\n\u001b[1;32m--> 468\u001b[1;33m         \u001b[0mfl\u001b[0m \u001b[1;33m=\u001b[0m \u001b[0mfluidsynth\u001b[0m\u001b[1;33m.\u001b[0m\u001b[0mSynth\u001b[0m\u001b[1;33m(\u001b[0m\u001b[0msamplerate\u001b[0m\u001b[1;33m=\u001b[0m\u001b[0mfs\u001b[0m\u001b[1;33m)\u001b[0m\u001b[1;33m\u001b[0m\u001b[1;33m\u001b[0m\u001b[0m\n\u001b[0m\u001b[0;32m    469\u001b[0m         \u001b[1;31m# Load in the soundfont\u001b[0m\u001b[1;33m\u001b[0m\u001b[1;33m\u001b[0m\u001b[1;33m\u001b[0m\u001b[0m\n\u001b[0;32m    470\u001b[0m         \u001b[0msfid\u001b[0m \u001b[1;33m=\u001b[0m \u001b[0mfl\u001b[0m\u001b[1;33m.\u001b[0m\u001b[0msfload\u001b[0m\u001b[1;33m(\u001b[0m\u001b[0msf2_path\u001b[0m\u001b[1;33m)\u001b[0m\u001b[1;33m\u001b[0m\u001b[1;33m\u001b[0m\u001b[0m\n",
      "\u001b[1;31mAttributeError\u001b[0m: module 'fluidsynth' has no attribute 'Synth'"
     ]
    }
   ],
   "source": [
    "display_audio(pm)"
   ]
  },
  {
   "cell_type": "markdown",
   "metadata": {
    "id": "7Lqe7nOsIyh1"
   },
   "source": [
    "Do some inspection on the MIDI file. What kinds of instruments are used?"
   ]
  },
  {
   "cell_type": "code",
   "execution_count": 58,
   "metadata": {
    "execution": {
     "iopub.execute_input": "2022-06-28T01:21:53.537154Z",
     "iopub.status.busy": "2022-06-28T01:21:53.536907Z",
     "iopub.status.idle": "2022-06-28T01:21:53.541390Z",
     "shell.execute_reply": "2022-06-28T01:21:53.540798Z"
    },
    "id": "SIGHYQPZQnRo"
   },
   "outputs": [
    {
     "name": "stdout",
     "output_type": "stream",
     "text": [
      "Number of instruments: 1\n",
      "Instrument name: Acoustic Grand Piano\n"
     ]
    }
   ],
   "source": [
    "print('Number of instruments:', len(pm.instruments))\n",
    "instrument = pm.instruments[0]\n",
    "instrument_name = pretty_midi.program_to_instrument_name(instrument.program)\n",
    "print('Instrument name:', instrument_name)"
   ]
  },
  {
   "cell_type": "markdown",
   "metadata": {
    "id": "KVQfV2hVKB28"
   },
   "source": [
    "## Extract notes"
   ]
  },
  {
   "cell_type": "code",
   "execution_count": 59,
   "metadata": {
    "execution": {
     "iopub.execute_input": "2022-06-28T01:21:53.544433Z",
     "iopub.status.busy": "2022-06-28T01:21:53.543933Z",
     "iopub.status.idle": "2022-06-28T01:21:53.547869Z",
     "shell.execute_reply": "2022-06-28T01:21:53.547339Z"
    },
    "id": "nYZm_VehYOTZ"
   },
   "outputs": [
    {
     "name": "stdout",
     "output_type": "stream",
     "text": [
      "0: pitch=31, note_name=G1, duration=0.0656\n",
      "1: pitch=43, note_name=G2, duration=0.0792\n",
      "2: pitch=44, note_name=G#2, duration=0.0740\n",
      "3: pitch=32, note_name=G#1, duration=0.0729\n",
      "4: pitch=34, note_name=A#1, duration=0.0708\n",
      "5: pitch=46, note_name=A#2, duration=0.0948\n",
      "6: pitch=48, note_name=C3, duration=0.6260\n",
      "7: pitch=36, note_name=C2, duration=0.6542\n",
      "8: pitch=53, note_name=F3, duration=1.7667\n",
      "9: pitch=56, note_name=G#3, duration=1.7688\n"
     ]
    }
   ],
   "source": [
    "for i, note in enumerate(instrument.notes[:10]):\n",
    "  note_name = pretty_midi.note_number_to_name(note.pitch)\n",
    "  duration = note.end - note.start\n",
    "  print(f'{i}: pitch={note.pitch}, note_name={note_name},'\n",
    "        f' duration={duration:.4f}')"
   ]
  },
  {
   "cell_type": "markdown",
   "metadata": {
    "id": "jutzynyqX_GC"
   },
   "source": [
    "You will use three variables to represent a note when training the model: `pitch`, `step` and `duration`. The pitch is the perceptual quality of the sound as a MIDI note number. \n",
    "The `step` is the time elapsed from the previous note or start of the track.\n",
    "The `duration` is how long the note will be playing in seconds and is the difference between the note end and note start times. \n"
   ]
  },
  {
   "cell_type": "markdown",
   "metadata": {
    "id": "KGn7Juv_PTi6"
   },
   "source": [
    "Extract the notes from the sample MIDI file."
   ]
  },
  {
   "cell_type": "code",
   "execution_count": 60,
   "metadata": {
    "execution": {
     "iopub.execute_input": "2022-06-28T01:21:53.551148Z",
     "iopub.status.busy": "2022-06-28T01:21:53.550596Z",
     "iopub.status.idle": "2022-06-28T01:21:53.555943Z",
     "shell.execute_reply": "2022-06-28T01:21:53.555403Z"
    },
    "id": "Wyp_wdcEPWby"
   },
   "outputs": [],
   "source": [
    "def midi_to_notes(midi_file: str) -> pd.DataFrame:\n",
    "  pm = pretty_midi.PrettyMIDI(midi_file)\n",
    "  instrument = pm.instruments[0]\n",
    "  notes = collections.defaultdict(list)\n",
    "\n",
    "  # Sort the notes by start time\n",
    "  sorted_notes = sorted(instrument.notes, key=lambda note: note.start)\n",
    "  prev_start = sorted_notes[0].start\n",
    "\n",
    "  for note in sorted_notes:\n",
    "    start = note.start\n",
    "    end = note.end\n",
    "    notes['pitch'].append(note.pitch)\n",
    "    notes['start'].append(start)\n",
    "    notes['end'].append(end)\n",
    "    notes['velocity'].append(note.velocity)\n",
    "    notes['step'].append(start - prev_start)\n",
    "    notes['duration'].append(end - start)\n",
    "    prev_start = start\n",
    "\n",
    "  return pd.DataFrame({name: np.array(value) for name, value in notes.items()})"
   ]
  },
  {
   "cell_type": "code",
   "execution_count": 61,
   "metadata": {
    "execution": {
     "iopub.execute_input": "2022-06-28T01:21:53.558742Z",
     "iopub.status.busy": "2022-06-28T01:21:53.558291Z",
     "iopub.status.idle": "2022-06-28T01:21:53.701187Z",
     "shell.execute_reply": "2022-06-28T01:21:53.700579Z"
    },
    "id": "X0kPjLBlcnY6"
   },
   "outputs": [
    {
     "data": {
      "text/html": [
       "<div>\n",
       "<style scoped>\n",
       "    .dataframe tbody tr th:only-of-type {\n",
       "        vertical-align: middle;\n",
       "    }\n",
       "\n",
       "    .dataframe tbody tr th {\n",
       "        vertical-align: top;\n",
       "    }\n",
       "\n",
       "    .dataframe thead th {\n",
       "        text-align: right;\n",
       "    }\n",
       "</style>\n",
       "<table border=\"1\" class=\"dataframe\">\n",
       "  <thead>\n",
       "    <tr style=\"text-align: right;\">\n",
       "      <th></th>\n",
       "      <th>pitch</th>\n",
       "      <th>start</th>\n",
       "      <th>end</th>\n",
       "      <th>velocity</th>\n",
       "      <th>step</th>\n",
       "      <th>duration</th>\n",
       "    </tr>\n",
       "  </thead>\n",
       "  <tbody>\n",
       "    <tr>\n",
       "      <th>0</th>\n",
       "      <td>43</td>\n",
       "      <td>1.032292</td>\n",
       "      <td>1.111458</td>\n",
       "      <td>43</td>\n",
       "      <td>0.000000</td>\n",
       "      <td>0.079167</td>\n",
       "    </tr>\n",
       "    <tr>\n",
       "      <th>1</th>\n",
       "      <td>31</td>\n",
       "      <td>1.040625</td>\n",
       "      <td>1.106250</td>\n",
       "      <td>36</td>\n",
       "      <td>0.008333</td>\n",
       "      <td>0.065625</td>\n",
       "    </tr>\n",
       "    <tr>\n",
       "      <th>2</th>\n",
       "      <td>44</td>\n",
       "      <td>1.142708</td>\n",
       "      <td>1.216667</td>\n",
       "      <td>45</td>\n",
       "      <td>0.102083</td>\n",
       "      <td>0.073958</td>\n",
       "    </tr>\n",
       "    <tr>\n",
       "      <th>3</th>\n",
       "      <td>32</td>\n",
       "      <td>1.144792</td>\n",
       "      <td>1.217708</td>\n",
       "      <td>35</td>\n",
       "      <td>0.002083</td>\n",
       "      <td>0.072917</td>\n",
       "    </tr>\n",
       "    <tr>\n",
       "      <th>4</th>\n",
       "      <td>46</td>\n",
       "      <td>1.208333</td>\n",
       "      <td>1.303125</td>\n",
       "      <td>55</td>\n",
       "      <td>0.063542</td>\n",
       "      <td>0.094792</td>\n",
       "    </tr>\n",
       "  </tbody>\n",
       "</table>\n",
       "</div>"
      ],
      "text/plain": [
       "   pitch     start       end  velocity      step  duration\n",
       "0     43  1.032292  1.111458        43  0.000000  0.079167\n",
       "1     31  1.040625  1.106250        36  0.008333  0.065625\n",
       "2     44  1.142708  1.216667        45  0.102083  0.073958\n",
       "3     32  1.144792  1.217708        35  0.002083  0.072917\n",
       "4     46  1.208333  1.303125        55  0.063542  0.094792"
      ]
     },
     "execution_count": 61,
     "metadata": {},
     "output_type": "execute_result"
    }
   ],
   "source": [
    "raw_notes = midi_to_notes(sample_file)\n",
    "raw_notes.head()"
   ]
  },
  {
   "cell_type": "markdown",
   "metadata": {
    "id": "-71LPvjubOSO"
   },
   "source": [
    "It may be easier to interpret the note names rather than the pitches, so you can use the function below to convert from the numeric pitch values to note names. \n",
    "The note name shows the type of note, accidental and octave number\n",
    "(e.g. C#4). "
   ]
  },
  {
   "cell_type": "code",
   "execution_count": 62,
   "metadata": {
    "execution": {
     "iopub.execute_input": "2022-06-28T01:21:53.704205Z",
     "iopub.status.busy": "2022-06-28T01:21:53.703936Z",
     "iopub.status.idle": "2022-06-28T01:21:53.729487Z",
     "shell.execute_reply": "2022-06-28T01:21:53.728950Z"
    },
    "id": "WE9YXrGZbY2X"
   },
   "outputs": [
    {
     "data": {
      "text/plain": [
       "array(['G2', 'G1', 'G#2', 'G#1', 'A#2', 'A#1', 'C3', 'C2', 'F3', 'D4'],\n",
       "      dtype='<U3')"
      ]
     },
     "execution_count": 62,
     "metadata": {},
     "output_type": "execute_result"
    }
   ],
   "source": [
    "get_note_names = np.vectorize(pretty_midi.note_number_to_name)\n",
    "sample_note_names = get_note_names(raw_notes['pitch'])\n",
    "sample_note_names[:10]"
   ]
  },
  {
   "cell_type": "markdown",
   "metadata": {
    "id": "Q7sjqbp1e_f-"
   },
   "source": [
    "To visualize the musical piece, plot the note pitch, start and end across the length of the track (i.e. piano roll). Start with the first 100 notes"
   ]
  },
  {
   "cell_type": "code",
   "execution_count": 63,
   "metadata": {
    "execution": {
     "iopub.execute_input": "2022-06-28T01:21:53.732648Z",
     "iopub.status.busy": "2022-06-28T01:21:53.732105Z",
     "iopub.status.idle": "2022-06-28T01:21:53.736915Z",
     "shell.execute_reply": "2022-06-28T01:21:53.736425Z"
    },
    "id": "liD2N7x_WOTp"
   },
   "outputs": [],
   "source": [
    "def plot_piano_roll(notes: pd.DataFrame, count: Optional[int] = None):\n",
    "  if count:\n",
    "    title = f'First {count} notes'\n",
    "  else:\n",
    "    title = f'Whole track'\n",
    "    count = len(notes['pitch'])\n",
    "  plt.figure(figsize=(20, 4))\n",
    "  plot_pitch = np.stack([notes['pitch'], notes['pitch']], axis=0)\n",
    "  plot_start_stop = np.stack([notes['start'], notes['end']], axis=0)\n",
    "  plt.plot(\n",
    "      plot_start_stop[:, :count], plot_pitch[:, :count], color=\"b\", marker=\".\")\n",
    "  plt.xlabel('Time [s]')\n",
    "  plt.ylabel('Pitch')\n",
    "  _ = plt.title(title)"
   ]
  },
  {
   "cell_type": "code",
   "execution_count": 64,
   "metadata": {
    "execution": {
     "iopub.execute_input": "2022-06-28T01:21:53.739586Z",
     "iopub.status.busy": "2022-06-28T01:21:53.739360Z",
     "iopub.status.idle": "2022-06-28T01:21:53.994584Z",
     "shell.execute_reply": "2022-06-28T01:21:53.993977Z"
    },
    "id": "vWeUbqmAXjOs"
   },
   "outputs": [
    {
     "data": {
      "image/png": "[encoded data removed]",
      "text/plain": [
       "<Figure size 1440x288 with 1 Axes>"
      ]
     },
     "metadata": {
      "needs_background": "light"
     },
     "output_type": "display_data"
    }
   ],
   "source": [
    "plot_piano_roll(raw_notes, count=100)"
   ]
  },
  {
   "cell_type": "markdown",
   "metadata": {
    "id": "gcUyCXYhXeVA"
   },
   "source": [
    "Plot the notes for the entire track."
   ]
  },
  {
   "cell_type": "code",
   "execution_count": 65,
   "metadata": {
    "execution": {
     "iopub.execute_input": "2022-06-28T01:21:53.997593Z",
     "iopub.status.busy": "2022-06-28T01:21:53.997358Z",
     "iopub.status.idle": "2022-06-28T01:21:58.361176Z",
     "shell.execute_reply": "2022-06-28T01:21:58.360442Z"
    },
    "id": "G7l76hEDZX8Z"
   },
   "outputs": [
    {
     "data": {
      "image/png": "[encoded data removed]",
      "text/plain": [
       "<Figure size 1440x288 with 1 Axes>"
      ]
     },
     "metadata": {
      "needs_background": "light"
     },
     "output_type": "display_data"
    }
   ],
   "source": [
    "plot_piano_roll(raw_notes)"
   ]
  },
  {
   "cell_type": "markdown",
   "metadata": {
    "id": "5GM1bi3aX8rd"
   },
   "source": [
    "Check the distribution of each note variable."
   ]
  },
  {
   "cell_type": "code",
   "execution_count": 66,
   "metadata": {
    "execution": {
     "iopub.execute_input": "2022-06-28T01:21:58.365098Z",
     "iopub.status.busy": "2022-06-28T01:21:58.364569Z",
     "iopub.status.idle": "2022-06-28T01:21:58.369422Z",
     "shell.execute_reply": "2022-06-28T01:21:58.368863Z"
    },
    "id": "Pq9C9XBBaK7W"
   },
   "outputs": [],
   "source": [
    "def plot_distributions(notes: pd.DataFrame, drop_percentile=2.5):\n",
    "  plt.figure(figsize=[15, 5])\n",
    "  plt.subplot(1, 3, 1)\n",
    "  sns.histplot(notes, x=\"pitch\", bins=20)\n",
    "\n",
    "  plt.subplot(1, 3, 2)\n",
    "  max_step = np.percentile(notes['step'], 100 - drop_percentile)\n",
    "  sns.histplot(notes, x=\"step\", bins=np.linspace(0, max_step, 21))\n",
    "  \n",
    "  plt.subplot(1, 3, 3)\n",
    "  max_duration = np.percentile(notes['duration'], 100 - drop_percentile)\n",
    "  sns.histplot(notes, x=\"duration\", bins=np.linspace(0, max_duration, 21))"
   ]
  },
  {
   "cell_type": "code",
   "execution_count": 67,
   "metadata": {
    "execution": {
     "iopub.execute_input": "2022-06-28T01:21:58.372665Z",
     "iopub.status.busy": "2022-06-28T01:21:58.372093Z",
     "iopub.status.idle": "2022-06-28T01:21:58.695913Z",
     "shell.execute_reply": "2022-06-28T01:21:58.695301Z"
    },
    "id": "-Nu2Pw24acFD"
   },
   "outputs": [
    {
     "data": {
      "image/png": "[encoded data removed]",
      "text/plain": [
       "<Figure size 1080x360 with 3 Axes>"
      ]
     },
     "metadata": {
      "needs_background": "light"
     },
     "output_type": "display_data"
    }
   ],
   "source": [
    "plot_distributions(raw_notes)"
   ]
  },
  {
   "cell_type": "markdown",
   "metadata": {
    "id": "poIivompcfS4"
   },
   "source": [
    "## Create a MIDI file\n",
    "\n",
    "You can generate your own MIDI file from a list of notes using the function below."
   ]
  },
  {
   "cell_type": "code",
   "execution_count": 68,
   "metadata": {
    "execution": {
     "iopub.execute_input": "2022-06-28T01:21:58.699250Z",
     "iopub.status.busy": "2022-06-28T01:21:58.698720Z",
     "iopub.status.idle": "2022-06-28T01:21:58.703904Z",
     "shell.execute_reply": "2022-06-28T01:21:58.703283Z"
    },
    "id": "BD5rsMRARYoV"
   },
   "outputs": [],
   "source": [
    "def notes_to_midi(\n",
    "  notes: pd.DataFrame,\n",
    "  out_file: str, \n",
    "  instrument_name: str,\n",
    "  velocity: int = 100,  # note loudness\n",
    ") -> pretty_midi.PrettyMIDI:\n",
    "\n",
    "  pm = pretty_midi.PrettyMIDI()\n",
    "  instrument = pretty_midi.Instrument(\n",
    "      program=pretty_midi.instrument_name_to_program(\n",
    "          instrument_name))\n",
    "\n",
    "  prev_start = 0\n",
    "  for i, note in notes.iterrows():\n",
    "    start = float(prev_start + note['step'])\n",
    "    end = float(start + note['duration'])\n",
    "    note = pretty_midi.Note(\n",
    "        velocity=velocity,\n",
    "        pitch=int(note['pitch']),\n",
    "        start=start,\n",
    "        end=end,\n",
    "    )\n",
    "    instrument.notes.append(note)\n",
    "    prev_start = start\n",
    "\n",
    "  pm.instruments.append(instrument)\n",
    "  pm.write(out_file)\n",
    "  return pm"
   ]
  },
  {
   "cell_type": "code",
   "execution_count": 69,
   "metadata": {
    "execution": {
     "iopub.execute_input": "2022-06-28T01:21:58.706874Z",
     "iopub.status.busy": "2022-06-28T01:21:58.706397Z",
     "iopub.status.idle": "2022-06-28T01:21:59.126506Z",
     "shell.execute_reply": "2022-06-28T01:21:59.125888Z"
    },
    "id": "wTazLbuWPIPF"
   },
   "outputs": [],
   "source": [
    "example_file = 'example.midi'\n",
    "example_pm = notes_to_midi(\n",
    "    raw_notes, out_file=example_file, instrument_name=instrument_name)"
   ]
  },
  {
   "cell_type": "markdown",
   "metadata": {
    "id": "XG0N9zZV_4Gp"
   },
   "source": [
    "Play the generated MIDI file and see if there is any difference."
   ]
  },
  {
   "cell_type": "code",
   "execution_count": 70,
   "metadata": {
    "execution": {
     "iopub.execute_input": "2022-06-28T01:21:59.130418Z",
     "iopub.status.busy": "2022-06-28T01:21:59.129827Z",
     "iopub.status.idle": "2022-06-28T01:22:01.907169Z",
     "shell.execute_reply": "2022-06-28T01:22:01.906551Z"
    },
    "id": "fGRLs-eR_4uK"
   },
   "outputs": [
    {
     "ename": "AttributeError",
     "evalue": "module 'fluidsynth' has no attribute 'Synth'",
     "output_type": "error",
     "traceback": [
      "\u001b[1;31m---------------------------------------------------------------------------\u001b[0m",
      "\u001b[1;31mAttributeError\u001b[0m                            Traceback (most recent call last)",
      "\u001b[1;32m~\\AppData\\Local\\Temp\\ipykernel_7984\\3075897330.py\u001b[0m in \u001b[0;36m<module>\u001b[1;34m\u001b[0m\n\u001b[1;32m----> 1\u001b[1;33m \u001b[0mdisplay_audio\u001b[0m\u001b[1;33m(\u001b[0m\u001b[0mexample_pm\u001b[0m\u001b[1;33m)\u001b[0m\u001b[1;33m\u001b[0m\u001b[1;33m\u001b[0m\u001b[0m\n\u001b[0m",
      "\u001b[1;32m~\\AppData\\Local\\Temp\\ipykernel_7984\\1630508493.py\u001b[0m in \u001b[0;36mdisplay_audio\u001b[1;34m(pm, seconds)\u001b[0m\n\u001b[0;32m      1\u001b[0m \u001b[1;32mdef\u001b[0m \u001b[0mdisplay_audio\u001b[0m\u001b[1;33m(\u001b[0m\u001b[0mpm\u001b[0m\u001b[1;33m:\u001b[0m \u001b[0mpretty_midi\u001b[0m\u001b[1;33m.\u001b[0m\u001b[0mPrettyMIDI\u001b[0m\u001b[1;33m,\u001b[0m \u001b[0mseconds\u001b[0m\u001b[1;33m=\u001b[0m\u001b[1;36m30\u001b[0m\u001b[1;33m)\u001b[0m\u001b[1;33m:\u001b[0m\u001b[1;33m\u001b[0m\u001b[1;33m\u001b[0m\u001b[0m\n\u001b[1;32m----> 2\u001b[1;33m   \u001b[0mwaveform\u001b[0m \u001b[1;33m=\u001b[0m \u001b[0mpm\u001b[0m\u001b[1;33m.\u001b[0m\u001b[0mfluidsynth\u001b[0m\u001b[1;33m(\u001b[0m\u001b[0mfs\u001b[0m\u001b[1;33m=\u001b[0m\u001b[0m_SAMPLING_RATE\u001b[0m\u001b[1;33m)\u001b[0m\u001b[1;33m\u001b[0m\u001b[1;33m\u001b[0m\u001b[0m\n\u001b[0m\u001b[0;32m      3\u001b[0m   \u001b[1;31m# Take a sample of the generated waveform to mitigate kernel resets\u001b[0m\u001b[1;33m\u001b[0m\u001b[1;33m\u001b[0m\u001b[1;33m\u001b[0m\u001b[0m\n\u001b[0;32m      4\u001b[0m   \u001b[0mwaveform_short\u001b[0m \u001b[1;33m=\u001b[0m \u001b[0mwaveform\u001b[0m\u001b[1;33m[\u001b[0m\u001b[1;33m:\u001b[0m\u001b[0mseconds\u001b[0m\u001b[1;33m*\u001b[0m\u001b[0m_SAMPLING_RATE\u001b[0m\u001b[1;33m]\u001b[0m\u001b[1;33m\u001b[0m\u001b[1;33m\u001b[0m\u001b[0m\n\u001b[0;32m      5\u001b[0m   \u001b[1;32mreturn\u001b[0m \u001b[0mdisplay\u001b[0m\u001b[1;33m.\u001b[0m\u001b[0mAudio\u001b[0m\u001b[1;33m(\u001b[0m\u001b[0mwaveform_short\u001b[0m\u001b[1;33m,\u001b[0m \u001b[0mrate\u001b[0m\u001b[1;33m=\u001b[0m\u001b[0m_SAMPLING_RATE\u001b[0m\u001b[1;33m)\u001b[0m\u001b[1;33m\u001b[0m\u001b[1;33m\u001b[0m\u001b[0m\n",
      "\u001b[1;32m~\\AppData\\Local\\Programs\\Python\\Python37\\lib\\site-packages\\pretty_midi\\pretty_midi.py\u001b[0m in \u001b[0;36mfluidsynth\u001b[1;34m(self, fs, sf2_path)\u001b[0m\n\u001b[0;32m    944\u001b[0m         \u001b[1;31m# Get synthesized waveform for each instrument\u001b[0m\u001b[1;33m\u001b[0m\u001b[1;33m\u001b[0m\u001b[1;33m\u001b[0m\u001b[0m\n\u001b[0;32m    945\u001b[0m         waveforms = [i.fluidsynth(fs=fs,\n\u001b[1;32m--> 946\u001b[1;33m                                   sf2_path=sf2_path) for i in self.instruments]\n\u001b[0m\u001b[0;32m    947\u001b[0m         \u001b[1;31m# Allocate output waveform, with #sample = max length of all waveforms\u001b[0m\u001b[1;33m\u001b[0m\u001b[1;33m\u001b[0m\u001b[1;33m\u001b[0m\u001b[0m\n\u001b[0;32m    948\u001b[0m         \u001b[0msynthesized\u001b[0m \u001b[1;33m=\u001b[0m \u001b[0mnp\u001b[0m\u001b[1;33m.\u001b[0m\u001b[0mzeros\u001b[0m\u001b[1;33m(\u001b[0m\u001b[0mnp\u001b[0m\u001b[1;33m.\u001b[0m\u001b[0mmax\u001b[0m\u001b[1;33m(\u001b[0m\u001b[1;33m[\u001b[0m\u001b[0mw\u001b[0m\u001b[1;33m.\u001b[0m\u001b[0mshape\u001b[0m\u001b[1;33m[\u001b[0m\u001b[1;36m0\u001b[0m\u001b[1;33m]\u001b[0m \u001b[1;32mfor\u001b[0m \u001b[0mw\u001b[0m \u001b[1;32min\u001b[0m \u001b[0mwaveforms\u001b[0m\u001b[1;33m]\u001b[0m\u001b[1;33m)\u001b[0m\u001b[1;33m)\u001b[0m\u001b[1;33m\u001b[0m\u001b[1;33m\u001b[0m\u001b[0m\n",
      "\u001b[1;32m~\\AppData\\Local\\Programs\\Python\\Python37\\lib\\site-packages\\pretty_midi\\pretty_midi.py\u001b[0m in \u001b[0;36m<listcomp>\u001b[1;34m(.0)\u001b[0m\n\u001b[0;32m    944\u001b[0m         \u001b[1;31m# Get synthesized waveform for each instrument\u001b[0m\u001b[1;33m\u001b[0m\u001b[1;33m\u001b[0m\u001b[1;33m\u001b[0m\u001b[0m\n\u001b[0;32m    945\u001b[0m         waveforms = [i.fluidsynth(fs=fs,\n\u001b[1;32m--> 946\u001b[1;33m                                   sf2_path=sf2_path) for i in self.instruments]\n\u001b[0m\u001b[0;32m    947\u001b[0m         \u001b[1;31m# Allocate output waveform, with #sample = max length of all waveforms\u001b[0m\u001b[1;33m\u001b[0m\u001b[1;33m\u001b[0m\u001b[1;33m\u001b[0m\u001b[0m\n\u001b[0;32m    948\u001b[0m         \u001b[0msynthesized\u001b[0m \u001b[1;33m=\u001b[0m \u001b[0mnp\u001b[0m\u001b[1;33m.\u001b[0m\u001b[0mzeros\u001b[0m\u001b[1;33m(\u001b[0m\u001b[0mnp\u001b[0m\u001b[1;33m.\u001b[0m\u001b[0mmax\u001b[0m\u001b[1;33m(\u001b[0m\u001b[1;33m[\u001b[0m\u001b[0mw\u001b[0m\u001b[1;33m.\u001b[0m\u001b[0mshape\u001b[0m\u001b[1;33m[\u001b[0m\u001b[1;36m0\u001b[0m\u001b[1;33m]\u001b[0m \u001b[1;32mfor\u001b[0m \u001b[0mw\u001b[0m \u001b[1;32min\u001b[0m \u001b[0mwaveforms\u001b[0m\u001b[1;33m]\u001b[0m\u001b[1;33m)\u001b[0m\u001b[1;33m)\u001b[0m\u001b[1;33m\u001b[0m\u001b[1;33m\u001b[0m\u001b[0m\n",
      "\u001b[1;32m~\\AppData\\Local\\Programs\\Python\\Python37\\lib\\site-packages\\pretty_midi\\instrument.py\u001b[0m in \u001b[0;36mfluidsynth\u001b[1;34m(self, fs, sf2_path)\u001b[0m\n\u001b[0;32m    466\u001b[0m \u001b[1;33m\u001b[0m\u001b[0m\n\u001b[0;32m    467\u001b[0m         \u001b[1;31m# Create fluidsynth instance\u001b[0m\u001b[1;33m\u001b[0m\u001b[1;33m\u001b[0m\u001b[1;33m\u001b[0m\u001b[0m\n\u001b[1;32m--> 468\u001b[1;33m         \u001b[0mfl\u001b[0m \u001b[1;33m=\u001b[0m \u001b[0mfluidsynth\u001b[0m\u001b[1;33m.\u001b[0m\u001b[0mSynth\u001b[0m\u001b[1;33m(\u001b[0m\u001b[0msamplerate\u001b[0m\u001b[1;33m=\u001b[0m\u001b[0mfs\u001b[0m\u001b[1;33m)\u001b[0m\u001b[1;33m\u001b[0m\u001b[1;33m\u001b[0m\u001b[0m\n\u001b[0m\u001b[0;32m    469\u001b[0m         \u001b[1;31m# Load in the soundfont\u001b[0m\u001b[1;33m\u001b[0m\u001b[1;33m\u001b[0m\u001b[1;33m\u001b[0m\u001b[0m\n\u001b[0;32m    470\u001b[0m         \u001b[0msfid\u001b[0m \u001b[1;33m=\u001b[0m \u001b[0mfl\u001b[0m\u001b[1;33m.\u001b[0m\u001b[0msfload\u001b[0m\u001b[1;33m(\u001b[0m\u001b[0msf2_path\u001b[0m\u001b[1;33m)\u001b[0m\u001b[1;33m\u001b[0m\u001b[1;33m\u001b[0m\u001b[0m\n",
      "\u001b[1;31mAttributeError\u001b[0m: module 'fluidsynth' has no attribute 'Synth'"
     ]
    }
   ],
   "source": [
    "display_audio(example_pm)"
   ]
  },
  {
   "cell_type": "markdown",
   "metadata": {
    "id": "CLrUscjhBzYc"
   },
   "source": [
    "As before, you can write ```files.download(example_file)``` to download and play this file."
   ]
  },
  {
   "cell_type": "markdown",
   "metadata": {
    "id": "pfRNk9tEScuf"
   },
   "source": [
    "## Create the training dataset\n"
   ]
  },
  {
   "cell_type": "markdown",
   "metadata": {
    "id": "b77zHR1udDrK"
   },
   "source": [
    "Create the training dataset by extracting notes from the MIDI files. You can start by using a small number of files, and experiment later with more. This may take a couple minutes."
   ]
  },
  {
   "cell_type": "code",
   "execution_count": 71,
   "metadata": {
    "execution": {
     "iopub.execute_input": "2022-06-28T01:22:01.926726Z",
     "iopub.status.busy": "2022-06-28T01:22:01.926003Z",
     "iopub.status.idle": "2022-06-28T01:22:02.732087Z",
     "shell.execute_reply": "2022-06-28T01:22:02.731438Z"
    },
    "id": "GiaQiTnXSW-T"
   },
   "outputs": [],
   "source": [
    "num_files = 50\n",
    "all_notes = []\n",
    "for f in filenames[:num_files]:\n",
    "  notes = midi_to_notes(f)\n",
    "  all_notes.append(notes)\n",
    "\n",
    "all_notes = pd.concat(all_notes)"
   ]
  },
  {
   "cell_type": "code",
   "execution_count": 72,
   "metadata": {
    "execution": {
     "iopub.execute_input": "2022-06-28T01:22:02.735963Z",
     "iopub.status.busy": "2022-06-28T01:22:02.735714Z",
     "iopub.status.idle": "2022-06-28T01:22:02.739250Z",
     "shell.execute_reply": "2022-06-28T01:22:02.738659Z"
    },
    "id": "F4bMDeRvgWqx"
   },
   "outputs": [
    {
     "name": "stdout",
     "output_type": "stream",
     "text": [
      "Number of notes parsed: 299680\n"
     ]
    }
   ],
   "source": [
    "n_notes = len(all_notes)\n",
    "print('Number of notes parsed:', n_notes)"
   ]
  },
  {
   "cell_type": "markdown",
   "metadata": {
    "id": "xIBLvj-cODWS"
   },
   "source": [
    "Next, create a `tf.data.Dataset` from the parsed notes."
   ]
  },
  {
   "cell_type": "code",
   "execution_count": 73,
   "metadata": {
    "execution": {
     "iopub.execute_input": "2022-06-28T01:22:02.742494Z",
     "iopub.status.busy": "2022-06-28T01:22:02.741997Z",
     "iopub.status.idle": "2022-06-28T01:22:02.745893Z",
     "shell.execute_reply": "2022-06-28T01:22:02.745366Z"
    },
    "id": "mvNHCHZdXG2P"
   },
   "outputs": [],
   "source": [
    "key_order = ['pitch', 'velocity', 'step', 'duration']\n",
    "train_notes = np.stack([all_notes[key] for key in key_order], axis=1)"
   ]
  },
  {
   "cell_type": "code",
   "execution_count": 74,
   "metadata": {
    "execution": {
     "iopub.execute_input": "2022-06-28T01:22:02.748793Z",
     "iopub.status.busy": "2022-06-28T01:22:02.748321Z",
     "iopub.status.idle": "2022-06-28T01:22:05.718819Z",
     "shell.execute_reply": "2022-06-28T01:22:05.718251Z"
    },
    "id": "PLC_19tshyFk"
   },
   "outputs": [
    {
     "data": {
      "text/plain": [
       "TensorSpec(shape=(4,), dtype=tf.float64, name=None)"
      ]
     },
     "execution_count": 74,
     "metadata": {},
     "output_type": "execute_result"
    }
   ],
   "source": [
    "notes_ds = tf.data.Dataset.from_tensor_slices(train_notes)\n",
    "notes_ds.element_spec"
   ]
  },
  {
   "cell_type": "markdown",
   "metadata": {
    "id": "Sj9SXRCjt3I7"
   },
   "source": [
    "You will train the model on batches of sequences of notes. Each example will consist of a sequence of notes as the input features, and the next note as the label. In this way, the model will be trained to predict the next note in a sequence. You can find a diagram describing this process (and more details) in [Text classification with an RNN](https://www.tensorflow.org/text/tutorials/text_generation).\n",
    "\n",
    "You can use the handy [window](https://www.tensorflow.org/api_docs/python/tf/data/Dataset#window) function with size `seq_length` to create the features and labels in this format."
   ]
  },
  {
   "cell_type": "code",
   "execution_count": 106,
   "metadata": {
    "execution": {
     "iopub.execute_input": "2022-06-28T01:22:05.722272Z",
     "iopub.status.busy": "2022-06-28T01:22:05.721706Z",
     "iopub.status.idle": "2022-06-28T01:22:05.727520Z",
     "shell.execute_reply": "2022-06-28T01:22:05.726965Z"
    },
    "id": "ZkEC-5s6wJJV"
   },
   "outputs": [],
   "source": [
    "def create_sequences(\n",
    "    dataset: tf.data.Dataset, \n",
    "    seq_length: int,\n",
    "    vocab_size = 128,\n",
    ") -> tf.data.Dataset:\n",
    "  \"\"\"Returns TF Dataset of sequence and label examples.\"\"\"\n",
    "  seq_length = seq_length+1\n",
    "\n",
    "  # Take 1 extra for the labels\n",
    "  windows = dataset.window(seq_length, shift=1, stride=1,\n",
    "                              drop_remainder=True)\n",
    "\n",
    "  # `flat_map` flattens the\" dataset of datasets\" into a dataset of tensors\n",
    "  flatten = lambda x: x.batch(seq_length, drop_remainder=True)\n",
    "  sequences = windows.flat_map(flatten)\n",
    "  \n",
    "  # Normalize note pitch\n",
    "  def scale_pitch(x):\n",
    "    x = x/[vocab_size,vocab_size,1.0,1.0]\n",
    "    return x\n",
    "\n",
    "  # Split the labels\n",
    "  def split_labels(sequences):\n",
    "    inputs = sequences[:-1]\n",
    "    labels_dense = sequences[-1]\n",
    "    labels = {key:labels_dense[i] for i,key in enumerate(key_order)}\n",
    "\n",
    "    return scale_pitch(inputs), labels\n",
    "\n",
    "  return sequences.map(split_labels, num_parallel_calls=tf.data.AUTOTUNE)"
   ]
  },
  {
   "cell_type": "markdown",
   "metadata": {
    "id": "2xDX5pVkegrv"
   },
   "source": [
    "Set the sequence length for each example. Experiment with different lengths (e.g. 50, 100, 150) to see which one works best for the data, or use [hyperparameter tuning](https://www.tensorflow.org/tutorials/keras/keras_tuner). The size of the vocabulary (`vocab_size`) is set to 128 representing all the pitches supported by `pretty_midi`."
   ]
  },
  {
   "cell_type": "code",
   "execution_count": 107,
   "metadata": {
    "execution": {
     "iopub.execute_input": "2022-06-28T01:22:05.730515Z",
     "iopub.status.busy": "2022-06-28T01:22:05.730038Z",
     "iopub.status.idle": "2022-06-28T01:22:05.825269Z",
     "shell.execute_reply": "2022-06-28T01:22:05.824673Z"
    },
    "id": "fGA3VxcFXZ4T"
   },
   "outputs": [
    {
     "data": {
      "text/plain": [
       "(TensorSpec(shape=(25, 4), dtype=tf.float64, name=None),\n",
       " {'pitch': TensorSpec(shape=(), dtype=tf.float64, name=None),\n",
       "  'velocity': TensorSpec(shape=(), dtype=tf.float64, name=None),\n",
       "  'step': TensorSpec(shape=(), dtype=tf.float64, name=None),\n",
       "  'duration': TensorSpec(shape=(), dtype=tf.float64, name=None)})"
      ]
     },
     "execution_count": 107,
     "metadata": {},
     "output_type": "execute_result"
    }
   ],
   "source": [
    "seq_length = 25\n",
    "vocab_size = 128\n",
    "seq_ds = create_sequences(notes_ds, seq_length, vocab_size)\n",
    "seq_ds.element_spec"
   ]
  },
  {
   "cell_type": "markdown",
   "metadata": {
    "id": "AX9nKmSYetGo"
   },
   "source": [
    "The shape of the dataset is ```(100,1)```, meaning that the model will take 100 notes as input, and learn to predict the following note as output."
   ]
  },
  {
   "cell_type": "code",
   "execution_count": 108,
   "metadata": {
    "execution": {
     "iopub.execute_input": "2022-06-28T01:22:05.828822Z",
     "iopub.status.busy": "2022-06-28T01:22:05.828249Z",
     "iopub.status.idle": "2022-06-28T01:22:05.863476Z",
     "shell.execute_reply": "2022-06-28T01:22:05.862849Z"
    },
    "id": "ESK9cL7__TF3"
   },
   "outputs": [
    {
     "name": "stdout",
     "output_type": "stream",
     "text": [
      "sequence shape: (25, 4)\n",
      "sequence elements (first 10): tf.Tensor(\n",
      "[[0.5546875  0.46875    0.         0.096875  ]\n",
      " [0.4296875  0.34375    0.18645833 0.21770833]\n",
      " [0.5546875  0.421875   0.009375   0.50520833]\n",
      " [0.4609375  0.4296875  0.175      0.16770833]\n",
      " [0.484375   0.40625    0.16979167 0.11979167]\n",
      " [0.5625     0.59375    0.153125   0.04166667]\n",
      " [0.5234375  0.4375     0.01666667 0.196875  ]\n",
      " [0.578125   0.53125    0.18020833 0.11458333]\n",
      " [0.4453125  0.4765625  0.         0.53958333]\n",
      " [0.5625     0.6015625  0.05416667 0.06875   ]], shape=(10, 4), dtype=float64)\n",
      "\n",
      "target: {'pitch': <tf.Tensor: shape=(), dtype=float64, numpy=59.0>, 'velocity': <tf.Tensor: shape=(), dtype=float64, numpy=58.0>, 'step': <tf.Tensor: shape=(), dtype=float64, numpy=0.008333333333333304>, 'duration': <tf.Tensor: shape=(), dtype=float64, numpy=0.15937500000000027>}\n"
     ]
    }
   ],
   "source": [
    "for seq, target in seq_ds.take(1):\n",
    "  print('sequence shape:', seq.shape)\n",
    "  print('sequence elements (first 10):', seq[0: 10])\n",
    "  print()\n",
    "  print('target:', target)"
   ]
  },
  {
   "cell_type": "markdown",
   "metadata": {
    "id": "kR3TVZZGk5Qq"
   },
   "source": [
    "Batch the examples, and configure the dataset for performance."
   ]
  },
  {
   "cell_type": "code",
   "execution_count": 109,
   "metadata": {
    "execution": {
     "iopub.execute_input": "2022-06-28T01:22:05.866812Z",
     "iopub.status.busy": "2022-06-28T01:22:05.866296Z",
     "iopub.status.idle": "2022-06-28T01:22:05.873164Z",
     "shell.execute_reply": "2022-06-28T01:22:05.872612Z"
    },
    "id": "fTpFoiM_AV_Y"
   },
   "outputs": [],
   "source": [
    "batch_size = 64\n",
    "buffer_size = n_notes - seq_length  # the number of items in the dataset\n",
    "train_ds = (seq_ds\n",
    "            .shuffle(buffer_size)\n",
    "            .batch(batch_size, drop_remainder=True)\n",
    "            .cache()\n",
    "            .prefetch(tf.data.experimental.AUTOTUNE))"
   ]
  },
  {
   "cell_type": "code",
   "execution_count": 110,
   "metadata": {
    "execution": {
     "iopub.execute_input": "2022-06-28T01:22:05.876182Z",
     "iopub.status.busy": "2022-06-28T01:22:05.875916Z",
     "iopub.status.idle": "2022-06-28T01:22:05.879796Z",
     "shell.execute_reply": "2022-06-28T01:22:05.879185Z"
    },
    "id": "LySbjV0GzXQu"
   },
   "outputs": [
    {
     "data": {
      "text/plain": [
       "(TensorSpec(shape=(64, 25, 4), dtype=tf.float64, name=None),\n",
       " {'pitch': TensorSpec(shape=(64,), dtype=tf.float64, name=None),\n",
       "  'velocity': TensorSpec(shape=(64,), dtype=tf.float64, name=None),\n",
       "  'step': TensorSpec(shape=(64,), dtype=tf.float64, name=None),\n",
       "  'duration': TensorSpec(shape=(64,), dtype=tf.float64, name=None)})"
      ]
     },
     "execution_count": 110,
     "metadata": {},
     "output_type": "execute_result"
    }
   ],
   "source": [
    "train_ds.element_spec"
   ]
  },
  {
   "cell_type": "markdown",
   "metadata": {
    "id": "cWZmfkshqP8G"
   },
   "source": [
    "## Create and train the model"
   ]
  },
  {
   "cell_type": "markdown",
   "metadata": {
    "id": "iGQn32q-hdK2"
   },
   "source": [
    "The model will have three outputs, one for each note variable. For `step` and `duration`, you will use a custom loss function based on mean squared error that encourages the model to output non-negative values."
   ]
  },
  {
   "cell_type": "code",
   "execution_count": 111,
   "metadata": {
    "execution": {
     "iopub.execute_input": "2022-06-28T01:22:05.882677Z",
     "iopub.status.busy": "2022-06-28T01:22:05.882301Z",
     "iopub.status.idle": "2022-06-28T01:22:05.885756Z",
     "shell.execute_reply": "2022-06-28T01:22:05.885250Z"
    },
    "id": "erxLOif08e8v"
   },
   "outputs": [],
   "source": [
    "def mse_with_positive_pressure(y_true: tf.Tensor, y_pred: tf.Tensor):\n",
    "  mse = (y_true - y_pred) ** 2\n",
    "  positive_pressure = 10 * tf.maximum(-y_pred, 0.0)\n",
    "  return tf.reduce_mean(mse + positive_pressure)"
   ]
  },
  {
   "cell_type": "code",
   "execution_count": 119,
   "metadata": {
    "execution": {
     "iopub.execute_input": "2022-06-28T01:22:05.888632Z",
     "iopub.status.busy": "2022-06-28T01:22:05.888186Z",
     "iopub.status.idle": "2022-06-28T01:22:06.128851Z",
     "shell.execute_reply": "2022-06-28T01:22:06.128257Z"
    },
    "id": "kNaVWcCzAm5V"
   },
   "outputs": [
    {
     "name": "stdout",
     "output_type": "stream",
     "text": [
      "Model: \"model_3\"\n",
      "__________________________________________________________________________________________________\n",
      " Layer (type)                   Output Shape         Param #     Connected to                     \n",
      "==================================================================================================\n",
      " input_4 (InputLayer)           [(None, 25, 4)]      0           []                               \n",
      "                                                                                                  \n",
      " lstm_3 (LSTM)                  (None, 128)          68096       ['input_4[0][0]']                \n",
      "                                                                                                  \n",
      " duration (Dense)               (None, 1)            129         ['lstm_3[0][0]']                 \n",
      "                                                                                                  \n",
      " pitch (Dense)                  (None, 128)          16512       ['lstm_3[0][0]']                 \n",
      "                                                                                                  \n",
      " step (Dense)                   (None, 1)            129         ['lstm_3[0][0]']                 \n",
      "                                                                                                  \n",
      " velocity (Dense)               (None, 128)          16512       ['lstm_3[0][0]']                 \n",
      "                                                                                                  \n",
      "==================================================================================================\n",
      "Total params: 101,378\n",
      "Trainable params: 101,378\n",
      "Non-trainable params: 0\n",
      "__________________________________________________________________________________________________\n"
     ]
    }
   ],
   "source": [
    "input_shape = (seq_length, 4)\n",
    "learning_rate = 0.005\n",
    "\n",
    "inputs = tf.keras.Input(input_shape)\n",
    "x = tf.keras.layers.LSTM(128)(inputs)\n",
    "\n",
    "outputs = {\n",
    "  'pitch': tf.keras.layers.Dense(128, name='pitch')(x),\n",
    "  'velocity': tf.keras.layers.Dense(128, name='velocity')(x),\n",
    "  'step': tf.keras.layers.Dense(1, name='step')(x),\n",
    "  'duration': tf.keras.layers.Dense(1, name='duration')(x),\n",
    "}\n",
    "\n",
    "model = tf.keras.Model(inputs, outputs)\n",
    "\n",
    "loss = {\n",
    "      'pitch': tf.keras.losses.SparseCategoricalCrossentropy(\n",
    "          from_logits=True),\n",
    "      'velocity': tf.keras.losses.SparseCategoricalCrossentropy(\n",
    "          from_logits=True),\n",
    "      'step': mse_with_positive_pressure,\n",
    "      'duration': mse_with_positive_pressure,\n",
    "}\n",
    "\n",
    "optimizer = tf.keras.optimizers.Adam(learning_rate=learning_rate)\n",
    "\n",
    "model.compile(loss=loss, optimizer=optimizer)\n",
    "\n",
    "model.summary()"
   ]
  },
  {
   "cell_type": "markdown",
   "metadata": {
    "id": "VDL0Jypt3eU5"
   },
   "source": [
    "Testing the `model.evaluate` function, you can see that the `pitch` loss is significantly greater than the `step` and `duration` losses. \n",
    "Note that `loss` is the total loss computed by summing all the other losses and is currently dominated by the `pitch` loss."
   ]
  },
  {
   "cell_type": "code",
   "execution_count": 120,
   "metadata": {
    "execution": {
     "iopub.execute_input": "2022-06-28T01:22:06.135633Z",
     "iopub.status.busy": "2022-06-28T01:22:06.135065Z",
     "iopub.status.idle": "2022-06-28T01:22:12.045769Z",
     "shell.execute_reply": "2022-06-28T01:22:12.044994Z"
    },
    "id": "BlATt7Rl0XJl"
   },
   "outputs": [
    {
     "name": "stdout",
     "output_type": "stream",
     "text": [
      "4682/4682 [==============================] - 10s 2ms/step - loss: 10.4852 - duration_loss: 0.1688 - pitch_loss: 4.8495 - step_loss: 0.6175 - velocity_loss: 4.8494\n"
     ]
    },
    {
     "data": {
      "text/plain": [
       "{'loss': 10.485163688659668,\n",
       " 'duration_loss': 0.1687919795513153,\n",
       " 'pitch_loss': 4.849485397338867,\n",
       " 'step_loss': 0.6175130605697632,\n",
       " 'velocity_loss': 4.849379062652588}"
      ]
     },
     "execution_count": 120,
     "metadata": {},
     "output_type": "execute_result"
    }
   ],
   "source": [
    "losses = model.evaluate(train_ds, return_dict=True)\n",
    "losses"
   ]
  },
  {
   "cell_type": "markdown",
   "metadata": {
    "id": "KLvNLvtR3W59"
   },
   "source": [
    "One way balance this is to use the `loss_weights` argument to compile:"
   ]
  },
  {
   "cell_type": "code",
   "execution_count": 121,
   "metadata": {
    "execution": {
     "iopub.execute_input": "2022-06-28T01:22:12.049459Z",
     "iopub.status.busy": "2022-06-28T01:22:12.048936Z",
     "iopub.status.idle": "2022-06-28T01:22:12.056686Z",
     "shell.execute_reply": "2022-06-28T01:22:12.056067Z"
    },
    "id": "9fQB5SiN3ufX"
   },
   "outputs": [],
   "source": [
    "model.compile(\n",
    "    loss=loss,\n",
    "    loss_weights={\n",
    "        'pitch': 0.05,\n",
    "        'velocity': 0.05,\n",
    "        'step': 1.0,\n",
    "        'duration':1.0,\n",
    "    },\n",
    "    optimizer=optimizer,\n",
    ")"
   ]
  },
  {
   "cell_type": "markdown",
   "metadata": {
    "id": "nPMUnIMelHgR"
   },
   "source": [
    "The `loss` then becomes the weighted sum of the individual losses."
   ]
  },
  {
   "cell_type": "code",
   "execution_count": 122,
   "metadata": {
    "execution": {
     "iopub.execute_input": "2022-06-28T01:22:12.059812Z",
     "iopub.status.busy": "2022-06-28T01:22:12.059207Z",
     "iopub.status.idle": "2022-06-28T01:22:13.678672Z",
     "shell.execute_reply": "2022-06-28T01:22:13.678082Z"
    },
    "id": "T7CzWmFR38ut"
   },
   "outputs": [
    {
     "name": "stdout",
     "output_type": "stream",
     "text": [
      "4682/4682 [==============================] - 10s 2ms/step - loss: 1.2712 - duration_loss: 0.1688 - pitch_loss: 4.8495 - step_loss: 0.6175 - velocity_loss: 4.8494\n"
     ]
    },
    {
     "data": {
      "text/plain": [
       "{'loss': 1.2712481021881104,\n",
       " 'duration_loss': 0.1687919795513153,\n",
       " 'pitch_loss': 4.849485397338867,\n",
       " 'step_loss': 0.6175130605697632,\n",
       " 'velocity_loss': 4.849379062652588}"
      ]
     },
     "execution_count": 122,
     "metadata": {},
     "output_type": "execute_result"
    }
   ],
   "source": [
    "model.evaluate(train_ds, return_dict=True)"
   ]
  },
  {
   "cell_type": "markdown",
   "metadata": {
    "id": "SJbn7HZgfosr"
   },
   "source": [
    "Train the model."
   ]
  },
  {
   "cell_type": "code",
   "execution_count": 123,
   "metadata": {
    "execution": {
     "iopub.execute_input": "2022-06-28T01:22:13.682449Z",
     "iopub.status.busy": "2022-06-28T01:22:13.681820Z",
     "iopub.status.idle": "2022-06-28T01:22:13.685673Z",
     "shell.execute_reply": "2022-06-28T01:22:13.685090Z"
    },
    "id": "uQA_rwKEgPjp"
   },
   "outputs": [],
   "source": [
    "callbacks = [\n",
    "    tf.keras.callbacks.ModelCheckpoint(\n",
    "        filepath='./training_checkpoints/ckpt_{epoch}',\n",
    "        save_weights_only=True),\n",
    "    tf.keras.callbacks.EarlyStopping(\n",
    "        monitor='loss',\n",
    "        patience=50,\n",
    "        verbose=1,\n",
    "        restore_best_weights=True),\n",
    "]"
   ]
  },
  {
   "cell_type": "code",
   "execution_count": 124,
   "metadata": {
    "execution": {
     "iopub.execute_input": "2022-06-28T01:22:13.688709Z",
     "iopub.status.busy": "2022-06-28T01:22:13.688207Z",
     "iopub.status.idle": "2022-06-28T01:23:19.662097Z",
     "shell.execute_reply": "2022-06-28T01:23:19.661457Z"
    },
    "id": "aLoYY8-XaPFN"
   },
   "outputs": [
    {
     "name": "stdout",
     "output_type": "stream",
     "text": [
      "Epoch 1/10\n",
      "4682/4682 [==============================] - 15s 3ms/step - loss: 0.5401 - duration_loss: 0.1032 - pitch_loss: 3.9544 - step_loss: 0.0407 - velocity_loss: 3.9722\n",
      "Epoch 2/10\n",
      "4682/4682 [==============================] - 14s 3ms/step - loss: 0.5249 - duration_loss: 0.0996 - pitch_loss: 3.8723 - step_loss: 0.0382 - velocity_loss: 3.8694\n",
      "Epoch 3/10\n",
      "4682/4682 [==============================] - 15s 3ms/step - loss: 0.5190 - duration_loss: 0.0979 - pitch_loss: 3.8362 - step_loss: 0.0370 - velocity_loss: 3.8457\n",
      "Epoch 4/10\n",
      "4682/4682 [==============================] - 14s 3ms/step - loss: 0.5139 - duration_loss: 0.0960 - pitch_loss: 3.7998 - step_loss: 0.0364 - velocity_loss: 3.8302\n",
      "Epoch 5/10\n",
      "4682/4682 [==============================] - 14s 3ms/step - loss: 0.5110 - duration_loss: 0.0949 - pitch_loss: 3.7830 - step_loss: 0.0356 - velocity_loss: 3.8263\n",
      "Epoch 6/10\n",
      "4682/4682 [==============================] - 15s 3ms/step - loss: 0.5085 - duration_loss: 0.0935 - pitch_loss: 3.7677 - step_loss: 0.0356 - velocity_loss: 3.8197\n",
      "Epoch 7/10\n",
      "4682/4682 [==============================] - 15s 3ms/step - loss: 0.5073 - duration_loss: 0.0934 - pitch_loss: 3.7538 - step_loss: 0.0353 - velocity_loss: 3.8169\n",
      "Epoch 8/10\n",
      "4682/4682 [==============================] - 14s 3ms/step - loss: 0.5046 - duration_loss: 0.0921 - pitch_loss: 3.7397 - step_loss: 0.0349 - velocity_loss: 3.8120\n",
      "Epoch 9/10\n",
      "4682/4682 [==============================] - 14s 3ms/step - loss: 0.5027 - duration_loss: 0.0914 - pitch_loss: 3.7293 - step_loss: 0.0344 - velocity_loss: 3.8087\n",
      "Epoch 10/10\n",
      "4682/4682 [==============================] - 14s 3ms/step - loss: 0.5022 - duration_loss: 0.0911 - pitch_loss: 3.7234 - step_loss: 0.0345 - velocity_loss: 3.8072\n",
      "Wall time: 2min 24s\n"
     ]
    }
   ],
   "source": [
    "%%time\n",
    "epochs = 10\n",
    "\n",
    "history = model.fit(\n",
    "    train_ds,\n",
    "    epochs=epochs,\n",
    "    callbacks=callbacks,\n",
    ")"
   ]
  },
  {
   "cell_type": "code",
   "execution_count": 125,
   "metadata": {
    "execution": {
     "iopub.execute_input": "2022-06-28T01:23:19.665366Z",
     "iopub.status.busy": "2022-06-28T01:23:19.664806Z",
     "iopub.status.idle": "2022-06-28T01:23:19.747295Z",
     "shell.execute_reply": "2022-06-28T01:23:19.746753Z"
    },
    "id": "PYBSjgDWiUfT"
   },
   "outputs": [
    {
     "data": {
      "image/png": "[encoded data removed]",
      "text/plain": [
       "<Figure size 432x288 with 1 Axes>"
      ]
     },
     "metadata": {
      "needs_background": "light"
     },
     "output_type": "display_data"
    },
    {
     "name": "stderr",
     "output_type": "stream",
     "text": [
      "WARNING:absl:Found untraced functions such as lstm_cell_3_layer_call_fn, lstm_cell_3_layer_call_and_return_conditional_losses while saving (showing 2 of 2). These functions will not be directly callable after loading.\n"
     ]
    },
    {
     "name": "stdout",
     "output_type": "stream",
     "text": [
      "INFO:tensorflow:Assets written to: abc\\assets\n"
     ]
    },
    {
     "name": "stderr",
     "output_type": "stream",
     "text": [
      "INFO:tensorflow:Assets written to: abc\\assets\n"
     ]
    }
   ],
   "source": [
    "plt.plot(history.epoch, history.history['loss'], label='total loss')\n",
    "plt.show()\n",
    "model.save(\"abc\")"
   ]
  },
  {
   "cell_type": "markdown",
   "metadata": {
    "id": "aPWI94lQ8uQA"
   },
   "source": [
    "## Generate notes"
   ]
  },
  {
   "cell_type": "markdown",
   "metadata": {
    "id": "Wbaoiy4Hf-n5"
   },
   "source": [
    "To use the model to generate notes, you will first need to provide a starting sequence of notes. The function below generates one note from a sequence of notes. \n",
    "\n",
    "For note pitch, it draws a sample from the softmax distribution of notes produced by the model, and does not simply pick the note with the highest probability.\n",
    "Always picking the note with the highest probability would lead to repetitive sequences of notes being generated.\n",
    "\n",
    "The `temperature` parameter can be used to control the randomness of notes generated. You can find more details on temperature in [Text generation with an RNN](https://www.tensorflow.org/text/tutorials/text_generation)."
   ]
  },
  {
   "cell_type": "code",
   "execution_count": 43,
   "metadata": {
    "execution": {
     "iopub.execute_input": "2022-06-28T01:23:19.750521Z",
     "iopub.status.busy": "2022-06-28T01:23:19.750008Z",
     "iopub.status.idle": "2022-06-28T01:23:19.755706Z",
     "shell.execute_reply": "2022-06-28T01:23:19.755091Z"
    },
    "id": "1mil8ZyJNe1w"
   },
   "outputs": [],
   "source": [
    "def predict_next_note(\n",
    "    notes: np.ndarray, \n",
    "    keras_model: tf.keras.Model, \n",
    "    temperature: float = 1.0) -> int:\n",
    "  \"\"\"Generates a note IDs using a trained sequence model.\"\"\"\n",
    "\n",
    "  assert temperature > 0\n",
    "\n",
    "  # Add batch dimension\n",
    "  inputs = tf.expand_dims(notes, 0)\n",
    "\n",
    "  predictions = model.predict(inputs)\n",
    "  pitch_logits = predictions['pitch']\n",
    "  velocity = predictions['velocity']\n",
    "  step = predictions['step']\n",
    "  duration = predictions['duration']\n",
    " \n",
    "  pitch_logits /= temperature\n",
    "  pitch = tf.random.categorical(pitch_logits, num_samples=1)\n",
    "  pitch = tf.squeeze(pitch, axis=-1)\n",
    "  velocity = tf.squeeze(velocity, axis=-1)\n",
    "  duration = tf.squeeze(duration, axis=-1)\n",
    "  step = tf.squeeze(step, axis=-1)\n",
    "\n",
    "  # `step` and `duration` values should be non-negative\n",
    "  velocity = tf.maximum(0, velocity)\n",
    "  step = tf.maximum(0, step)\n",
    "  duration = tf.maximum(0, duration)\n",
    "\n",
    "  return int(pitch), int(pitch), float(step), float(duration)"
   ]
  },
  {
   "cell_type": "markdown",
   "metadata": {
    "id": "W64K-EX3hxU_"
   },
   "source": [
    "Now generate some notes. You can play around with temperature and the starting sequence in `next_notes` and see what happens."
   ]
  },
  {
   "cell_type": "code",
   "execution_count": 44,
   "metadata": {
    "execution": {
     "iopub.execute_input": "2022-06-28T01:23:19.758480Z",
     "iopub.status.busy": "2022-06-28T01:23:19.758086Z",
     "iopub.status.idle": "2022-06-28T01:23:25.230760Z",
     "shell.execute_reply": "2022-06-28T01:23:25.230135Z"
    },
    "id": "87fPl4auPdR3"
   },
   "outputs": [
    {
     "name": "stdout",
     "output_type": "stream",
     "text": [
      "1/1 [==============================] - 0s 357ms/step\n",
      "1/1 [==============================] - 0s 20ms/step\n",
      "1/1 [==============================] - 0s 19ms/step\n",
      "1/1 [==============================] - 0s 18ms/step\n",
      "1/1 [==============================] - 0s 18ms/step\n",
      "1/1 [==============================] - 0s 18ms/step\n",
      "1/1 [==============================] - 0s 18ms/step\n",
      "1/1 [==============================] - 0s 19ms/step\n",
      "1/1 [==============================] - 0s 18ms/step\n",
      "1/1 [==============================] - 0s 18ms/step\n",
      "1/1 [==============================] - 0s 18ms/step\n",
      "1/1 [==============================] - 0s 20ms/step\n",
      "1/1 [==============================] - 0s 18ms/step\n",
      "1/1 [==============================] - 0s 19ms/step\n",
      "1/1 [==============================] - 0s 17ms/step\n",
      "1/1 [==============================] - 0s 18ms/step\n",
      "1/1 [==============================] - 0s 18ms/step\n",
      "1/1 [==============================] - 0s 18ms/step\n",
      "1/1 [==============================] - 0s 18ms/step\n",
      "1/1 [==============================] - 0s 18ms/step\n",
      "1/1 [==============================] - 0s 18ms/step\n",
      "1/1 [==============================] - 0s 18ms/step\n",
      "1/1 [==============================] - 0s 18ms/step\n",
      "1/1 [==============================] - 0s 18ms/step\n",
      "1/1 [==============================] - 0s 18ms/step\n",
      "1/1 [==============================] - 0s 18ms/step\n",
      "1/1 [==============================] - 0s 18ms/step\n",
      "1/1 [==============================] - 0s 18ms/step\n",
      "1/1 [==============================] - 0s 17ms/step\n",
      "1/1 [==============================] - 0s 20ms/step\n",
      "1/1 [==============================] - 0s 20ms/step\n",
      "1/1 [==============================] - 0s 18ms/step\n",
      "1/1 [==============================] - 0s 19ms/step\n",
      "1/1 [==============================] - 0s 18ms/step\n",
      "1/1 [==============================] - 0s 18ms/step\n",
      "1/1 [==============================] - 0s 18ms/step\n",
      "1/1 [==============================] - 0s 18ms/step\n",
      "1/1 [==============================] - 0s 17ms/step\n",
      "1/1 [==============================] - 0s 18ms/step\n",
      "1/1 [==============================] - 0s 19ms/step\n",
      "1/1 [==============================] - 0s 19ms/step\n",
      "1/1 [==============================] - 0s 18ms/step\n",
      "1/1 [==============================] - 0s 17ms/step\n",
      "1/1 [==============================] - 0s 18ms/step\n",
      "1/1 [==============================] - 0s 17ms/step\n",
      "1/1 [==============================] - 0s 18ms/step\n",
      "1/1 [==============================] - 0s 17ms/step\n",
      "1/1 [==============================] - 0s 17ms/step\n",
      "1/1 [==============================] - 0s 18ms/step\n",
      "1/1 [==============================] - 0s 18ms/step\n",
      "1/1 [==============================] - 0s 18ms/step\n",
      "1/1 [==============================] - 0s 18ms/step\n",
      "1/1 [==============================] - 0s 18ms/step\n",
      "1/1 [==============================] - 0s 19ms/step\n",
      "1/1 [==============================] - 0s 18ms/step\n",
      "1/1 [==============================] - 0s 17ms/step\n",
      "1/1 [==============================] - 0s 18ms/step\n",
      "1/1 [==============================] - 0s 17ms/step\n",
      "1/1 [==============================] - 0s 17ms/step\n",
      "1/1 [==============================] - 0s 17ms/step\n",
      "1/1 [==============================] - 0s 18ms/step\n",
      "1/1 [==============================] - 0s 19ms/step\n",
      "1/1 [==============================] - 0s 20ms/step\n",
      "1/1 [==============================] - 0s 20ms/step\n",
      "1/1 [==============================] - 0s 20ms/step\n",
      "1/1 [==============================] - 0s 19ms/step\n",
      "1/1 [==============================] - 0s 20ms/step\n",
      "1/1 [==============================] - 0s 20ms/step\n",
      "1/1 [==============================] - 0s 20ms/step\n",
      "1/1 [==============================] - 0s 19ms/step\n",
      "1/1 [==============================] - 0s 19ms/step\n",
      "1/1 [==============================] - 0s 18ms/step\n",
      "1/1 [==============================] - 0s 18ms/step\n",
      "1/1 [==============================] - 0s 18ms/step\n",
      "1/1 [==============================] - 0s 19ms/step\n",
      "1/1 [==============================] - 0s 18ms/step\n",
      "1/1 [==============================] - 0s 19ms/step\n",
      "1/1 [==============================] - 0s 19ms/step\n",
      "1/1 [==============================] - 0s 18ms/step\n",
      "1/1 [==============================] - 0s 18ms/step\n",
      "1/1 [==============================] - 0s 18ms/step\n",
      "1/1 [==============================] - 0s 18ms/step\n",
      "1/1 [==============================] - 0s 17ms/step\n",
      "1/1 [==============================] - 0s 18ms/step\n",
      "1/1 [==============================] - 0s 17ms/step\n",
      "1/1 [==============================] - 0s 18ms/step\n",
      "1/1 [==============================] - 0s 18ms/step\n",
      "1/1 [==============================] - 0s 18ms/step\n",
      "1/1 [==============================] - 0s 18ms/step\n",
      "1/1 [==============================] - 0s 18ms/step\n",
      "1/1 [==============================] - 0s 18ms/step\n",
      "1/1 [==============================] - 0s 19ms/step\n",
      "1/1 [==============================] - 0s 18ms/step\n",
      "1/1 [==============================] - 0s 18ms/step\n",
      "1/1 [==============================] - 0s 18ms/step\n",
      "1/1 [==============================] - 0s 18ms/step\n",
      "1/1 [==============================] - 0s 18ms/step\n",
      "1/1 [==============================] - 0s 18ms/step\n",
      "1/1 [==============================] - 0s 18ms/step\n",
      "1/1 [==============================] - 0s 18ms/step\n",
      "1/1 [==============================] - 0s 19ms/step\n",
      "1/1 [==============================] - 0s 18ms/step\n",
      "1/1 [==============================] - 0s 18ms/step\n",
      "1/1 [==============================] - 0s 19ms/step\n",
      "1/1 [==============================] - 0s 19ms/step\n",
      "1/1 [==============================] - 0s 18ms/step\n",
      "1/1 [==============================] - 0s 18ms/step\n",
      "1/1 [==============================] - 0s 17ms/step\n",
      "1/1 [==============================] - 0s 18ms/step\n",
      "1/1 [==============================] - 0s 18ms/step\n",
      "1/1 [==============================] - 0s 18ms/step\n",
      "1/1 [==============================] - 0s 18ms/step\n",
      "1/1 [==============================] - 0s 18ms/step\n",
      "1/1 [==============================] - 0s 18ms/step\n",
      "1/1 [==============================] - 0s 18ms/step\n",
      "1/1 [==============================] - 0s 18ms/step\n",
      "1/1 [==============================] - 0s 18ms/step\n",
      "1/1 [==============================] - 0s 18ms/step\n",
      "1/1 [==============================] - 0s 18ms/step\n",
      "1/1 [==============================] - 0s 18ms/step\n"
     ]
    }
   ],
   "source": [
    "temperature = 2.0\n",
    "num_predictions = 120\n",
    "\n",
    "sample_notes = np.stack([raw_notes[key] for key in key_order], axis=1)\n",
    "\n",
    "# The initial sequence of notes; pitch is normalized similar to training\n",
    "# sequences\n",
    "input_notes = (\n",
    "    sample_notes[:seq_length] / np.array([vocab_size, 1, 1]))\n",
    "\n",
    "generated_notes = []\n",
    "prev_start = 0\n",
    "for _ in range(num_predictions):\n",
    "  pitch, velocity, step, duration = predict_next_note(input_notes, model, temperature)\n",
    "  start = prev_start + step\n",
    "  end = start + duration\n",
    "  input_note = (pitch, velocity, step, duration)\n",
    "  generated_notes.append((*input_note, start, end))\n",
    "  input_notes = np.delete(input_notes, 0, axis=0)\n",
    "  input_notes = np.append(input_notes, np.expand_dims(input_note, 0), axis=0)\n",
    "  prev_start = start\n",
    "\n",
    "generated_notes = pd.DataFrame(\n",
    "    generated_notes, columns=(*key_order, 'start', 'end'))"
   ]
  },
  {
   "cell_type": "code",
   "execution_count": 45,
   "metadata": {
    "execution": {
     "iopub.execute_input": "2022-06-28T01:23:25.234093Z",
     "iopub.status.busy": "2022-06-28T01:23:25.233780Z",
     "iopub.status.idle": "2022-06-28T01:23:25.243139Z",
     "shell.execute_reply": "2022-06-28T01:23:25.242593Z"
    },
    "id": "0MK7HmqLuqka"
   },
   "outputs": [
    {
     "data": {
      "text/html": [
       "<div>\n",
       "<style scoped>\n",
       "    .dataframe tbody tr th:only-of-type {\n",
       "        vertical-align: middle;\n",
       "    }\n",
       "\n",
       "    .dataframe tbody tr th {\n",
       "        vertical-align: top;\n",
       "    }\n",
       "\n",
       "    .dataframe thead th {\n",
       "        text-align: right;\n",
       "    }\n",
       "</style>\n",
       "<table border=\"1\" class=\"dataframe\">\n",
       "  <thead>\n",
       "    <tr style=\"text-align: right;\">\n",
       "      <th></th>\n",
       "      <th>pitch</th>\n",
       "      <th>step</th>\n",
       "      <th>duration</th>\n",
       "      <th>start</th>\n",
       "      <th>end</th>\n",
       "    </tr>\n",
       "  </thead>\n",
       "  <tbody>\n",
       "    <tr>\n",
       "      <th>0</th>\n",
       "      <td>76</td>\n",
       "      <td>0.233696</td>\n",
       "      <td>0.181136</td>\n",
       "      <td>0.233696</td>\n",
       "      <td>0.414832</td>\n",
       "    </tr>\n",
       "    <tr>\n",
       "      <th>1</th>\n",
       "      <td>50</td>\n",
       "      <td>0.000000</td>\n",
       "      <td>0.000000</td>\n",
       "      <td>0.233696</td>\n",
       "      <td>0.233696</td>\n",
       "    </tr>\n",
       "    <tr>\n",
       "      <th>2</th>\n",
       "      <td>73</td>\n",
       "      <td>0.000000</td>\n",
       "      <td>0.000000</td>\n",
       "      <td>0.233696</td>\n",
       "      <td>0.233696</td>\n",
       "    </tr>\n",
       "    <tr>\n",
       "      <th>3</th>\n",
       "      <td>101</td>\n",
       "      <td>0.000000</td>\n",
       "      <td>0.000000</td>\n",
       "      <td>0.233696</td>\n",
       "      <td>0.233696</td>\n",
       "    </tr>\n",
       "    <tr>\n",
       "      <th>4</th>\n",
       "      <td>63</td>\n",
       "      <td>0.000000</td>\n",
       "      <td>0.000000</td>\n",
       "      <td>0.233696</td>\n",
       "      <td>0.233696</td>\n",
       "    </tr>\n",
       "    <tr>\n",
       "      <th>5</th>\n",
       "      <td>73</td>\n",
       "      <td>0.000000</td>\n",
       "      <td>0.000000</td>\n",
       "      <td>0.233696</td>\n",
       "      <td>0.233696</td>\n",
       "    </tr>\n",
       "    <tr>\n",
       "      <th>6</th>\n",
       "      <td>63</td>\n",
       "      <td>0.000000</td>\n",
       "      <td>0.000000</td>\n",
       "      <td>0.233696</td>\n",
       "      <td>0.233696</td>\n",
       "    </tr>\n",
       "    <tr>\n",
       "      <th>7</th>\n",
       "      <td>40</td>\n",
       "      <td>0.000000</td>\n",
       "      <td>0.000000</td>\n",
       "      <td>0.233696</td>\n",
       "      <td>0.233696</td>\n",
       "    </tr>\n",
       "    <tr>\n",
       "      <th>8</th>\n",
       "      <td>67</td>\n",
       "      <td>0.000000</td>\n",
       "      <td>0.000000</td>\n",
       "      <td>0.233696</td>\n",
       "      <td>0.233696</td>\n",
       "    </tr>\n",
       "    <tr>\n",
       "      <th>9</th>\n",
       "      <td>50</td>\n",
       "      <td>0.000000</td>\n",
       "      <td>0.000000</td>\n",
       "      <td>0.233696</td>\n",
       "      <td>0.233696</td>\n",
       "    </tr>\n",
       "  </tbody>\n",
       "</table>\n",
       "</div>"
      ],
      "text/plain": [
       "   pitch      step  duration     start       end\n",
       "0     76  0.233696  0.181136  0.233696  0.414832\n",
       "1     50  0.000000  0.000000  0.233696  0.233696\n",
       "2     73  0.000000  0.000000  0.233696  0.233696\n",
       "3    101  0.000000  0.000000  0.233696  0.233696\n",
       "4     63  0.000000  0.000000  0.233696  0.233696\n",
       "5     73  0.000000  0.000000  0.233696  0.233696\n",
       "6     63  0.000000  0.000000  0.233696  0.233696\n",
       "7     40  0.000000  0.000000  0.233696  0.233696\n",
       "8     67  0.000000  0.000000  0.233696  0.233696\n",
       "9     50  0.000000  0.000000  0.233696  0.233696"
      ]
     },
     "execution_count": 45,
     "metadata": {},
     "output_type": "execute_result"
    }
   ],
   "source": [
    "generated_notes.head(10)"
   ]
  },
  {
   "cell_type": "code",
   "execution_count": 46,
   "metadata": {
    "execution": {
     "iopub.execute_input": "2022-06-28T01:23:25.245976Z",
     "iopub.status.busy": "2022-06-28T01:23:25.245744Z",
     "iopub.status.idle": "2022-06-28T01:23:25.317997Z",
     "shell.execute_reply": "2022-06-28T01:23:25.317443Z"
    },
    "id": "e9K9KHPaTNnK"
   },
   "outputs": [
    {
     "name": "stderr",
     "output_type": "stream",
     "text": [
      "fluidsynth: warning: SDL2 not initialized, SDL2 audio driver won't be usable\n"
     ]
    },
    {
     "data": {
      "text/html": [
       "\n",
       "                <audio  controls=\"controls\" >\n",
       "                    <source src=\"data:audio/wav;base64,UklGRgCxAABXQVZFZm10IBAAAAABAAEAgD4AAAB9AAACABAAZGF0YdywAAAAAAAAAAAAAAAAAAAAAAAAAAAAAAAAAAAAAAAAAAAAAAAAAAAAAAAAAAAAAAAAAAAAAAAAAAAAAAAAAAAAAAAAAAAAAAAAAAAAAAAAAAAAAAAAAAAAAAAAAAAAAAAAAAAAAAAAAAAAAAAAAAAAAAAAAAAAAAAAAAAAAAAAAAAAAAAAAAAAAAAAAAAAAAAAAAAAAAAAAAAAAAAAAAAAAAAAAAAAAAAAAAAAAAAAAAAAAAAAAAAAAAAAAAAAAAAAAAAAAAAAAAAAAAAAAAAAAAAAAAAAAAAAAAAAAAAAAAAAAAAAAAAAAAAAAAAAAAAAAAAAAAAAAAAAAAAAAAAAAAAAAAAAAAAAAAAAAAAAAAAAAAAAAAAAAAAAAAAAAAAAAAAAAAAAAAAAAAAAAAAAAAAAAAAAAAAAAAAAAAAAAAAAAAAAAAAAAAAAAAAAAAAAAAAAAAAAAAAAAAAAAAAAAAAAAAAAAAAAAAAAAAAAAAAAAAAAAAAAAAAAAAAAAAAAAAAAAAAAAAAAAAAAAAAAAAAAAAAAAAAAAAAAAAAAAAAAAAAAAAAAAAAAAAAAAAAAAAAAAAAAAAAAAAAAAAAAAAAAAAAAAAAAAAAAAAAAAAAAAAAAAAAAAAAAAAAAAAAAAAAAAAAAAAAAAAAAAAAAAAAAAAAAAAAAAAAAAAAAAAAAAAAAAAAAAAAAAAAAAAAAAAAAAAAAAAAAAAAAAAAAAAAAAAAAAAAAAAAAAAAAAAAAAAAAAAAAAAAAAAAAAAAAAAAAAAAAAAAAAAAAAAAAAAAAAAAAAAAAAAAAAAAAAAAAAAAAAAAAAAAAAAAAAAAAAAAAAAAAAAAAAAAAAAAAAAAAAAAAAAAAAAAAAAAAAAAAAAAAAAAAAAAAAAAAAAAAAAAAAAAAAAAAAAAAAAAAAAAAAAAAAAAAAAAAAAAAAAAAAAAAAAAAAAAAAAAAAAAAAAAAAAAAAAAAAAAAAAAAAAAAAAAAAAAAAAAAAAAAAAAAAAAAAAAAAAAAAAAAAAAAAAAAAAAAAAAAAAAAAAAAAAAAAAAAAAAAAAAAAAAAAAAAAAAAAAAAAAAAAAAAAAAAAAAAAAAAAAAAAAAAAAAAAAAAAAAAAAAAAAAAAAAAAAAAAAAAAAAAAAAAAAAAAAAAAAAAAAAAAAAAAAAAAAAAAAAAAAAAAAAAAAAAAAAAAAAAAAAAAAAAAAAAAAAAAAAAAAAAAAAAAAAAAAAAAAAAAAAAAAAAAAAAAAAAAAAAAAAAAAAAAAAAAAAAAAAAAAAAAAAAAAAAAAAAAAAAAAAAAAAAAAAAAAAAAAAAAAAAAAAAAAAAAAAAAAAAAAAAAAAAAAAAAAAAAAAAAAAAAAAAAAAAAAAAAAAAAAAAAAAAAAAAAAAAAAAAAAAAAAAAAAAAAAAAAAAAAAAAAAAAAAAAAAAAAAAAAAAAAAAAAAAAAAAAAAAAAAAAAAAAAAAAAAAAAAAAAAAAAAAAAAAAAAAAAAAAAAAAAAAAAAAAAAAAAAAAAAAAAAAAAAAAAAAAAAAAAAAAAAAAAAAAAAAAAAAAAAAAAAAAAAAAAAAAAAAAAAAAAAAAAAAAAAAAAAAAAAAAAAAAAAAAAAAAAAAAAAAAAAAAAAAAAAAAAAAAAAAAAAAAAAAAAAAAAAAAAAAAAAAAAAAAAAAAAAAAAAAAAAAAAAAAAAAAAAAAAAAAAAAAAAAAAAAAAAAAAAAAAAAAAAAAAAAAAAAAAAAAAAAAAAAAAAAAAAAAAAAAAAAAAAAAAAAAAAAAAAAAAAAAAAAAAAAAAAAAAAAAAAAAAAAAAAAAAAAAAAAAAAAAAAAAAAAAAAAAAAAAAAAAAAAAAAAAAAAAAAAAAAAAAAAAAAAAAAAAAAAAAAAAAAAAAAAAAAAAAAAAAAAAAAAAAAAAAAAAAAAAAAAAAAAAAAAAAAAAAAAAAAAAAAAAAAAAAAAAAAAAAAAAAAAAAAAAAAAAAAAAAAAAAAAAAAAAAAAAAAAAAAAAAAAAAAAAAAAAAAAAAAAAAAAAAAAAAAAAAAAAAAAAAAAAAAAAAAAAAAAAAAAAAAAAAAAAAAAAAAAAAAAAAAAAAAAAAAAAAAAAAAAAAAAAAAAAAAAAAAAAAAAAAAAAAAAAAAAAAAAAAAAAAAAAAAAAAAAAAAAAAAAAAAAAAAAAAAAAAAAAAAAAAAAAAAAAAAAAAAAAAAAAAAAAAAAAAAAAAAAAAAAAAAAAAAAAAAAAAAAAAAAAAAAAAAAAAAAAAAAAAAAAAAAAAAAAAAAAAAAAAAAAAAAAAAAAAAAAAAAAAAAAAAAAAAAAAAAAAAAAAAAAAAAAAAAAAAAAAAAAAAAAAAAAAAAAAAAAAAAAAAAAAAAAAAAAAAAAAAAAAAAAAAAAAAAAAAAAAAAAAAAAAAAAAAAAAAAAAAAAAAAAAAAAAAAAAAAAAAAAAAAAAAAAAAAAAAAAAAAAAAAAAAAAAAAAAAAAAAAAAAAAAAAAAAAAAAAAAAAAAAAAAAAAAAAAAAAAAAAAAAAAAAAAAAAAAAAAAAAAAAAAAAAAAAAAAAAAAAAAAAAAAAAAAAAAAAAAAAAAAAAAAAAAAAAAAAAAAAAAAAAAAAAAAAAAAAAAAAAAAAAAAAAAAAAAAAAAAAAAAAAAAAAAAAAAAAAAAAAAAAAAAAAAAAAAAAAAAAAAAAAAAAAAAAAAAAAAAAAAAAAAAAAAAAAAAAAAAAAAAAAAAAAAAAAAAAAAAAAAAAAAAAAAAAAAAAAAAAAAAAAAAAAAAAAAAAAAAAAAAAAAAAAAAAAAAAAAAAAAAAAAAAAAAAAAAAAAAAAAAAAAAAAAAAAAAAAAAAAAAAAAAAAAAAAAAAAAAAAAAAAAAAAAAAAAAAAAAAAAAAAAAAAAAAAAAAAAAAAAAAAAAAAAAAAAAAAAAAAAAAAAAAAAAAAAAAAAAAAAAAAAAAAAAAAAAAAAAAAAAAAAAAAAAAAAAAAAAAAAAAAAAAAAAAAAAAAAAAAAAAAAAAAAAAAAAAAAAAAAAAAAAAAAAAAAAAAAAAAAAAAAAAAAAAAAAAAAAAAAAAAAAAAAAAAAAAAAAAAAAAAAAAAAAAAAAAAAAAAAAAAAAAAAAAAAAAAAAAAAAAAAAAAAAAAAAAAAAAAAAAAAAAAAAAAAAAAAAAAAAAAAAAAAAAAAAAAAAAAAAAAAAAAAAAAAAAAAAAAAAAAAAAAAAAAAAAAAAAAAAAAAAAAAAAAAAAAAAAAAAAAAAAAAAAAAAAAAAAAAAAAAAAAAAAAAAAAAAAAAAAAAAAAAAAAAAAAAAAAAAAAAAAAAAAAAAAAAAAAAAAAAAAAAAAAAAAAAAAAAAAAAAAAAAAAAAAAAAAAAAAAAAAAAAAAAAAAAAAAAAAAAAAAAAAAAAAAAAAAAAAAAAAAAAAAAAAAAAAAAAAAAAAAAAAAAAAAAAAAAAAAAAAAAAAAAAAAAAAAAAAAAAAAAAAAAAAAAAAAAAAAAAAAAAAAAAAAAAAAAAAAAAAAAAAAAAAAAAAAAAAAAAAAAAAAAAAAAAAAAAAAAAAAAAAAAAAAAAAAAAAAAAAAAAAAAAAAAAAAAAAAAAAAAAAAAAAAAAAAAAAAAAAAAAAAAAAAAAAAAAAAAAAAAAAAAAAAAAAAAAAAAAAAAAAAAAAAAAAAAAAAAAAAAAAAAAAAAAAAAAAAAAAAAAAAAAAAAAAAAAAAAAAAAAAAAAAAAAAAAAAAAAAAAAAAAAAAAAAAAAAAAAAAAAAAAAAAAAAAAAAAAAAAAAAAAAAAAAAAAAAAAAAAAAAAAAAAAAAAAAAAAAAAAAAAAAAAAAAAAAAAAAAAAAAAAAAAAAAAAAAAAAAAAAAAAAAAAAAAAAAAAAAAAAAAAAAAAAAAAAAAAAAAAAAAAAAAAAAAAAAAAAAAAAAAAAAAAAAAAAAAAAAAAAAAAAAAAAAAAAAAAAAAAAAAAAAAAAAAAAAAAAAAAAAAAAAAAAAAAAAAAAAAAAAAAAAAAAAAAAAAAAAAAAAAAAAAAAAAAAAAAAAAAAAAAAAAAAAAAAAAAAAAAAAAAAAAAAAAAAAAAAAAAAAAAAAAAAAAAAAAAAAAAAAAAAAAAAAAAAAAAAAAAAAAAAAAAAAAAAAAAAAAAAAAAAAAAAAAAAAAAAAAAAAAAAAAAAAAAAAAAAAAAAAAAAAAAAAAAAAAAAAAAAAAAAAAAAAAAAAAAAAAAAAAAAAAAAAAAAAAAAAAAAAAAAAAAAAAAAAAAAAAAAAAAAAAAAAAAAAAAAAAAAAAAAAAAAAAAAAAAAAAAAAAAAAAAAAAAAAAAAAAAAAAAAAAAAAAAAAAAAAAAAAAAAAAAAAAAAAAAAAAAAAAAAAAAAAAAAAAAAAAAAAAAAAAAAAAAAAAAAAAAAAAAAAAAAAAAAAAAAAAAAAAAAAAAAAAAAAAAAAAAAAAAAAAAAAAAAAAAAAAAAAAAAAAAAAAAAAAAAAAAAAAAAAAAAAAAAAAAAAAAAAAAAAAAAAAAAAAAAAAAAAAAAAAAAAAAAAAAAAAAAAAAAAAAAAAAAAAAAAAAAAAAAAAAAAAAAAAAAAAAAAAAAAAAAAAAAAAAAAAAAAAAAAAAAAAAAAAAAAAAAAAAAAAAAAAAAAAAAAAAAAAAAAAAAAAAAAAAAAAAAAAAAAAAAAAAAAAAAAAAAAAAAAAAAAAAAAAAAAAAAAAAAAAAAAAAAAAAAAAAAAAAAAAAAAAAAAAAAAAAAAAAAAAAAAAAAAAAAAAAAAAAAAAAAAAAAAAAAAAAAAAAAAAAAAAAAAAAAAAAAAAAAAAAAAAAAAAAAAAAAAAAAAAAAAAAAAAAAAAAAAAAAAAAAAAAAAAAAAAAAAAAAAAAAAAAAAAAAAAAAAAAAAAAAAAAAAAAAAAAAAAAAAAAAAAAAAAAAAAAAAAAAAAAAAAAAAAAAAAAAAAAAAAAAAAAAAAAAAAAAAAAAAAAAAAAAAAAAAAAAAAAAAAAAAAAAAAAAAAAAAAAAAAAAAAAAAAAAAAAAAAAAAAAAAAAAAAAAAAAAAAAAAAAAAAAAAAAAAAAAAAAAAAAAAAAAAAAAAAAAAAAAAAAAAAAAAAAAAAAAAAAAAAAAAAAAAAAAAAAAAAAAAAAAAAAAAAAAAAAAAAAAAAAAAAAAAAAAAAAAAAAAAAAAAAAAAAAAAAAAAAAAAAAAAAAAAAAAAAAAAAAAAAAAAAAAAAAAAAAAAAAAAAAAAAAAAAAAAAAAAAAAAAAAAAAAAAAAAAAAAAAAAAAAAAAAAAAAAAAAAAAAAAAAAAAAAAAAAAAAAAAAAAAAAAAAAAAAAAAAAAAAAAAAAAAAAAAAAAAAAAAAAAAAAAAAAAAAAAAAAAAAAAAAAAAAAAAAAAAAAAAAAAAAAAAAAAAAAAAAAAAAAAAAAAAAAAAAAAAAAAAAAAAAAAAAAAAAAAAAAAAAAAAAAAAAAAAAAAAAAAAAAAAAAAAAAAAAAAAAAAAAAAAAAAAAAAAAAAAAAAAAAAAAAAAAAAAAAAAAAAAAAAAAAAAAAAAAAAAAAAAAAAAAAAAAAAAAAAAAAAAAAAAAAAAAAAAAAAAAAAAAAAAAAAAAAAAAAAAAAAAAAAAAAAAAAAAAAAAAAAAAAAAAAAAAAAAAAAAAAAAAAAAAAAAAAAAAAAAAAAAAAAAAAAAAAAAAAAAAAAAAAAAAAAAAAAAAAAAAAAAAAAAAAAAAAAAAAAAAAAAAAAAAAAAAAAAAAAAAAAAAAAAAAAAAAAAAAAAAAAAAAAAAAAAAAAAAAAAAAAAAAAAAAAAAAAAAAAAAAAAAAAAAAAAAAAAAAAAAAAAAAAAAAAAAAAAAAAAAAAAAAAAAAAAAAAAAAAAAAAAAAAAAAAAAAAAAAAAAAAAAAAAAAAAAAAAAAAAAAAAAAAAAAAAAAAAAAAAAAAAAAAAAAAAAAAAAAAAAAAAAAAAAAAAAAAAAAAAAAAAAAAAAAAAAAAAAAAAAAAAAAAAAAAAAAAAAAAAAAAAAAAAAAAAAAAAAAAAAAAAAAAAAAAAAAAAAAAAAAAAAAAAAAAAAAAAAAAAAAAAAAAAAAAAAAAAAAAAAAAAAAAAAAAAAAAAAAAAAAAAAAAAAAAAAAAAAAAAAAAAAAAAAAAAAAAAAAAAAAAAAAAAAAAAAAAAAAAAAAAAAAAAAAAAAAAAAAAAAAAAAAAAAAAAAAAAAAAAAAAAAAAAAAAAAAAAAAAAAAAAAAAAAAAAAAAAAAAAAAAAAAAAAAAAAAAAAAAAAAAAAAAAAAAAAAAAAAAAAAAAAAAAAAAAAAAAAAAAAAAAAAAAAAAAAAAAAAAAAAAAAAAAAAAAAAAAAAAAAAAAAAAAAAAAAAAAAAAAAAAAAAAAAAAAAAAAAAAAAAAAAAAAAAAAAAAAAAAAAAAAAAAAAAAAAAAAAAAAAAAAAAAAAAAAAAAAAAAAAAAAAAAAAAAAAAAAAAAAAAAAAAAAAAAAAAAAAAAAAAAAAAAAAAAAAAAAAAAAAAAAAAAAAAAAAAAAAAAAAAAAAAAAAAAAAAAAAAAAAAAAAAAAAAAAAAAAAAAAAAAAAAAAAAAAAAAAAAAAAAAAAAAAAAAAAAAAAAAAAAAAAAAAAAAAAAAAAAAAAAAAAAAAAAAAAAAAAAAAAAAAAAAAAAAAAAAAAAAAAAAAAAAAAAAAAAAAAAAAAAAAAAAAAAAAAAAAAAAAAAAAAAAAAAAAAAAAAAAAAAAAAAAAAAAAAAAAAAAAAAAAAAAAAAAAAAAAAAAAAAAAAAAAAAAAAAAAAAAAAAAAAAAAAAAAAAAAAAAAAAAAAAAAAAAAAAAAAAAAAAAAAAAAAAAAAAAAAAAAAAAAAAAAAAAAAAAAAAAAAAAAAAAAAAAAAAAAAAAAAAAAAAAAAAAAAAAAAAAAAAAAAAAAAAAAAAAAAAAAAAAAAAAAAAAAAAAAAAAAAAAAAAAAAAAAAAAAAAAAAAAAAAAAAAAAAAAAAAAAAAAAAAAAAAAAAAAAAAAAAAAAAAAAAAAAAAAAAAAAAAAAAAAAAAAAAAAAAAAAAAAAAAAAAAAAAAAAAAAAAAAAAAAAAAAAAAAAAAAAAAAAAAAAAAAAAAAAAAAAAAAAAAAAAAAAAAAAAAAAAAAAAAAAAAAAAAAAAAAAAAAAAAAAAAAAAAAAAAAAAAAAAAAAAAAAAAAAAAAAAAAAAAAAAAAAAAAAAAAAAAAAAAAAAAAAAAAAAAAAAAAAAAAAAAAAAAAAAAAAAAAAAAAAAAAAAAAAAAAAAAAAAAAAAAAAAAAAAAAAAAAAAAAAAAAAAAAAAAAAAAAAAAAAAAAAAAAAAAAAAAAAAAAAAAAAAAAAAAAAAAAAAAAAAAAAAAAAAAAAAAAAAAAAAAAAAAAAAAAAAAAAAAAAAAAAAAAAAAAAAAAAAAAAAAAAAAAAAAAAAAAAAAAAAAAAAAAAAAAAAAAAAAAAAAAAAAAAAAAAAAAAAAAAAAAAAAAAAAAAAAAAAAAAAAAAAAAAAAAAAAAAAAAAAAAAAAAAAAAAAAAAAAAAAAAAAAAAAAAAAAAAAAAAAAAAAAAAAAAAAAAAAAAAAAAAAAAAAAAAAAAAAAAAAAAAAAAAAAAAAAAAAAAAAAAAAAAAAAAAAAAAAAAAAAAAAAAAAAAAAAAAAAAAAAAAAAAAAAAAAAAAAAAAAAAAAAAAAAAAAAAAAAAAAAAAAAAAAAAAAAAAAAAAAAAAAAAAAAAAAAAAAAAAAAAAAAAAAAAAAAAAAAAAAAAAAAAAAAAAAAAAAAAAAAAAAAAAAAAAAAAAAAAAAAAAAAAAAAAAAAAAAAAAAAAAAAAAAAAAAAAAAAAAAAAAAAAAAAAAAAAAAAAAAAAAAAAAAAAAAAAAAAAAAAAAAAAAAAAAAAAAAAAAAAAAAAAAAAAAAAAAAAAAAAAAAAAAAAAAAAAAAAAAAAAAAAAAAAAAAAAAAAAAAAAAAAAAAAAAAAAAAAAAAAAAAAAAAAAAAAAAAAAAAAAAAAAAAAAAAAAAAAAAAAAAAAAAAAAAAAAAAAAAAAAAAAAAAAAAAAAAAAAAAAAAAAAAAAAAAAAAAAAAAAAAAAAAAAAAAAAAAAAAAAAAAAAAAAAAAAAAAAAAAAAAAAAAAAAAAAAAAAAAAAAAAAAAAAAAAAAAAAAAAAAAAAAAAAAAAAAAAAAAAAAAAAAAAAAAAAAAAAAAAAAAAAAAAAAAAAAAAAAAAAAAAAAAAAAAAAAAAAAAAAAAAAAAAAAAAAAAAAAAAAAAAAAAAAAAAAAAAAAAAAAAAAAAAAAAAAAAAAAAAAAAAAAAAAAAAAAAAAAAAAAAAAAAAAAAAAAAAAAAAAAAAAAAAAAAAAAAAAAAAAAAAAAAAAAAAAAAAAAAAAAAAAAAAAAAAAAAAAAAAAAAAAAAAAAAAAAAAAAAAAAAAAAAAAAAAAAAAAAAAAAAAAAAAAAAAAAAAAAAAAAAAAAAAAAAAAAAAAAAAAAAAAAAAAAAAAAAAAAAAAAAAAAAAAAAAAAAAAAAAAAAAAAAAAAAAAAAAAAAAAAAAAAAAAAAAAAAAAAAAAAAAAAAAAAAAAAAAAAAAAAAAAAAAAAAAAAAAAAAAAAAAAAAAAAAAAAAAAAAAAAAAAAAAAAAAAAAAAAAAAAAAAAAAAAAAAAAAAAAAAAAAAAAAAAAAAAAAAAAAAAAAAAAAAAAAAAAAAAAAAAAAAAAAAAAAAAAAAAAAAAAAAAAAAAAAAAAAAAAAAAAAAAAAAAAAAAAAAAAAAAAAAAAAAAAAAAAAAAAAAAAAAAAAAAAAAAAAAAAAAAAAAAAAAAAAAAAAAAAAAAAAAAAAAAAAAAAAAAAAAAAAAAAAAAAAAAAAAAAAAAAAAAAAAAAAAAAAAAAAAAAAAAAAAAAAAAAAAAAAAAAAAAAAAAAAAAAAAAAAAAAAAAAAAAAAAAAAAAAAAAAAAAAAAAAAAAAAAAAAAAAAAAAAAAAAAAAAAAAAAAAAAAAAAAAAAAAAAAAAAAAAAAAAAAAAAAAAAAAAAAAAAAAAAAAAAAAAAAAAAAAAAAAAAAAAAAAAAAAAAAAAAAAAAAAAAAAAAAAAAAAAAAAAAAAAAAAAAAAAAAAAAAAAAAAAAAAAAAAAAAAAAAAAAAAAAAAAAAAAAAAAAAAAAAAAAAAAAAAAAAAAAAAAAAAAAAAAAAAAAAAAAAAAAAAAAAAAAAAAAAAAAAAAAAAAAAAAAAAAAAAAAAAAAAAAAAAAAAAAAAAAAAAAAAAAAAAAAAAAAAAAAAAAAAAAAAAAAAAAAAAAAAAAAAAAAAAAAAAAAAAAAAAAAAAAAAAAAAAAAAAAAAAAAAAAAAAAAAAAAAAAAAAAAAAAAAAAAAAAAAAAAAAAAAAAAAAAAAAAAAAAAAAAAAAAAAAAAAAAAAAAAAAAAAAAAAAAAAAAAAAAAAAAAAAAAAAAAAAAAAAAAAAAAAAAAAAAAAAAAAAAAAAAAAAAAAAAAAAAAAAAAAAAAAAAAAAAAAAAAAAAAAAAAAAAAAAAAAAAAAAAAAAAAAAAAAAAAAAAAAAAAAAAAAAAAAAAAAAAAAAAAAAAAAAAAAAAAAAAAAAAAAAAAAAAAAAAAAAAAAAAAAAAAAAAAAAAAAAAAAAAAAAAAAAAAAAAAAAAAAAAAAAAAAAAAAAAAAAAAAAAAAAAAAAAAAAAAAAAAAAAAAAAAAAAAAAAAAAAAAAAAAAAAAAAAAAAAAAAAAAAAAAAAAAAAAAAAAAAAAAAAAAAAAAAAAAAAAAAAAAAAAAAAAAAAAAAAAAAAAAAAAAAAAAAAAAAAAAAAAAAAAAAAAAAAAAAAAAAAAAAAAAAAAAAAAAAAAAAAAAAAAAAAAAAAAAAAAAAAAAAAAAAAAAAAAAAAAAAAAAAAAAAAAAAAAAAAAAAAAAAAAAAAAAAAAAAAAAAAAAAAAAAAAAAAAAAAAAAAAAAAAAAAAAAAAAAAAAAAAAAAAAAAAAAAAAAAAAAAAAAAAAAAAAAAAAAAAAAQAEAAsADwAOAAQA+f/v/+//6v/p/wEAKAA/AH8AJQFNAuYDNwV2BdAEtgNHAu8AQv+e/ET7bvwR/Dn3BvOS998BlgQq/BX01/YuAI4Bifdx8M/1YQDABuYHogYNBOIA3/8/BBkPHBgnFF4KeA7YJEo6wTnqIYwHmv8yAm/2Z9wR0jTmFAGaBtX4Au6b8GT33vls+6T/MgAC+DDuRO199rYBKQXE/vT4o/qQ+W/soeJP9vsdBiwZDj/pkefIBNwaNBJG99XiQNuZ1UPOUdKq6lUN4yUhJ+ca3hOZEBINuxw6SadwomaELrD9Pv3uG1Ym9AK5zS6yGLnfyMjNu9Bg4In08vSn2im+ZLy1017ri/cD/jQAn/hk7R/y/Qw6KX8sahE58jrs/vjuABj+HP3TC0olvDDmIO4KSgUVBajyUtC1vGfNavWmFwkqpjQFNkUkeQEB5cTn2gObHsooICY7IAIWH/5x3ujRweY4An0AdO5k+jwvJGj/f7N3DWszap5nFk1dHWXy8dth0k3IwLkPr1mvYbTPvLLRKOo97WfZndKA+c48h2ggXPgpUwHy+pQF+QAI6jHfLPF8DIYWMguS/RP9wwNEBtkAy+/xziSpEZsQtRTi4vyl9P7etOGLAKcY1hEm/kX7pwirDRz8MebL7AgSNDGXLhkUovZU3qjQndo6/yQoxDgdLBgbvR76L7k0MSQ4D34FYfwy4CG1bpY2nZLCyd4Y2lrIJ8UP0jXlTAEhKgtVsW6caENJdCuPJH0vsDTyJYwOeQDR+4f15fCp+TYFrfwI5aLaTOQh6RDWG7xBvPDb2P/bDzYTXiOwRI9cD1IGKlcBLPFT+rYKFxKuCc/wdNBkv0TPJe+5/BXxruTi74QPxCaHIuASmhHlHTcjyhbwAPbz5fzTEHEVHALq5rfVY9K919DdqdhbwO6ggJhWuRHxAxkTH3QWTBwONBNJdkwaR55MAGA6aClMIxut/hUEMhGuDCv6tuba04DCnLp9w6jYbemS7ATuNfxBECQYDQsh8jjjXeaJ7T/wy/beBAAQgg4aBS7/o/2q9hbmkNgK4ID/WCUZOcgySR+fDpYIjQuSEGgS4xA8DRIHQwHQAc8IHRGBGvcj3iS5FN3wJMgau1TXdgFhE2kEROwo5Lbw1gN5C30HVQafDB0U0xicGxYbehNpCisK0QyoAbHnXtT22sjy1v+B81Hg4OQuA38cgBPm6kzF4r8Q00jmk+/R8UnvOeqa6gj1agLFCp8KZQTU/23+Jvyh+YX8SQmXHOInTB47Bz36BQS9EpsLgux7yaq2BbpEy6DdxejN6iHlCN/u560Hsy4zRfpCyjEvIKsVpxLRFTYgfC58MewhxQ/4DN4YhiaULREypjnbO18qGgn77vjr+PkqCasOkAtdCuINVAv6/PrpZ9ta0y/R8doe8Gj/Uv0T9EbzDPzoATr8ovSt/ZkctkEXVvlOgzgIKgYoiCCuCuD1UPJA9/Lw4trWvCWjpZlLo+W5GtAS1jnJO7x1xR3psBOuKh8o6iCMKjc/2kYpOZMnFiKPIt8aQwoL+iHvgucY4CHZ79KXySW8LrT7us/JltME2I7giPUIF0E2JD94L9QZEA/1Dd8NGA9SFTAcYxpcDgUDdwFsBXEFcP2R8Mbnqeuf+kAM0B2HMaBCQEYQPFIyZDGoLG0ZqgPQ+q77hvdt7Dno0/De+EzvI9PjtpqvssDP2u7rlPKo+g0FVAg7B2ENaxsQJ3ooMB+LEEsAAe+s47HnZvQu9LPc0bxVrRC4QdDq4wLudvcmCHEZZR1jD3r5QOye7zz8pgR9AAf0G+p+65v9Mxo9LqItiSKHH1AqgjhzOrUp7xAWAtn+b/ls8PbwVQBiEFMMZvLY1SzG48MPzYbh3fnCBzMCZ+8d4KvfA+nM8TD53AX7GbYqZC4SLOwvBjs9RHtE1T8+P65D5ERiPDou8CA2E7IC6/Br4JLW/tcQ4nLwRwJgFDUeqhuXEZgD/PNT6JziQ+Lz5xjwqPIx7I3iGd1M2/jXhdKX0dLc+/AlAf0GHwmSEu8hiSkmJNoYGBHFEOIThxTBDjj/peeK1I3TPuLX7Tjp3tnKzp3SOd895A/f/d667o8GfhhTHz4fSx+tItonFywWKgAc6wXG9ITxi/q+BZ4HmfoG5RrUF8zvxuLEz89l6NH+vgK+9AHlUeMm87IJ9RiBHUceMSJLKmYzlzvyQ31JO0RcM4wgURHZAwz8vgDlDqEbJCAOH+8fMCWLJmYaHAE25ODNz8JnxHvRouNm8kr3Vu+D3xnU5dPY2f/f0OgP9lkAZABq92ztQ+mC7DH3dQdBF4IekRtNFZkRyRBrEr8UnhJsDa4OKhf2GdsORf+q+n4D7g0oEIcL3QRo/ir7OP0OAFb8DfCz4UXcKuYA+0YMKQ8tC8MOxheVFuwH1Pnm93X/OAZaBjcCPf/M/cn5nfAW4mjQsMFXvFXABckO04DczuMS6gPyR/qm/6cEkRGGKr1GpFUfUPdAmTarM78xpSz2Jeof2xsjGrEX0RGvCSkArfMD5lPdwtod2UbYT+At9vsQtxxbEJz5dOlG46Xi8uX+68nvs+zK4srX6dR13D/lN+jc6Ijtp/Yz/3cFhw3/GN0h/iFcHIYYMRjhF3UWchVPE+EK+PsX7z7u+vwJEgscjhLE/S7tQejy6TPqyebC5GHqqvUXAJUJmRPuGzEieyeHKvMnthypCLXxM+D81WHP7Ms9z+bYBeIo4YfU5Mlh0Y7qdgWHFNwXrBaOFAUR7QyECm8JXQfIA9IAhgDMALP9F/qW/YIH4QwtBPDyDuzO+8kZYTIRO0Y4NTK0LZwsLiqsH/0N//md58nbVNqM3/rjruR14zvi+98r2+3VktXY23flhe6J9Lf4dv77B0gWXCgQPLNNR1ZMUHdAOzMdLuQq9yMaHBwXLRQ5D8gEvffl7krsNOy8687qjOjj5HPkKu3d/ZcMOQ34/ZPsRekV9z8LyRkBH3Ad6RYwCwL+2PYI+QQBTQi/CkkJkwf7CZ8RCRjVFHQGg/Mv5dTh9+lE9ar3ne7x4/ng4OSv6N3phe+6/wMUqyFNJSghNRnEE0sTdhGYCRwABvvz+ob+NgSxBmkATfQa7OXsffFM7zXi19K/zKPTNOOn9McBoQTr+1Hun+QE5LHsZvkDA+8FLgMt/eH18O/W7djvYfMV9M/wzO147tjyD/sZB8ASHxhDFl8Rqg2lDQUQOw7IAhTxQuT+44jsjfPP8+vwce7C6TzgB9gG2cTi9vDJAGYOKBV1FfEU6hfBHg0niSvtJ3ke2BRCDT4G0P+a/nIF/Q36DEf/au8C6Z/tQPeo/R37TfFp6BXo5/FVAdoOJxTTEOMKqAfHB14JAQv9DTwT5BYWEwUG3fbr8W/8ahCLIWwmVSDqF5ETCxPhElYQwwm3/6v20fOz9+n9MQHyALYA5QHmAan+6vrp+Zn5afai8Azto+5F8kr1CvqCA10QDxvCHSkYGw+TBif/7Pj/9oT78wKdBx0ItAYNBB8A6P2RAKUGQgs0CXn+5e8t5YnhHOIO4xvkG+ZN6Nbop+e26fDzlQPAENUVOxP5DaEKowkdCsYMohJ8GZoblRVcCqT+8vIe5lPbHdcg2HHYvdSu0NfSattA49Tjd95/26bjlvdmDoAe0yQWJJ4gvx4/Ibwl2CbtIh8e1hz/HKoY7g/iCoYOsxW4FyURnAVf+4n2Efjn/qcIHxKtGAUbPhqlGSYbSBz7GB0Q0wRu+1310/KQ9AH58Prc9qnvPuqy6I/rmPKw+0QFRA+BFz0a0xYvEOMI+wHO+5X2wfIf7uHkYdhgz4LNzM6Mza/JmsbMxcHGKcksznXXnuRL8lz8GAKFB2MQ/Bo9IZ0gcxuGFKMMSQVeA1MJQRL7Ft0T6Ana/Z31SvSN+Ib9rf7i+5z5Zfv//7IEjAcXCIIJABCVGTgeIBoaE3gQPBObFz0ZaBWpDM0CbPy3+z8AcgmvFccgSyZJJWQgChrrEp4M6AlhChIKugZTAhz/hvvc9eTuiOh95WXntOy58rz3P/s6/S7+qP+NAi4HgQ5SF1cdTxtlDp36KepG5W7rlvRa+G70fOyd5THiveB23xTfc+EU5xLuDfQt+Er7a/69AD8BUAFEA34HswztEegV2hbsEwsPngrCB08GVQVjBJMDJANXA9ADhwPsARwAu/7X/Ib7q/1tAVsAk/eN7K7nuOsF9Z39WwBb/NL0f+2U6fnqWfBB9jL7HQA/BfYI0gnICIUImgosDeAMwwm9B/UJxRCJGDEbFhXoCLX9Efhh90X5Vv1TAxAILQeB/6r0x+vk58roweuX7KfoieF420Tah97P5LvpNe7R9bP/ngXeAyv+d/wFA34OHxcCGJYTGw/BDYMQxhU1GYoX9BExDAIJdgeLBK/+kPcM8i/v8e3i7QLwRvWa/IEDbAkhECQZNCT5Ltw1MDWyKqcYTAYV+ob2GvvWA0wKZglIASX2Duy35Q7ky+Yp7Ejw0fBm79Lu9O5A7vvtkfAX9lj8uADsAnMG4g0CFlsZdBYUEoISSRjGHkoiMyOoIrUgyR1PG4oZ7hZvEvgMCQjAAqz6e/Do50DkyuXG6b/tkvGv9dP4iPj08jjpTOEk4TLoBfGV9qT29/KX8OTzVvyXBN8HcwZxBE8FwQhrC68K9gZmA6MC6gJhAHX78vhu+/n/jwIeAs3/tPy/+nr8mQEBBk8FVP9+93PxMu8L8Lby5fcDAFMI8Au0CEQCa/7m/v4A2QKZBRUJNwr8BowAFfpE9d/wiOuF5QfhwN/v4NviieRs5t/pue/89Wr7/QC5CJwSbhxTI5AmZyYAJPgg4R4YHaAZ6hKHCj0ESAOnBsIKowvdB7AA9/jh8ufwIPVt/msHHgzXC4EGz/yd9O3zffpoAQABsvdV6zviod4o3lLeH99w4h7ppfFd+IH7dPz3/BT+6AErCV4REBcgG3kgyiYxKSUkmhnODz8LTguPC9UI1gNg/1P8HfiW70LkFNyE2+PhWes49NL6mf9gA+MF4AdOC1UPfhACDjcK9watA/z+CPkL9AbybPG/7qvpj+WP5IrmquqT8Mj2zvsiAK0F4Ay5E5IXTRjxFwUYIxjSF6IX2hdbGP0YihjnFfwRmQ5jDJ4LJw3PEAgUJBTYEIULnwVmAH/8Bfqm+Kn39/bC9nj0fu2P5IrfquC15IHn9ubr41fhheGD5FTpLO8C9vv8egQvDFgRchAcC20GUQYHCWIKnAivBvEGFQgwB98EFAO6A9MGzQqrDJsKYwT9/EH4jvgv/M/+gfwX9sjubeqc6mvu7fMf+xUDcAkIC3YHeQDC+WX2Q/cO+u38Jv9+ArEGiAn0B3AC7fu493L2dPhk/OH+jf0g+lz3xfVX873wcfE793v/3gVjCHoIBAhoB0YGogUMCBkOxxSeGYocPB5GHkIbyxUnEb4ObwwYCJoBIfpa89nuae2k7sfxi/U++a38JQBHA0kFawSk/134QPK37xPw4fHu9Jv5mv/OBCkHtAZlBSkGSQq3D3UTRRQEEz0Rog/vDfYK1gRr+77xCey162XtAu0K60zrzO7X8m31Hveh+Tj9nAD9AmgEMQU3BhcJAA5cEqcS3Qx2A+77x/ly+wn9Uv1K/cH8hfoN9iXw9uoH6cHrAvJ7+KP8W/6//jb/BgADAVMCsAM2BMoDuQKRAJD9zvsv/QEB/QPeAtb9v/hn9wT6pv27AK0EggqsEHYUTxSLEecOqww1CoMIHQlGC7ILeAi2A70AmABVAfgAuP9+/kj9W/wG/Gb7ZfmD9lL1Bvg9/lQF2wmoCkwJqgcLBusD2QHPABUB4QKsBWwHtQV5AA77BPnJ+sX+DQNKBgkI2AfhBbMCzP37963zVfJP8s3wD+3O6V/qm++K9gH74/ss++L6Kfw2/1gDNQceCZgITgfnBqUGOQT1/tf4EvSj8DXtluoz677umvF98Efssent6wnyZvmg/9sD4gYXCoQOXBMGF5QZhBtlHKob2RipFHIQnA3cCwcKXwe5A+v+KPo9+LP6IwCdBIYEiAAp/VD+mQOQCTcNLQ2/CfIE7gBo/nf8lPrF+TD7dP+sBdAKNQzLCMQB4foG+M/6zAFnCSEP7BJ/FU0Xohe3FXUSGA8LC74Ejvwg9HrtI+kG5pri7N4L3N/ajdw/4W/muukv7ODwDPmHAy4OMBZ+GVgYKBWREkER/w/+DesLLQo4B78AtPfr74DrhemU5xjlmOR46IDvkvXF94P36/eu+Rz8Sv9sA+YHAgvcCqEIuwYhBkwF3QI6/677Evn99vP0l/QV+AH/iwbPC1YNogt4CJcFmgNDAhcBEgBDAD0D0wgbDsIPLw3oCI0FjATGBYYG2QOQ/QT2avAE79zxvPZi+pD7Mfzr/jMEFAklCk4HbAOxAHb/AP8n/5n/bv95/dv58PXP8gDxUPE+9Ln4f/ys/ef7OvnZ94H3hPZL9WT2PfsWAjAHTAiMBhgEEAJ+AXwDYwg+D4oV/RgTGagWVxNfECoOXAziCbIFdP/Z9/bwBu027J3sPO3/7vnyy/jK/t8CEASaAqj/b/0I/pgBegZjCgAMtAteCnkIugaVBjoJ6g01EjETGBDoCxUKzwp5C+AJXgb7AtoAdgCXAqoG/AkOCvgGLAOTAAH/r/wj+EfyF+6u7STwDvNZ9BL0cPPr85f1gvdZ+PH33ffO+YX9JgF8AgYB4f1d+r33EPeO+AP7qvwQ/WT8j/rM+C/5cfsf/Wb8lfl49q/0LPWl+Jz+cAV9C4kPFxFXEDUNkAe8APz62/e692H54fqu+7H8Y/46AKABuwLWAygFSgefCp8NAw5HCpwDSv0j+Tz2p/N+8q30TvorASEGXAdhBfwB4P49/cz9cQC1BBEKag9nEycVZBSOEQMOsgu+C4gM+wqwBbz9DPbQ8Vfxf/EY8HTug+4H8G7xJvEq8C/vOO/Z8Gr1ZPxmA1QHhAgXCFAHQgYEBRsDlAEhAbQBiQFIAF7+AP3D/J7+xAETBdMGawYgBMQB/f8N/wv/aQAtAp8DGwTvA6sDyASbB+gKwgt/CbUFlQLXAB4Asv7B/H/7LPyM/mEB+QJ3Arb/5ftM+GL1cPId7//rjOrg6n7rU+s465fsUfBp9mH9wQK4BeQGDAdUB0wJIw0KEZUTahWSF50ZkxlsFmwSvxDHEfQSyxBvCqMCfPza+Pb2MfYB96/5tf1wAkoHQAtQDc8MFQqfBiQEAgOgASb+3vic853vjeyx6Ybn/ubA6FLshPCL9LH3pvkT+9T8y/9IBGAJwg0AEWUTkBRME9cP0wsUCGkECgFN/0AAbgIEA6UAivsm9QLw/e0278fyufe//B4A9QAuACT/HP6X/DP7o/uH/iECowMUAif/qfzh+hz51fYj9A7xCu6G7DftR++C8XDz9fUN+3IDrgytEusTLROnE0gVJBVjEa4LzQaqA6MBNwDO/+sAQQMVBgYJ0guoDUgNVAr8Bc8BD/4v+sb23/VA+Bn8Xv6m/fz6F/gM9gX1LfQU8rvtBeiO40zileSv6Q/wTvbo+3UAYQP6BI8GnwiFCrYL6wuuCz0Myw3WDpMOVQ6dDyQSJBQTFNMRbg4OCzgI0QU7A+H/1PtO95TzmvI19Rz6zP4AAtAEMghxC4sNkw4ZD+sOlQ24C54K1AqECxELugiRBXQCcv5Z+CvxHuyy6yHvLvNR9aT1i/X79Tr34fgU+mH6Ifqv+ov9IQMxCg4Q0xJ2EukP4At1B1MEHwOjAkUBK/5n+R306++87WjtKu5U7/TwOfOX9Xb3A/l4+kj7LvtE+3n8LP7x/vf9CvwS+837Lv0v/jz/oQA1Ae3/FP7l/dD/JgJPA3kDRwQaB9QL7BDEFDUW0BQREZ8MIwkgB5wFMgN6/2P7ifiu96v4mvrr+xz8hvvf+if7xvwc//AAuQEBAuIBowAW/lX7svnl+Tj7R/wc/GH68PcN9lL1a/WA9U31JPXm9Jb0C/Va9hr3mvZO9rT3Evph+5b6d/iv9lT28vbd90P5k/u+/aP+DP/tAD4FKAvOEIcVsBlPHXgfvR+xHqAcvhiSEj0LWwXoAo8DBQV7BZIEDwOuAb0Axv+U/pL9cvzK+Y/1VfIp8yP4DP9iBXoJowppCRoHLgXDBJwFdgY8BgMFRQS8BMQF8AXBBBwDmQFP/wD8IPkP+OP4pvuRADwHig3VEDUQGQ1fCb4FPwIM//n7c/gY9EjvyOqi56Xmx+dd6vjtbPKR9+j82gEeBpUJuAtaC3sHQgGc+374tPfl98D30/bn9d/1BPco+dL7i/3Q/PH5jPcU+GT7cf+oAsEEwwV5BZIEywQTBzsKKgzfC30K1wkyCigKqQhMBs4EbQTiA34C+gAyAN//I/+S/l7/NAFPAlgB1/5k/Lb6jPlq+DP3iPYa90H4uvg++In3Ofd+9wz4GvkW+/j9BQF0A8kETQVVBeYEhQSMBcgHHwmpB+8D5/+d/Ir5N/bW8hTw5u1n67roOuc36LXrvvCp9nr9fATbCRMM5QuzC8wMdw57DzQP+g0fDFUJpwXQAcP+pPwY++D5bPmz+dv5X/lD+ej6Ov7oAZ8EOAYZBxcHcwaGBlgIhgsNDqAN3QnOBAwBi//P/kf9PvsE+h/6Dvsw/J39If+2/3n+NfwZ+4n8OP/lAPgAwgCdAWUDKAWRBq0HEgh1B/QFwwM3Aff+tv0Y/vn/WwKlA8wCZwAU/pv83ftj+xr7T/s9/H795/4GAeYDgAaWB0cGmwJ//Zr4mfV19RH47/uy/iL/HP6M/Yb+ewD3AUcCGQJ/AoQDoASpBe4GUQhmCaMJPgkRCfwJpQsUDT0NoQurCFAFQAIiACT/vf7a/Rf87fnr9xr26vRq9Rb40/sB/6sAHwGCAXsCgQMRBE0EsAQmBdYEnQKc/tb6K/lg+Xr6JfxG/gQAawBp/8/94vx1/Uf/KgHwAVsBKgCy/88AJQOiBcYG3gW6A+EBpwAQ/y/8Xfii9HLxce6q68Xpa+mh6hrthfCa9Mz4k/w9AFcEcAhWCwwMpQpcCH4G7QSmAl7///ui+S74tvbe9JHzu/Mk9dX2AfiP+Af5Ffov/En/qwKXBcsH6QjQCA8IVgcvBzYIwAr3DeQPXw89DSEL0gnHCNYGnAO6//v73Pjd9lT2KPfb+Gz6u/rK+c34CvnH+o/9nAAGAw0EkQNWAqoBJwJlA84EiAbXCCULggymDN0Mwg2NDkIO6wyIC0MLoAsdCy4JdQa2AxUBTP6K+535Cvmb+YP6Tvv7+/b7gPqF+G/46PspApwITgwGDAgJQgWSAR/+GvsR+Vf4WPjW94r2DfVg9AD1iPbJ9/H3R/fi9nz3kPm0/Pr/MwL0ApACwAHYAF8ArgCrAWEC8gFLAFL+bvzz+hH62fkS+nH6gPq1+sH7vv33/58BHgLzAf0BXgJLAqQBmwAQ/5v83/m598b2qfa09jT2QPVl9Iv0E/bQ+A/8Yv8LArADswTeBYcHkAleC+YMjg5yEO4RHRK0EIYOGwxlCXoG5QMXAgkB3P/i/bL7xfre+wT+RP/U/oD9VfzP+wb8uvzM/Rb/CQA+ANf/Af/T/b/8Q/xV/F78wfuk+hD6KvsP/rkBywS1BukH3ghQCR4JsggsCDEHugUGBEsCnADt/mT9XfwJ/ED8l/zM/HX9bf9+AncF/AZ2Bj8E9gAi/YP5QPeH9y36if0NANgA1v+4/bL7mfp1+q76kvpv+XH3mvXN9G31UvcO+vL8dv9gATsDzgUICdgLMg20DKkK1AclBRsD+wGvAe8BSwJaAi0CYwI3A1oEPAXDBXMGewccCLIHbQaVBAgCjv4Z+235Cfq8++L8TPzI+SH2afIi79Psfuw77hrx1vO99ff2IPh4+aH6z/ul/YIALARICGkM/w9fEi4TDBMEExQTCBILDxMLTQjoBxQJ7QkICXoGAAPW/g76lvW48vPxl/Ke83n0HfXm9Rn3g/gq+ib8LP7i/5gB6QOvBsAIBglDB2UEuwGB/xz9g/pS+Mz2Z/XV83XyFPLy8qL0oPbC+Cf7dv0r/24AHgKSBBgH3AjBCfwJgQnNB7MEggHd//z/iABNAG7/1/6t/hH+kPxP+9z7V/5bAYoDoQQPBf8EYwR0A74CUAKeARwAQf67/Mb7H/us+rb6Z/vf+zv7t/lj+L/3Tvdo9rX1sfbZ+cz9FgGSAxcG1ggZC+8LIQtfCYAHvwUHBDICVgCH/sv8Rfuo+lP7cvyj/EH8Iv2lAPQF7QojDuEPkhDOD0kNRgqYCNMIyAnbCRoIaQSJ/4T6v/Ys9Xv1VPat9oX2zvbw91z52voT/WkA1QOnBUoFJwRDBMIFAwfxBhAGHwUpBNMCQAEnABYAvQA2Af0AOgBM/1z+tf3v/V3/UwGWAgoDogO7BJwFaAX3A+gBPQB6/1//PP8F/wj/wf76/FH5aPVd853zcvU9+KP79P7VAFAAAP6F+9D59Pjg+N35+/uo/qwAfgG1ARECUAIQAtEBogJgBMIFnwVOBEUDlwMWBccGlgf6BiQFsQJAAEf+3PyW+yT6ufiX94j2/vQy8/jx1fHJ8k/0GPZ++PL7HAC5A4IFcQVEBJICnQCj/tb8Y/sd+pj4tPbe9JXzA/Po8jbzkPRB92/6+Pxe/6ICewZxCcIKTQuqDHMPqhKhFN8UGBR8EoEPeQuYB1IFnQQvBOECtgBt/mv8o/qk+Rn61PvO/QD/P/9T/77/LAARAP3/7wD9AucEmQUdBVUExgMvAywCCgFJACoAYACbAPAAtgGQAsgCDQIXAawArACHAHIA+QDPAeIB3gBp/1j+h/3f+/34FfaU9Hb0vPRC9Zv23fgS+xf8o/u1+pD6iPtH/YD/2QGdAxgEPwPHAV4A/P45/YT7AfsM/HD9l/0n/Gb6ofka+if7Yvwv/t0AgwP4BBgFvASaBKoEegQQBIoD9QIIAgABkgBWAe8CyQS4Bu4IMwueDFIMnwrrCD4I0weABmYEzwJPAjoClwFxALD/qv+W//H+Qf4x/lz+Hv5//TT9Vv1E/X38qfu/+wH9aP7I/tH9QvzN+rf5zfic+Bb6Rf20AMkCFQNfAhsBZf9q/d77T/uV+6H74frz+az5uvmL+UP5xfmI+0X+OAEVBK8GbwiaCH4HeAbjBn4IoQnwCPoGNgUzBBkDQAEs/9f9RP3E/O77Pvvd+m76kPmg+HL4Pfkl+tH65/sV/pIA/QHyAXoBeAGbAQQBwP+w/jL+kv1i/BL7avps+oD6Ivqm+e/5VPs0/Qz/EQG7A38GKwhqCFwISQkzC+8M3A1nDvgOCw+WDWYK0wYzBIUC9QA2/7v9ufxZ+yP5r/YI9dz0NPbG+L788wEMBxIKAwtEC7wLngshCq8HcwWpA4oBUv6h+uD3l/bR9af0I/MB8rzxKPIP89n0uvf1+mP9gv70/pv/UwCeAKUANQF2An4DcQPMAqgCNANcAwMCTv9T/P/5M/jH9l72hvdf+Z/6pvro+RH5svjx+On5v/vu/Uz/U//G/sX+M//1/pb9N/x5/Oz+PwLeBIAGpwccCFUHqQXFBNEFCQgJCmkLTQy7DF4MIwt1CfQHhAaMBNoBAf+I/Fj6NviG9gX2JfdK+Xf7af26/04CQwSLBEUDyQFCAYEBqQF4AXIBrgGrAQgBHACH/1X/1v6U/RH8BvtY+rz5SfmC+aD6BvzB/AH9zP2x/9wBQQOjA5EDGwPMAWj/h/xd+iz6F/xV/w0DtgaZCeIKiAp2CXMINQeOBcYDdAJMAYr/CP2O+vH4hfj4+N75LPtH/dv/mQGQAXIAqP/0//MANQKXA/EEtAWpBVUFxQVKB+0IZgmCCCAHJwZ2BYsEYAOMAgUCDgEu/1n9sfxm/Uz+kf5j/tP+EQBoASMCmwIOAxsDHAJ5AO/+Av5L/Tj8evo7+HD1OvIA76nszetR7GHtwe4v8Xn15vrk/2kD9AU1CEcKswtmDMAMSw3MDZwNJQy4CQcHtgT7AicCUAIbA+wDcASABBsEzgIqAJD8ivkP+O/3Xfga+V76JPy9/VX+6f1p/b79Ev/RAFUCNgMpAwsCBwDn/Zn8Jfy8+wL7ePqI+tb6yfqQ+h/7qvwv/or+7f11/fX9Bv/o/3YASAGRApIDbQNjAogBUgFKAb0Ai//s/dj7lfme96X2v/ZF94n3kPfZ91n4bPgG+Bf4ovmj/Pz/dQLnA8YEAwXxA2MBeP7E/AD9tf4UAcUDoQY9CewKgAtvC/IK6gmFCF8H/AYxByMHIQaEBGUDQAN5A1oDBAPqAqcCUAG+/hT8rvrN+uL7J/0q/vb+qv+QANIBUQO3BIEFYAWqBNEDvAL7AO/+2P1a/rH/sQCyAB4Avf+y/3j/vf7c/Tz94fyq/K38J/07/pv/zwDOAdQC8gMTBSYG8wb9Bq8FyALg/mz7ivnw+NH4JPmI+hL91v/XAfMCoAM5BFcEdgPxAagAJQAqACwADwAuAIAAbwC+/8X+Df6H/fP8c/xI/EL85fsP+0z6jfox/L7+fAEuBAEHzwn2C/cM2gz2C3wKVgiOBXYCqv9q/Zz79vl3+DT3AfbU9Ff0VfWy94j6M/2n/+sBfgOwA4ICCgG/AAsCwANvBJIDowFY/wv94vrx+Dn3ePV985LxMPB571bv4e9K8ZLzWPY++TT8Qf8sAl0EOgXJBOoDsgObBCUGhwdRCHMI4QdBBpcD3AA8/0P/hAA3AsoD+QR9BYkFqQVMBkkHRwjxCD0JlQk8CqoK9Qn7B30F8AJIAIH9D/uO+S35hfks+vL60vvJ/Lv9Xf6I/if+Wf19/AH8LPwY/aP+kgCoAj4EmQSuA7EC9QKPBFkGGQecBqgFIAUIBcUE2wOXAsYB/gHZAmUDNANsAk4B7f87/oL8RPvS+uv6Cfuu+nf5RffC9FPz5/Mc9t34efsG/s8AhwNABVQFGwRJAkUAC/7X+0n6kflU+TP5F/lP+Qb6Pfvw/OL+dgAFAWMAeP+E/xQBjgPOBTUH8AdBCPoHLwd5BpkGiQdRCMcHqQWyAiIAy/6J/rD+0/4V/8b/2QDqAYkCZQJmAdz/Rf7t/Nr7H/vm+i77SPue+kP5S/jC+Mr6Ov0I/xEA3wCbAd0BQgFYABMABAHIAnUEPAUKBSQEEQNTAhMClQEDAE79mvoT+dv4Gfn8+Ib4kPie+W/7OP15/mT/NwCpAKsAtABpAekC9ATZBqIHvAarBN8CZgIOA7MDMgNiAe3+yfxQ+1b6bfm5+Jz47fgM+dr4+fgJ+vr7LP4PAJ8BQAMzBToHyAh6CQQJfQd8BecDWgO2A1MEcwTbA6MCuAAn/pj7+/nJ+Yn6bPs1/DH9UP7t/nv+a/25/AL9af62AF0DtwU+B5MHhAadBPoCQgJdAs0CGAO7Am8Bb/+t/RP9n/1R/mz+Pf66/k8AdwIGBGgENASMBJMFiwbQBqEGYgYTBk0F3gO2ATj/B/0D/GD8df0P/rP9Cf0f/RD+Jv+7//P/EQAkAMD/vv6P/UX9if7oAA4DBgTXAyMDUgKwAXMBegFCAaIA5/9i//H+Yf6z/Rb9kPzt++v6r/nE+Mb4rvnP+nb7s/tC/MD9vv9XARAC6AEXASgAtv8ZADEBegJjA8oDJwS9BDcFQQUxBWIFfAXJBBwDJwGb/0T+jvyH+in5Efmd+Xj5Efjy9drzGPLg8L3wMfI59UT5d/3jAOICfgNoA2sDyQMvBB0EJwNtAZL/9f1N/E36T/hA98730/l6/BX/fQGrAyEFRgUGBC8C8gADAScCfgNFBC8EaAOHAkgC6ALIAwcEaQMyAp4Aq/6U/A374foI/L79NP91AAkC9ANzBdAF+QRIA3EBLQDq/6sAzAF5AhsC0wAj/439FPzR+ln6SPsc/aL+E//s/g3/7v9HAdgCkQSwBi0JnAtHDREOWA5VDq4NCgxsCWcGbQOpACT+H/zo+oX6qvo1+xv8Lf0L/qD+M/85AKkB3gJ0A+QDkAQ1BQsF1AMFAlEA0P41/WP7tvmb+Dj4UfiY+Nj48/jx+D75WfpB/D/+zv/+AEoCvQPoBEoF3QQ/BCYEhQTQBL4EyQSDBb8GkAc1B7oFuQPHAUMAWv8S/xb/yf69/e37nPkd9/L03POG9Lb2OfnM+mD7vPts/Bb9F/1x/Nj7F/w//dn+gAD+AQADNwOHAp8BNwGmAWsCCQMUA1ICswDE/mD9T/2J/ksAqgGLAjUDwQPPAyUD+gHjAB8Aqv9d/2n/7v/GAFUBCQHN///9K/y/+vT52vk4+qX6yvrC+tj6L/t3+4X7zPvh/I/+x//9/+f/qwBaAg4E0wTWBLgExgSSBN4DwAJ9ASEAxv61/UD9Wv1//VT97Pxt/OT7QvvF+tr6x/v6/LD9s/2Y/f795v6s/9n/u/8XACcBdwJ0AwUEKwT0A10DdQJpAZEAPQCzAN8BkQMmBRwGkwYaB9oHSAiiB+EF0ANjAtwB3QENAqMCzgMWBbUFXQVgBAYDMAHK/jD8JPoj+Rz5zvn2+kj8JP0e/Yr8OPyI/C39tf1G/h3/wP8h/8D8cfnB9on1jfUI9sf2XPgw+9/+jwJzBRAHXQfBBu8FsAVOBmQHSwivCJEIywcLBncDEAH0/y0AxgCTAGv/8/3F/NL74/oP+rP55vl1+ij7Qfwq/sEAUwMwBSgGiQbMBncH0wiVCs8LiguRCccGUgSNAgwBSv9w/Qz8Mvtp+nb5rviL+OX4OPlU+bL5uvpW/CP+8f+aAe4CxQNJBM4EbQWfBagEjQJAAMP+IP6c/cb8C/z5+0f8gvy+/In9+/5QAHwAVf/a/T393v0Q//X/UACBANgAQQGHAXIBuABN/9H9Kv2X/Wb+yf7g/ov/TgFmA4YETQSKAwQDoAK2ASgAh/5h/bH8XPxg/Nb8nP1c/rT+xP7h/kj/7f+5ALMBsQIAAy4CwgDf//z/rgBGAZkB3AEAAowBOgB9/kX9+vwH/X78Ofu++aD49vfE9w/4r/hi+Uv69vvK/lACVgXQBscGLAa6BWgFJQVNBR4G6QZqBgIEiwCm/Sn80fsM/Nz8T/7//2ABcQLJA60FkAeeCL8IlAiLCK8IDwnBCVIK3wm+B0EEhQB//Rb7v/hu9hP1jPWN96756vqE+1f8vP1m/9oA6AGCAqECQwKvAU4BVQFbATgBKwF2AaABKgFOAO//YQADAakADP8B/Zz7H/sh+zD7YfvX+1H8gfx2/JX8CP1p/U39nvyS+zf6sPhw9x/3sfdk+In4jvhZ+Rr74vzT/SH+tv69/3kAQwB1/w3/oP/DALUBFgIWAvwBIQK4AsMD/ASdBfIEJgMgAZz/uv5R/lr++P4MAAoBcwGCAfMB/gL6A0gEGQQsBMEEaAWfBXkFSQUWBWME7gJHAQcAVP/6/tf+5v4B/9f+bf4w/n/+xf7U/VX7SPgN9jb1lvX49oj5Rf1SAWIEzQUVBjsG0wbaBw0JVApQC48LBAsmClcJpwjsBzwHrwYyBoEFLQQ/AlYAIP+H/t799fxc/G38tPyT/BP85fup/BX+Vf/B/2r/9v4B/63/rABzAXkBcgDF/kn9kPxB/JP7VvoK+TL4xfdv90X36veX+aj7GP2b/c/9j/7Z/0ABlALiA90EJgW3BCEExQOTAysDXgJTAUMAGP/c/fH82vxx/eX9oP0A/QP9Dv6M/5gA0QB0AP//j/8m/xv/7f96AfACjgNjA/8CwAKgAnsCTgL8ASYBwv9i/r39+P1y/nH+Dv79/Yn+K/9F//r+8f5T/6f/qP+i/wQAzwCIAdABsQFvASIBvQAvALr/kP+k/6j/h/9D/57+ef1b/FD83/0/ABYCiQLsATEBvgAuACj/6v0h/Qv9Vv2R/Zv9jP2C/Wv9Tf1H/Ur9/vxV/ML74/uu/Jz9iP7d/7QBUwPGAxMDUAJ8AnQDQQQ3BHcDbgJBAcj/Qf5p/aj9mv6S/1YAHgEUAjQDVwRgBRsGBgbyBIQDzQJmA/UEbgYbBzEHJAe0BlcFJQPgAA7/Xv1F++j4G/eW9jP3SfhL+Rf6wvp9+1H8Xf27/kUAnQGWAlEDCASHBGQEnQOqApQB5v9f/eX6x/lU+mP7mvuv+oP57Pj++GX5HfpQ+/z8qf7j/4QA0gATAX4BUAKqAxUFvgVjBdcE/ASsBdYF0QQjA+ABfwGpAcMBqQGrAeQB8QF2AbYAWwCSANIAqwAkAHr/sP7s/ZX9Df4k/1sAVQE0Ai4DAAQoBLoDhgNxBFQG8wdGCLEHSgdVBwMHrQWKA38B5v9a/nz8h/r0+BD4B/jz+JT6H/zH/Hb8/ftF/FD9V/7Z/h7/pf9fAN4AAQFGAdQB+AG4AP/9yfpA+J/2h/XX9Ob0vfUE9z74Q/kR+sf6gvuZ/Fv+kQB2AoYD/wOUBHwFSAZRBrgFRAWBBfoFAgZoBb0EbgQWBO4C/QAH/8H9H/28/Db8h/vL+kv6g/rX++f9p/9AAN//hv/c/48AEAFNAYoBmgHvAHz/MP4c/lr/vAAcAYEA3v/4/+MAUgL8A50F8gayB/8HNwhRCOkH5wbbBYEFwgW3BbAEHgMDAn0BxwBp/+79NP1b/ab9Xv1+/Gv7b/qj+Tv5fPmb+k78+v0z/+r/DAA8/1X9EvuK+Tr55Pks+w39Tf8pAd0BpgGwAdECcwRNBbwEUAMBAioBogBNAE4ArQALAfQAdAD+/+L/EgB5AP0AbgFDASoAqv7P/Qv+uf7J/vX96vxZ/Db89Pt7+1r7+/vk/En95vwr/Jv7TvtI+8H75vxV/mb/7f8wAGMAUADS/yv/4P7p/rn+4/3s/MH8iv1S/if+YP0j/Q/+lf+nAN8AlQAqAMD/iv/G/3kASwG5AbEBmQG2Af0BUwL6Ai4EjgVEBssFbwQKAwUCBAGr/0r+i/28/W7+Pf9VAB4CdgSZBvQHrgg5CY0JUAlzCHAH4gbZBucGxgZpBq8FMQTaAVv/df0V/Ij6ffin9uT1OPb99sf33Piq+sz8iv6D//z/eQATAaUBTwI3A0MEMwXwBaoGZAeDB2UGPgQHApMA/f/W/8X/yf+7/9/+xvwD+t73a/eK+Dr6i/tR/NT8Wf0E/gP/fQA/AsADmQTHBJkEDgQVA9IBxAAiAIH/Xf78/Ef82/wm/hX/Lf/s/gj/p/9yAFMBgALlA9QEwgS7AyMCOQAI/u77nfpu+g375fvH/OT9Qv9eALIAigCtAIcBzQLhA4cE+gQ/BQMFFgTIAr4BQwH9AGEATf8P/hz9tPzX/IT9bP4C/+/+Y/7Z/V39kPxK+/X5ZPng+e76CPw1/cH+bABrATgBOQA+/37+af2s+5n50/fG9oH2AfdJ+Bf67ftl/ZL+wP/eAKIBJgLZAvcD/wQLBeUDeQLUARECTwLRAdoAFgDT/7D/bf8o/x3/I/8N//3+PP/M/3QABQF8AbwBkgEEAYwArgBxARAClQHv/yv+af3j/en+4v++AJUBJgIfApQBGwE1AbMB7AF9AX0AT/9H/qj9pv0u/sz+Lv+A/zQAbQG2AmgDgQOeAx0EoATIBMUEFAXQBV4GDwbqBJEDogJWApcCJQO6A+IDRAPUAfz/JP6E/B37GfrH+TX6/PrN+8r8Mf6r/2cAIQCk/+z/IgGiAq0DIQRkBLAE1gSUBBYE0wPcA6kD0gJLAUH/9/y7+hf5j/gS+Rn6Ufv3/Dj/kAEfA4wDeQPVA+YEHQbVBhUHPgcuB2MGrAR7Am4AsP4G/Wf7Mfqu+cr5W/pI+2z8OP0i/Sz8IfvB+iT7wvtT/Az9Mf6f/98ArQFeAlsDdQQbBd8ELASdA4QDqgO6A1IDTgLPAE7/P/7W/bn9Wv2N/Ln7SvtJ+3D7q/se/L/8Af1t/DT7WPqH+nf7b/wu/Qj+Ev/z/z8ABgCo/1L/xP7R/bn84/uY+9n7qfz6/Xz/dACbAF8AggAXAZMBZAHOAI0A8gCZASoCwwLIAxQFDAYgBlsFOAQ3A1ACVwFgAKb/Rf84/3b/+v92AGsAtf+u/uj9pf2G/Rf9efwy/GH8pPyq/Lb8Zv3f/moAMgEqAdEAfQALADj/Df4L/Z788Pzv/Yn/IQEOAj0CaAI6A7UEFwbbBv0GrwawBdADbAGH/8n+Df+L/6j/Zv88/17/wv87ANMAdAHhAb4BKwG4ALwACgFkAY8BbgH1ADkAn/+x/3kAYgGvAT8BjwA4AC0A9P9F/5X+W/5x/jn+gv28/HP8pvzn/Oj8v/yk/Mn8d/3q/uIAggIWA9MCqgJLA3sEfQXwBRwGDAZLBYcDNwFY/1X+vP0R/V78Gvx//Df90f1a/un+fP/v/xYA7/+k/27/hP8RADEBpgLFAxAEuANPA+kC3AGk/+D8zfoB+u75uvlD+SL5yPkO+4X87v06/z8AxgDpAEcBWQLsA3cFiQYTBwcHKwZ+BKACLAEdAN/+Lv2P+6r6ivqp+pP6U/o1+kP6VvqV+nn7Lv1U/xMByQGNAfoAvwA8AU0CUwN3A10CkwAv/9b+Sv/h/wcAx/9a/73+kf3r+4v6Sfol+2f8Y/37/YH+Ev+c/wcATgA/AJr/h/7M/SX+jP9eARQDmgQHBi8H4AdACL8IZgmtCfgIjQddBvoFFgb1BVUFmwRPBFoETQT8A38DzALDAWYA8P6u/cP8QfxO/AD9+/2l/pz+H/7s/XP+eP9JAJgAyAAsAZMBlAEGATIAZf+O/nn9JfzW+sf56Pgi+L33+ffN+PD5NfuP/PT9Rf+AAMcBOwObBGoFawULBckElATxA8ACpAGJAXUCbQN/A6MCiQHlAMYA0gCxAEIAg/+f/vj91/37/c39Af3p+xb7qfpo+iz6KPqP+iL7bPtW+1z7J/yt/V3/sACdAVQC/QJzA7QD/QN7BOEEpQSKA/YBfwB8/xL/P/+t/6r/lP62/CX7xfpa++378/u8+9z7Pfxr/CL8qfuC++v7q/xm/Rj+2v6l/zMAUQDt//T+i/0r/G77kPtc/Fv9Yv6W/xsBuAIXBCYFIgYJB34HPgemBlkGfgakBmQG2QWCBYEFZQWsBFwDuAHo/+r96/tN+mL5IPlf+Rr6T/uu/Jb9xP28/Vf+0v+CAZoC4gLWAu4CCQPJAkcC7QHtARsCVALIAn4DIgRMBOkDLgNAAusAQf+q/aL8LPwP/BH8WPws/WL+Tv+Z/63/OABIAT8ChgJYAmQC/gKfA68DGQNZAusBEgKHAsgCbgJgAen/sP4T/sv9M/0b/C37OPtW/PT9L/+s/6L/dP9H/0H/0f8nAeUCdQRfBa4FjAUTBUoETwNeAooBsgDd/1P/Rf+Q/8H/pP9k/zj/5v4x/lX9AP2b/c/+1P9DAGMAtABbAQ0ChAKoAoACKAKpASIBwQCVAIgAbgAqAMH/J/9i/sb9wf1A/p3+NP4B/bD73fp9+j76L/rC+iz8BP6h/7YAgwFPAvIC+AJoAsEBWAH/AF8AVP8e/vf8EPy2+z/8cf2c/kr/w/+FAGgBrQHeAJX/Cv/I/yIBCAIBAmQBuQAcAFf/UP4k/Rz8d/tC+2X7p/up+1j7L/vC+yb9yf4GAMkAXAHmATQCHgLkAeQB7AF5AUQAqP5x/RL9Ef2k/Kj7mfr++fr5WfoE+/j7AP3l/aT+Sf/I/w4AYAAnAY8CNARUBa8F3wWQBpwHIgiCB+EF2QPWARIAy/5R/p3+Pv+U/1X/xv5H/h/+bf5O/4YAowFQArkCPwMHBNMEQAVHBT8FYgWABTcFgwTaA3kDzgIWAXv+K/w3+6b7ivwW/UD9Xf27/W3+VP8tAMEAGQF/AScC1wITA3cCUwGIAIwA3wDCAC0A6v9rAEMBuAGYAUwBSgF6AWwB+gBrAAAAy/+8/+n/bAAkAcMBEgIQAsQBQAGmAEMAXADXAC0BKQEfAXQB8QHXAa4AyP4T/V38h/z7/FT9fv11/T791fxs/Dr8RvxX/Fz8XfxC/Mr7KfsL+wX81P2W/48A1QDiAPoA9QDRANIARgHfARQCxAF/AdoBtQI0A8ACfAEPAPr+YP42/nf+9v51/9H/FgBqAN4AbQFDAn0D0QRxBb0E3QLaAKz/Ov+a/jr9iPtx+l/68vql+0j84PxL/Uj90Pwe/I/7U/uL+0z8ev2r/m7/xv83AB8BQwIcA3wDxANYBAkFawVnBUYFVAV9BXkFVAV8BR0G0wYOB24G4QSfAjMAN/4U/Z/8LPxb+5D6afr2+oX7Yfu7+nr6GPs//EL93/1o/h3/w//y/77/ov/t/3YA9gBSAYUBhAE4AbAAGACO//H+I/41/Wj87vuz+5D7qPs4/BT9vv0e/q3+4f+NAdMCJAPOAocCqwIYA5cDGwSqBBsFGQWUBN4DSwPoAoIC8QE6AUQA5P5h/W/8dvwc/Y39X/3y/BT9D/4z/6r/Mf8//mP99/wd/fP9aP8kAaoCsANEBJwEzgT3BBoFFQWGBDoDfwEHABv/V/5E/Qj8PftP++f7UvxI/FL8/fxL/nn/2/9//wP/5P4d/3P/qv+L/wP/Rv7O/dP9+P3C/TH9pfx5/JD8m/ya/BL9Uv73/z0B1gENAlgCowKhAkACzgF3AUMBJwFdASICVQN0BCkFZwVMBdcEKQSjA54D7wPyAzYD/gEEAY0AGQAy/w7+ef3N/Z3+OP9T/yP/9v7n/gP/cP95ACMCAwSDBVQGSAZyBQ0EfgIkAQcAvv4b/aD7DfuP+3L85vzO/Lj8+/xu/d79dv5z/6EAYAFOAeAA7wDWATYDUATBBJcEEQSDA0QDRwMuA24C/wB0/2L+sv3g/Kz7cfqc+Sv5lfiU96f2qfbZ96P5J/sl/PD8+v10/0UBIQOgBGYFXwXHBPYD9QK7AWcAbf/7/uf+w/6D/qv+mf/TAKMB1QEDAsIC/QMKBWIFHgWdBN4DkgLSABv/4/1U/WP95/2K/tD+gv79/fP9qf6z/3oA7QBxATwC2QK5AvMBUgFhAd0BKQITAvsBJwI/ArQBfQAi/zH+of0O/TX8Kfso+m/5J/lm+Rf61fo9+2f76fsQ/Xn+l/9KAO0AnQHmAWsBlwBWAPYAqgFiAfn/PP4A/YH8iPzR/Dr9qP0l/t/+CwB+AckCnwMZBIMEyQR/BJ0DyQKjAv0C7ALqAWMAQ//0/hf/F/+4/iT+Xv0x/K/6avnr+F/5TvpA++L7Lfwm/CL8ePxY/UT+nv43/uj9if4cAMwBBgPnA/EECAaxBroGqQb6BpkH7geUB7cGvgXDBKUDgAKmASEBpwDx/0L/9/77/uH+nf53/o7+gv4K/nz9qP3K/jkACAEQAQ4BkgFmAtQCbgJpAVAAWP90/sP9gf2n/R7+y/6c/2kA6wDeAHsARACHAAMBfAEXAkQD3AT/BdEFmgR5A0EDnAPAA10DwAILAg8Bvf9z/rb9p/3q/SP+SP6K/sz+6/73/if/Zv9w///+Y/5N/uL+av8o/zD+NP2M/Aj8ivtk+wj8Sv1//iD/Ov8n/yz/YP++/yoAZQD8/9f+mP0W/X79Of61/un+L/+w/zUAhwC7ABABUgEBAQsAHP/r/of/ZAD/AFkBrwHSAXEBmgDN/1v/Lv8A/73+ff48/tj9ev2S/Uj+EP8d/27+4/0u/iP/AgBGABoA8v/k/8b/n//N/4wAhQE+ApYCzwINAxkDyQJUAu8BZgFqADH/Uv4g/lX+YP4G/p/9jf2w/ab9dv2K/R/+3v4//0P/j/+aAB4CfANuBAIFTQVHBfQEaAS2A8sCmgGEACQAiwAPAesAIgBv/0r/YP8y/8z+rf4Q/47/ov9Q/yz/h/8TAFsASwAUAM7/fP9X/8b/6gBKAkYDvQP0Aw0EugO5AkUB5v/G/qP9cfyW+3z7BvyN/IX8IPz++1389/yH/ST+/P79/7IAvAAyAHn/9P7v/qf/+ABgAjQDQAMFAx4DfwOSA/AC0QHBAAYAZf+c/tz9ZP0C/Vn8f/vy+hj7wftv/PH8Xv3J/Tf+xv6b/7sA1gGCAq0CwAINA08DFANjAqoBHgFWAN7+8Px7+xf7dPvM+6f7Hfuj+or61fpW+wP8x/yS/XT+gf++AOUBrAIpA70DhAQdBRoFlQQTBOQDuAMQAwECXQGfAWwCBQMaA+ECqgJeAsYBCQGhAMoAbgFAAjcDWgRgBckFcgWXBF0DugHn/2j+wv3L/cv9Mv04/KX73Pt4/Nr84fz2/G79Gv6r/hz/of9FAOUAZAHgAVsCqwKuApgCogKnAj0CJgHB/6T+HP7t/cD9q/3e/TL+UP4j/iH+0f4JAPUA9QA+AJb/Yv9z/2X/K//4/uD+2v78/nz/PgDoAFABpQH7ASECwQH7AHAAlwAkAWYBMAEUAaYBpgJKAxgDRAJOAYIA3f9l/z3/Y/+q/8j/of9K/9f+SP7B/Zj9C/7P/l3/p/8TAMQAWQFgAfgAuQD1AEcBAAEUADP/Cv95/9P/sf9P//r+xf6V/nH+YP5X/mL+sP5e/y0AigAlAHP/Rf/n/9cAVwFIASkBUAGQAZ8BogEZAicDTAQIBVAFaAVlBQkFBgRhAlwAP/4l/EL6/PiR+LH4z/im+Fb4Evjw9xL42vhf+iD8QP1d/ez83/yq/ez++f+TAP4AWQF5AUMB5ACRAEAAxv8h/4z+Rf5P/pH+6/5E/1D/w/7R/Tf9gv2E/nb/0P+w/4D/Xv8u/wH/P/8vAHoBdQLaAvACDgMhA9EC2wFgAMT+fP3m/Bb9zf2B/sT+tP62/gP/SP8M/1f+zv0G/uD+t/83ALEAlAHZAhkECAWoBRMGZQZvBjkG+gXTBawFfgV2BcgFOAZXBvoFcQUHBbAEGwRMA4ICAQKqAUEByACuACsB8AFhAkcCxgEiAXEArP/x/nL+Jv7R/V795/yH/EX8HPws/Hr81fzZ/G/8DPxS/FD9cv78/tX+bv49/nL++/7I/+AAAQK+Au0CzALWAkYD2wM2BC0E6wOSA0YDOgOoA1AErwRiBH4DUgIeAeP/rf7J/Zf9w/2W/bn8nPsI+0r79vt0/JP8kPyr/Ob8Mf2R/en9A/7E/Wv9av3l/Yj++v5E/6T/AQD6/4P/Bf8K/6L/TgBlAM7/8P4y/rz9lP29/Tb+3P6a/2QAQQEbAqgCsgJJApUBqwCh/7D+AP53/dL82fvN+kv6ofp/+yz8U/xV/L78m/14/vX+Kf9o/9P/WwAGAdwBzgJ9A44DCAMhAgQBzv/W/p3+SP9ZACsBbwFSATUBIQHkAIoAVgBQACQAlv/b/n3+wP4u/wv/Jf4O/Xr8rfxw/Wj+Sf/q/0gAhQD1AMQBrgJPA6sDKwTzBJ8FwAVxBTYFQgUZBQ4EFALn/0v+c/0B/Z78U/w7/Eb8SPxO/HH8q/zd/Bn9mP1i/k7/OQA2AXYC5gMWBZ4FnQVxBTEFogSaA0sCDAHc/2H+mvws+9L6l/u//I/93/39/Ur+7/7c/9oAoAH1AREChgKwA0UFeAasBhYGRQVqBD0DmgHS/2b+gP3t/If8dPzR/Gb91/0Q/mn+LP80ADAB+AGKAtMCpQL8ATQBtwCCAE0AEgAjAIwA9AD9ANgAGQH4AfMCTAPiAlkCTgKnAsECEgK7AFD/QP6X/UT9L/0c/c/8Tvz2+wr8aPzL/Cn9tf1m/tP+kf7P/TH9Lf2E/aP9Wf3t/LD8tvzm/EX98P3G/nn/0/8AAHEAUgFVAv8CKQPkAkkCegHTALMAEwFvAWYBPQFnAeIBJALHAQYBlQC5AAwB9QBlAND/kP+L/1//3P4L/ib9m/zV/Nb9IP/0//n/Zf+p/ur9I/1L/Kb7Yftf+0/7KPtO+xv8WP1o/vT+Kf9k/7P/6P8PAIcAkAH9AkwEOQXRBSsGQgYnBgcG/QXWBUwFfgTUA3sDHwM/AtgAjP8Y/27/7P8DAN3/9f97ABcBbwFuARoBZwBq/23+zv2N/WT9Hf3O/Kb8lfxj/DD8Vvz3/ML9U/6p/h7/6f/CACwBJAEVAUgBmQGzAbAB/AHEAq8DJATTA+MC+gGTAbMB+AECAnQBSgDg/rH9Av21/IL8evzo/MH9c/6e/oH+uf5//28A9gD5AN4AIQHKAaYCdgP9A/wDTwMmAhEBZQD0/0j/TP5C/WD8q/st+x37rvuX/DH9KP3V/Mn8EP1A/f78efwx/Gn87Px7/Sz+TP/jAJwCEgQNBXAFMwWZBBME3wO6AxkD1gFvAIr/Tf9g/1D/I/8R/wz/r/7X/eX8afyC/Nn8Ev1D/af9Mf5+/lv+Bv7c/QL+af4A/6r/OgCdAOIAQAHWAWsCjAIpAqYBeAGFAW4BIQEGAUgBhQE3AUAAEP9A/gD+J/6E/gH/if/1/0AAngA2AegBewL4AocDKQSXBIQEAwSUA24DNgNUAqwA2f58/bj8Vfw0/Hf8Kf31/YT+5P5f/xwAyAD6AJYA2f8i/+T+Zv+cAAACyQKXAugBpQEmAt4CEQO2AlsCTwJFAtQB/wA+AMz/df/w/lb+Hv6T/nX/ZwAvAaQBrgFjAQMB2QD2AB8BGQHjAJIAHwBv/5j+8P3S/SP+XP48/hP+gf6l//sA7AFgArICKwOoA+cD0AN0A9oC/AH5AA4AOv9l/qP9av3w/dT+Wv9O/0P/wv+sAGcBkwFjAUwBRQHXALj/Mv7J/MT7Ivvg+vX6P/t/+4T7cvuR+/D7Z/zc/Gj9Bf54/qL+z/5+/7cA8QGEAmoCQgJ5AscCnQLlAR4BxwC7AHUAr/+l/s/9cP1//cz9IP40/tP9L/3a/Dj9/f2N/qf+mf62/gj/TP+W/z8ATAEjAjMCjQHJADsAr//a/tj9/Px4/Dv8JPxC/Mf8qv2f/k7/m/+O/zH/uv6Y/v3+t/9QAKgAQQGmAp8ETwb5Bo4GrAXtBGIEsAO1Aq0B6ABaAND/Rf/n/s7+2v7g/uL+2f6z/o3+sv5F/xoAxgDqALgArgDuAEIBfwHVAW8CFgNhAxoDfgLkAUYBVQD4/of9hfwn/Er8uPxb/ff9R/5H/kb+j/4G/1T/ev/q//0AawKDA98DygPXAyQEWQQtBNsDzgMRBEUECARoA8cCUwL9AcYBvgGoATgBYABm/8D+pP67/pj+MP63/U/99/zg/EP9Gf7n/iH/w/5w/qn+LP9X/wH/nv64/k///v+FAAoBrQFrAhwDkgOlAy4DMgIkAYsAhwCjAEkAb/+K/hn+Cf7k/W795vyd/Jn8pPyq/Lr88PwN/d38c/wQ/Pn7S/z2/NL9xv6o/08A5ACiAWUCuwJpAsMBYQFsAYIBUwE2AcUB9QIDBDcEqAMRA+4C+QLMAmAC8QGvAZABfQGBAagBxwGrAVcBDAHTAHIA1v9C/wf/Af+V/nD9BfwH+6/6nfpf+vP5r/m3+ev5PvrU+sn78Pzk/XP+7f67/7sAigH6ATECbwK+AiADgwPEA4YDhQIEAdv/sP9TAOkA1wBrAFwA0QBeAaMBqQGoAaQBaAHXABYAef9I/5v/ZQBbAdsBcQFEAOv+3f0X/Uv8hvse+zP7ffu0+/T7ovzB/bX+6f6D/kH+tf6g/18AogCWAIIAkADNAEMB4AFkApsCfgI6AuUBZwGyAAMAvf/m/wcAx/91/9L/HAG8AusDZQR5BHoEXwT2A0UDkQLsASoBQAB7/yP/Mf9a/4D/yP9JANkAMQFvAcoBLQInAnMBawCn/1X/DP9n/pD9Ev0R/RT9vPwx/On7H/x+/KP8c/w3/Ev89fxB/gQAzgE8Az0E/ASeBfEFhwVbBAkDJwKmARUBRQCG/y3/G//b/if+Tv3H/L/85fz2/BT9cf0V/sr+g/89AN0AFQHVAHUASgBmALMANwEBAs4CDQNKAr8Aa////kP/fv9F/8T+af5g/ob+0P5J/9T/DACs/8/+yP3z/IH8nfxQ/WX+VP/J/wAAhwCFAX8C5QLHArgCLwMMBOMEfgX8BXIGlAYQBgsFGASkA4cDPwN3AlUBLABJ/7v+bf4Z/oD9l/y++177b/uK+3D7dfsF/An98/1g/nH+kf76/m//rP/C////jAAxAaIBzAHVAdEB0gHbAeQB1QGVAUIBFgE3AZIB3QHiAcABqwGQAUMBsgAzACEAcAC3AJwASAAHAO//x/9g/9T+aP5K/lb+SP71/WT9uPwr/PX7F/xH/Dj8Bfww/AD9If7t/hL/4P7w/mT/+f91AO0AgQHyAd8BWAHeAMwABgE1ASAB3wCoAJcAqQDVAO8AswDn/6v+ev24/F78Lfwc/GL8DP3Z/YT+Iv8PAG4BzQJnA+kCtQFrAHH/rv4F/ob9R/03/TH9PP1w/bX9zf3H/fv9ov5//zkAxgBhARYChgJYApoB3ACeANQALAF5AeIBdgL7AgkDkQLfATgBkQDD/+T+Lv63/Wv9VP2H/e/9Sv5t/oP+u/70/tz+cv4v/o/+oP/fAL4BIgJjAqgCxAKHAgACYAHPAGUANQBaALEA6QDRAJsAjwCuALYAfQBLAJAAYAFUAu8CKQM9AykDrQLcATEBLAGvASoCPQIsAnsCSwM6BN4EEwXdBEgEfgO+Ai8CogHEAIr/aP7G/Zz9gf1K/TH9hf0I/hP+c/22/IT83fw+/Uj9I/0c/U39jf28/fL9O/6H/rj+4f5B/8z/VACsAN0A+gALAfoA8wBZAUkCUwPrA+kDjwMuA7sCDQIwAYYATgBZADMApv/O/iH+/f10/jn/8f9bAIIAsQAkAaIBqQHjAKX/jv75/Yf90fzu+3H7f/u3+577QPv3+hP7afug+5X7kPvE+0P86PzB/cz+9/8QARkCKgMxBOoEQAVqBawF3gW3BRYFWQTnA7QDKgPrAVgAM//g/gH//f6p/l3+eP7l/kH/TP8D/3H+tv0W/d38GP2G/ez9Kv5H/jX+yP0F/WL8aPwh/Qb+mv7p/nz/kQDQAasCAgP4ApICtAF1AEj/ov6K/rL+y/7K/r/+1v5S/zIAIAGdAWYBvAA+AFQA0wA8AUsBPQFgAYcBRgGiACcAZwBbAVkCxAJ8AtQBIAGIABEAvP96/zb/+v4G/6L/pgCXAScCgQK+AqEC6wHkACwAAgDu/13/Rf4//cz80vzr/PX8Nf3Y/Zz+Ef8Z/+T+u/7G/vX+L/94/6b/qP/C/1kAXQE1Am4CUAJ/AjID9gNDBP0DiAMpA8kCEgIFAfT/HP+C/hT+xP2n/bH9w/3P/Qr+pf6A/1AA9QBuAdEBAQLfAZkBjAG+AcYBbAH0AN0AJAFAAdkATQBLANoAZAFrAQABkgB9AKgAzgDNAIgA1//E/rz9Of01/VD9Tv1d/aH97f39/er9E/6t/l3/df+q/nr9sPyN/MP87/z9/BP9Kf0c/Qn9T/0O/v/+wv8uAGsAuQBNATMCYQNzBNIEGwSgAkEBuADpACYBFAEQAYEBJwKAAlMC7AG8AcoBrQEpAVkAb/+E/rj9PP0Y/f38gfzB+zv7S/u4+xP8OvyI/En9Uf44/+n/rgCtAYwCCgNHA8MDnwSLBSAGVwZkBlkGAgYkBdADbgJVAZcAIwDs/9L/oP8z/8H+nv60/oj+zv3Q/Bz8+Pst/Gv8l/zz/Kj9kf5f/wkAuwB8ARQCYAKFAqMClAIfAmcBtAAZAIz/Ff/e/vf+JP8F/5/+c/7n/tD/kgDpAA8BYgHbATECRQJTAqYCIQM8A5sCiAGQAA4AEQB8AA8BYQEsAbEAkAAnAQYCXgLOAbMAsf8M/4P+z/0Z/c/87PwN/fD8v/zS/C79lv3f/Rn+Tf57/pr+yP4X/1r/TP/b/lD+Ef43/oL+0f5Q/wAAfwBcAKr/+v7U/i//mv/A/8f/9f9UAKgAwwCwAJEAeQBUAPT/TP9V/jf9NvyR+0b7Ivv++ub6GPuo+0v8l/yJ/Jv8Nf1Q/pH/xwDnAb0CBAPBAlICEwITAhkCAwLmAfABIwJFAjIC5AFrAbsA4/89/yP/fP/H/7X/qP8oADQBMQJ8AiICswFyARABPwA8/5/+0/6l/3sA5QDcAI8ASABJALIAPwGBAVkBJAFkATgCMgPnA0UEgwSlBGsEygMeA80CwgJ0AoQBKAAL/6n+5P4y/2D/mf8AAG4AxwAbAYQB9QFVAp0CuAJ2ArMBmwC3/2X/cP9M/5z+vf1o/c79cf64/pL+Vv46/jH+Mv5X/qr+CP9D/1f/VP9K/zf/Qf+s/38AUQGmAYgBXgGBAccB1gGVAVEBOwEpAdcAXAApAHAAzQCpAOT/EP++/gD/bv+2/9f/9f8tAIUA2QAEAdcASgCa/zf/VP+x//T/IgCSAFIB3wHMAToBrgB7AGUADgB5///+3/7k/qr+FP5O/XP8f/uD+tr5zvk3+qP62PoO+3D7Afy2/LD98P4CAE4Avf8Q/zP/RQCZAW4CqgK4Av8CbQO0A7ADfQNXA1IDRwMbA8gCYAL7AcEBsAGHAegAyf+//mf+yP5J/13/A/+Y/lv+Nv4J/u79Df4x/u/9Kf1Z/B78ovxs/eP9xv0s/Tr8KvtQ+vX5JPq5+of7c/xp/Tv+vv4W/6v/oACOAfIB0QG7ATUCJAMDBGAEPATaA2wDAgO8ArECwgK3AnwCNAL+Ac4BfAEJAawAbgAZAIb/4v6D/qP+F/+E/8j/NwD7AKsBxwFWAdkAkgBJAK//4f5e/mP+wP4r/4b/zv8WAGkAzwA2AWcBJQGEABIAZABdAUACawL+Aa0B5QF7AvUCGQMRAwMDxwI8An0BzwBfACkACAD0/xYAbgDrAIcBNQLLAv8CrgIUAq8BwwEpAo8C0gLwAq0CxQFaABH/gv60/g3/Cv+o/k3+UP61/j7/rP/d/7f/Sf/D/nT+af5d/jr+Sv6k/t7+dv51/Yf8PfyZ/BP9SP1k/dj9yf75/ywBOgL9AkoDAwNVArgBigGvAd0B5gG6AVUBmwCc/5n+2v1T/cr8NPzE+5v7jPtm+0D7Y/v5+6j85fx5/PL7/fu+/LP9Zf7Z/mL/HQDdAF0BjQFsAfsAfQBUAKkAMgGVAeYBcAJTAzQEdATfA90C2gH4ACkAhv85/0r/eP94/z7/+v7c/vj+Of+V/wcAdACxALIAggAzAK3/Av93/j/+Of4Z/rz9dP2y/W3+/P7Q/g/+e/2X/TL+2v5T/8z/bwBGAU4CjgPjBPAFYAY7BtkFdwUUBZUEEASwA2YDzgKbARoAB/+p/qT+dv4F/pD9I/2X/AX8z/s8/CP9/v1c/lX+T/6N/gf/nf9JAOAAMQE7AScBJQE2ASsB+wDwAEMBswHDAVwB9gAKAXEBjQEIATkAtf+y//z/HgD3/53/Ov/l/qr+ov7G/uT+zP6U/nz+gf6H/oT+ov7s/jr/Zf+P////tgBkAb8B2wEZArMCUANWA4UCQQENABf/Qv6c/UD9Ev34/AH9Sf3G/Rj+BP6u/YH9oP2x/WX9+PwH/c796f7F/yUAVgCpABkBfQHmAYICUwMbBJIEugTGBNcE0wSVBCIEiAPAAtUBEwHDAM0AzQCXAG8AjAC4AIQAsf+K/pX97/xA/FT7jfp5+iL77vtI/AX8Z/vR+pL64frc+1T96/44AAoBhQHgARsCJwIxAmYCqwKyAoEChQIVAwYEswSlBOkD2gLOAeMAOgABADkAnADVAMQAiwBkAHYAswABASsBAAF3ANb/ev+P/8f/uP9T/wH/J/+f/+b/s/9S/y7/R/9Q/yn/9f7p/gX/F//8/sP+nP6z/gr/iv8NAFoANwCy/zP/A/8D/wD/F/+m/7MA1QGhAhADVwN+A0ADcAJrAdoA+gBpAZoBaQEgAQEBHgFZAZgBtgF+AeQAFgBt/wH/lf7c/QL9gfyP/OT8Hv1D/bj9r/7Y/6gA6wDuABMBXAGQAZoBgwFGAdcAOgDR/+r/ZgDeAAsB8gCXAPr/M/+N/kT+K/7i/Tn9iPxT/MD8aP3U/RH+bv4B/4z/8f9NAOAAlwEYAhICcQFlAE7/g/45/l7+pP6g/kb+9/00/v/+6P+HANwACAEkARwB9QDuAEcB2wEvAvoBUwGAAK3/4f47/ur96f3q/cf9qv3u/bD+u/+yAGABkAELAcH/E/6w/Av83/uw+2T7d/s4/FP9Hv5K/iP+Kf6e/mP/LADdAH8BBwJpAr4CIANxA3sDPwP7Av4CLgNFAzwDQQNpA4IDOgOLAtcBgwF+AW8BNgH2ANgAwQCVAGQAWQB1AHUABwA2/1b+y/2u/ff9h/4Z/1v/J//G/rb+C/9Z/z7/9f74/nD//f9EAFkAjwAOAZkBxAGCASoBCwE2AZQB9QEeAtIBJQF/AFYAuwBDAZMBqQGtAasBhAEfAbYAggCHAHAAHQDt/0gAEAGuAckBhAFDAQMBfwCc/6X+BP7J/bP9rP3M/S/+zP6X/40AoAFfAk0CbAF7ACQAbwDDALMANQCZ/wj/bv7P/XD9e/27/dP9vf27/QT+gf7//m7/3f8oAC8A+v+4/5b/jP9r/zP/Iv9K/23/Mv+2/mj+kv4I/2X/j//G/zMAmwCWABYAj/9t/77/OACHAJAAcQBqAL4AegFZAtwCtQITAnYBBQGRAPL/W/8x/2v/l/9V/8v+a/5X/lL+E/6W/Sz9Af0J/S39hf0b/rv+G/8d///+F/97/xYA4wDrAegCZQNAA9oCogKLAjICVQE3AFv/+/7q/uT+7f42/7H/EgAcANf/dP8I/5j+Mv7f/YX9Ev2t/LX8af2D/mP/p/+F/4P/2f9QALcAHwGjATgCqALaAv4CTwOoA6MDAwMMAj0B5QDiANkAoAA+ANn/i/9b/0n/Tf9j/5X/4/8vADAApv+y/tT9gP2b/bv9pv2f/ff9qP5t/xMAoQAkAYcBrgGTAUgB2QBOAMb/ZP9O/4D/xf/3/ywAegDDAO4AIgGlAXACHAMyA7sCLQLnAdkBtQFRAckAVQAPAPT/9f8PADgATQAtAMj/Hf9H/nv9Af0X/aP9I/4l/sn9pf0Y/t7+bv+h/7b/8v80AEQAOwCGADcB6gEiAsoBKgGGAPP/hf9p/6L/5P/c/53/jP/c/2EAyADfAKcAOQCt/zH/+v4i/3X/ef/i/vr9Vf0+/W/9df0o/c78w/w4/S/+hP/pAAAClgLUAgQDTwOYA7gDxgPXA7gDCgO5ASwA8v5I/gX+4v3T/f79WP67/gL/Pf+M/+T/DAAJABgAXwDcAHIBAAJeAncCWwIvAi8CUgJFAtIBOwH4AFkBGQKyAugCEQOGAywElgSUBDIEoAPkAvgB5wDq/yD/if4T/sT9hP0U/UP8Nfti+iL6R/pO+gP6r/m8+Rn6dfq1+gH7dfvo+zD8efxE/b7+kwA3AmgDJAR7BIQEXwQzBBYEAgTRA3kDGwPcArMCoQLJAjYDkgNKAyYClwBx/xX/PP9a/xz/kv7//Yz9Of0L/Rb9Wf2m/c/94/0A/kf+j/60/rb+s/64/sz+DP+b/1kA4wDkAHYA6P9j/9/+S/7U/ar9sP2L/TH9Bf1s/Wv+of+VABMBNQFDAXIBzAFDApQCdwIGAq0BtgHxAesBfwEKAeAA6gDMAFoA2f+x//f/VQB0AFMAKAAHAMv/b/8h/wH/Ev8v/z//PP8W/8r+W/7h/YL9U/1g/bH9T/4X/7L/yf9q/xH/GP9E/xb/gf4K/ir+3v6w/z0AdgCBAHoAawByALsAOwHGAUICpQLZArICMwK2AaoBEQKJAqECRwLRAaYB2gExAncCqwK9Ao8CGQKUAUYBQgFDAfMAMwAy/z3+m/1p/aH9Ff5+/rX+1v4c/4v//f9JAJ0AFQF8AW0B1QAjAPn/kAB+ARsCDQKgAVABNAEWAdcAdQD3/2L/1/6P/qf+DP+Z/0IAAQG5ARsC/QGIAQQBkQAMAG3/8P7O/uv+//7m/tf+Ef+D/9H/tf9J///+JP+b/xYAdwDEAP4AMQFoAaYB0AG1AWIBLwFgAcYB8AGlASkBzACVAEgAsf8G/7j+7/5g/77/9f8YACkAHwAAAMz/ef8L/4b+CP6X/Sj9n/wQ/M37EPyw/Ej9mP2y/aj9Y/3V/DH83/v/+zr8Nfzl+737Mfwt/UD+DP98/7X/3v8jAJoANgHLASYCSAJbAn4ClwKWAq4CFQPGA0wEIwREAzICYAHZAGoAAwDC/7j/yf/m/zIAuAA8AWAB6AD///3+Kv6J/Qn9sPx0/Cr8uftn+5X7UPxC/Q7+vv6S/4oASwF4AUYBQgGpASoCawJlAkgCRwJxArkC+QIDA60C9gEQAUkAtv80/7P+Uf5P/rD+IP9X/4D/4/97AAABQwFRAV0BbgFYAQgBogBjAEIAGQDX/53/i/+U/4z/c/9j/2T/cP+R/9z/TwC5APUAEAFHAcEBUwKSAl4CCALrAf4B8wGoAUEB8ADUAPYASwG5ARcCLwL6AaQBbQFKARQBwQB8AGEASgAHAM7//v+SAB8BJwGQAKr/1f4x/qj9QP0t/YX9Df5h/mf+Xf6H/tH+Bf8A/9P+o/6k/vb+qP+RAFwBugGxAYQBYwEyAaMAvv/s/m7+Ff6a/RP92/wt/eT9mf7t/tr+jv42/vf98P0j/lj+a/5Y/mL+v/5Y/+3/ZQDEAAwBNwFLAYMBEwLYAmYDXQPZAj4CzAFrAe4AWgDp/6//n/+P/3b/af98/7b/8/8MAO//nP8s/+z+DP9V/1//C/+q/pf+yP7x/uz+5v4O/0H/LP/A/kD+9f3q/ef9xP24/QX+s/6M/2wASAH+AWkChwKCAnoCZgIqAuQB6gFfAvkCQQMQA7YChAJjAvMBLAFuAB8AOgBGAOj/K/9x/g7+Ff5b/qj+xf6e/l7+XP69/kT/nP+n/4X/Zf9B//3+y/4F/8P/pgAiAREBvQB0ADkA3P9f/wD/6f4A/yv/df///8IAiAEJAhgCxQEyAawAcQCNALgAlwAHAFX/Af8//8X/HgAtABYAAADb/5v/c/+t/04A+wBhAXwBiAGoAeYBQwKqAvkCDgPqAp0CSwLwAVEBUAAr/0v+x/1k/Qf93Pwm/b39Kf4O/pX9Lv0T/RD9zPxZ/AP8+/sk/EX8XfyQ/AH9uf2l/pn/SACIAH0ApgBTAVYCKgOOA70DEASEBK8ERwRlA2wCngH2AF4A4v+f/37/Yv9J/0L/Qf8R/4T+sf3r/Hb8SPxO/Jr8M/3U/SD+Dv4A/lL+7P51/8H//P9jAAABrQFTAv4CswMtBBEEUgNDAjQBVACx/0z/Cv+//kz+3f3U/U/+Bv+L/7D/oP+f/7P/uv+2/87/GABOAD0AFgBLAAYB5QFaAksC8AGFARMBkQAcANz/3v8DAEMAsABTAQwCpwIlA48DvwNrA4QCdAHUAMoA8wDXAGcA9P+m/0//yf43/t792P0a/ob+Af90/8H/7P8aAGcAxAD1ANIAhABmAJsA5wD5AOQA9AAxAUMB6wBZAOr/x//X/+7/EwBfAMkAIgFQAWEBbQF+AY4BnwHAAeEB1AGZAWcBWwE/Aa4Akf9I/kf9tvxo/Er8efwA/Zv9//0q/lP+vf5g/wEAYABvAFsATQBUAI8AAwF0AX4B+gAyAIT/Ev/M/qP+mf6e/pT+hP6y/lD/OADrAAMBhADc/3X/Wf84/+n+kv5h/lH+SP5F/lD+V/5W/lX+c/6u/sr+mP5L/jf+dv7I/tr+tP6w/hf/wP9fAOAAbwEXApoCpgJFAtQBjgFgAQwBjAABAJD/Tf8//1T/Wf8h/6v+Kv7c/c39xP2Q/Un9Pv2L/eP99P3X/e39XP7I/rb+Mf6u/Zb94f1a/tD+Lv94/8H/GQCIAOkACwHiAJ4AjQDIABoBQgFHAVcBeQF8AV0BZwHRAXkC+gIOA9EClAKQArsCAgNYA6UDwwOgA1gDCwPDAnECAAJ0AecAawADAND/DAC8AGkBfwHnACkA0P/I/5b/+v4v/pL9VP1r/cL9XP4t/wIAkQC8AKAAaQAiANb/ov+g/7X/tv+z//r/ogBeAbwBrwGCAW4BZgFFASIBRQHKAVACXQLZATQB4ADwACABLwELAb8AVQDd/2r/Bf+c/iz+3f3Y/Rb+Xf6M/tz+uv8bAWoCDwPsAnYCHQLkAWsBdgBE/zb+dv39/MX8y/zn/Oj8xvyu/MX8Dv1+/Qn+pf4n/37/vP8NAIoAGQFiATUB0wCwAPAASwFmAT8BEQH2AMYAZgD0/5z/Zf85/xv/GP85/2X/jP+3/+j/9f+m//3+Yf4v/lP+Yf4W/pX9Mv0Q/Rz9Tf2z/Vr+//5X/0z/E//2/gP/E//6/sj+p/62/vv+ev8nAOsAnQEbAm8CsALXAssCsALPAjoDhgNPA8sCiwLhAn4D1wOUA9IC8AEtAYcA9P+F/0n/M/8g/wH/Bf85/3j/oP+w/5b/HP8r/vf87vtp+0j7O/so+0T7s/tW/P38pv1j/jb/5v8/AFQAaQCbANUA/QAUAScBQQFmAa4BKQK9AgYDzAI+AtIBuAGoAWQBCwHlABQBZgGNAWIBJAEIAfUAswBFANb/hP9H/xf/Gf9e/8L/FwBTAGwASQDU/yD/bP77/eL9CP5V/tb+iv8lAHQAfACPAOsAcgG8AZ0BVwFHAX8BugHAAY4BOAHEADoArf8u/8b+dP5N/nf+Af+2/0gApQDvAGAB2gEIAq4BAAF9AFMAVQA+APn/jv/6/kb+rP2C/eP9o/5+/zcAqADUANkA6AAhAXwBrgFuAeUAjQCxABsBbgGDAY8BvAHWAY8B6gBNABQAOABTABQAif/x/oH+Sv5E/lD+Rv4W/tP9qv2o/ab9aP0F/b78u/za/M78kPxt/Jr8/vxl/b79Mf7O/l//rf+8/9v/OgDGAEsBwwFTAv0ClAPwAx4ELwQWBMoDggNtA2kDGANYAmkBqQAjAJn/0/4I/pb9qP31/RH+6f3N/Qb+kv49/9b/PwBwAHIAZgBwAKMA7QBIAcUBYwL+AlcDQQPhAn4CIgKNAZwAhf+q/iz+4v23/cn9Pf7q/mb/a/8S/7j+n/6//uH+2v6q/nL+bf6+/lL/6v9QAIgA1QBpAQgCUgIdAtEB1gESAhgCwAFgAVYBuwFgAv8CYwNeA90C9wEAAToApv8L/1H+o/0//TX9b/3T/VX+2f4b/+T+Vf7S/Zb9cf0m/cv8xPw8/d79Qf5Q/lH+h/7a/gr//f7T/r7+7f55/00AKwG1AbYBVwEDAegAxABNAKH/IP8A/xL/EP/x/t7+5f71/vv+/P4i/37/8f8/AGAAagB3AIwAngCpAKgAlwB1AFkAWQBvAHwAbgBVAFgAZQBQAAwA3v8DAGwAygDtAOoA+gArATsB9ABfAML/Wv86/1D/c/9m/wb/bv7z/dP97/0F/gD+Cf5L/rT+Ff9j/8f/ZQAtAc4B/gHWAaMBigF4AXkBuQFLAuoCNgMgA/AC7QIUAzsDNAPsAm4C2gFiASkBJwEqAecAagAMAAgAMAAtAO3/t//R/xwAOQDz/3P/C//f/sT+iv4n/q39NP3x/BP9mv1A/pn+f/40/hD+Nv6S/hD/uP97ACUBhQHGATICzgJIA00D5QJoAhYC7QG7AV0B7QCMADgA3f9t//r+nP5h/lD+Z/6O/qT+mP6t/hv/yP9PAHIAZgCHAOUAPQFOARMBvgCAAFgAIwDq/83/uv+J/zz/Bf8M/0X/ev+M/4H/cP9S/yD///4m/5T/CQBPAF4AYABWABcAjv/3/qr+r/7J/sP+uv71/nb/7v8dABgAFgA4AHwAwwDiAKgADABM/+L+Bv+H/+n/3/97//H+Vv6l/ff8mvzM/Gr9Cf5c/oz+6f6D/y8A0gBXAagBpAFHAcgAeQBwAIQAgQBaAAkAkv8k/wP/Uv/j/1MATgDq/6D/zP9YANUADwEvAXkB6AFLAoYCrgLIAsICiQIbAo0B8ABgAAMA//9NAKEAqwBrADoAUQCMAIQADwB7/wv/rv4//tL9rP3j/UX+lP67/sT+sv54/gv+fP38/K78mvy5/Pb8Kf0y/Rf9JP2V/U/+8f5D/3X/5v+iAFcBuwHlASoCqgIYAyUD1wJzAj4CSQJ3AqACpgJwAgUCkAFkAY0BzgHdAb4BngGbAZQBcQFYAXkBtAHBAY0BVwFiAZkBqwFtAfAAbwAJAKX/E/9z/vT9q/2A/Wz9hP3S/VP+Ff8PAAQBhwFeAdoAjwC+ACYBTAHvAEQAsv9f/zf/K/89/2j/gP9V/+r+ef5F/lf+gv6d/pj+eP5L/jL+U/64/iv/Zf9m/1r/YP9N/wj/r/6N/rT+5/70/vT+Pf/1/9QAbAGYAYQBcwFkATUB4wCFACwA6f/Y//z/NQBQADkAHQAzAIsA6AAFAdwAtAC5AMYAlQApAMf/lv90/yT/sP5Q/jT+U/6X/gD/if/8/xcAyP9B/+n+7/5S/+n/ggD+AFUBogEJApUCEQMhA6IC5AFMAesAiAD3/1P/5/7X/vv+Gf8j/y//Vf+Z/+j/IwAuAA8A7P/u/zUApQD4AAsB+gD/ADEBfAHQASYCXwI8Ao0BhQCU/wz/4P6+/n7+S/53/hD/xv9EAHcAfwBZAAQAmf88//3+zP6u/rj+8P4t/zr/K/9E/7L/KQBEAOP/Vf8Q/yz/cf+o/9L/BABCAHUAlgDBAPsANAFIATcBEQHXAHIA8f+L/2L/ZP9j/1X/YP+d/+3/AgDT/5f/e/9u/0//I/8h/1X/i/+P/3n/jP/i/0AAXwAjAKH/Av9t/gL+vf12/fH8Kfxy+zn7nPtC/MH8Bf1D/Zv9+v1Q/r3+ev+MAKsBlAJBA9QDWATBBAsFVQWZBa4FcwXpBEUEtAM5A70CPAK8ATYBiwDF/yH/4P7Z/qX+Df5o/S/9cf3R/e79wv2H/XT9hv2b/ZD9Yf0d/dT8mfx5/HL8f/y6/Fj9Tf5J/+n/HwA+AKgAYQEdApEC0QIJA1ADjQO4A94DBwQQBMoDRQOsAioCxwF4ATQB7gCdADMAwv9+/4T/pv+d/13/Hv8W/y3/M/8v/1L/sP8EAPz/mv89/z7/oP8pAJgA6gA6AY4B1wEbAk8CVAICAnkB+gC3AI0ARgDz/9D//P9aALgA+AAfAScB+QCQABYA2f/o/xkAMAAoACUAQgBhAGkAYwBvAKkA7gAUARQB7wCnAFYAJQAlADMAEgC8/3v/tf9kAA8BJwGTAKr/zv4k/pb9G/3H/KX8ovy4/Af9p/2B/mX/LQDEAAMBvQASAFX/y/52/hz+pf03/RD9LP1V/Wn9jP3n/WX+uf7L/tX+J//G/3AA1wDtANwA3gD9ACoBYgGJAXgBIAGwAFYAGADL/1///f7V/tP+tv57/l7+mf4S/3P/f/9K/xv/EP8g/03/lP/k/x0AOgBlAL0AMgGPAbgBxAHXAeABvgFzASoB9gDGAIQAVABhAKkA7wDtALsAoQC3ALwAagC1/9n+MP7N/Y/9Vv0h/QL9Jv2f/VH+AP9j/2r/Rf9C/4D/1P8CAAwAMwClAEEBvgEDAi0CSQIzAtUBYwE4AWMBmQGNAT8B8ADXAOAA2gChADcAr/84/wL/I/90/8L/7P/3//z/BAD+/97/y/8AAHYA2QDZAIUAOgBQAM0AeAESAmsCbAIdAqQBMgH5APYAHgFhAbAB5gHfAakBegF0AX4BXgEJAccA2AAvAX0BegFAAfgAqwA7ALL/Qv8V/xX/9v6S/hT+vf2a/Z39sf3A/bn9qP2m/dn9SP7I/iD/Uv+Q//z/YQB1ADcABAAsAI8A3gDtAM8AtACxAK0AkABlAEIAHgDv/8j/yf/q/wEA9P/U/87/4f/5/wQAEwA5AGcAjwDCACQBmgHVAZUB7gBGAPr/8//j/5T/If+9/oH+Z/5d/k3+Lv79/eH9+v09/nj+gv5+/rL+If+M/6//l/+V/8n/CQASAMX/Pf+j/gX+cf0R/QL9Nf1g/V79X/2Y/RD+n/4e/4T/y//p/9v/0f8GAHoA3gD5AOQA6QATASoBEwHzAAEBKwEnAc4ATwD9/wwAaQDzAHkB3AEHAg0CGAJQAqUC6QL5AvAC/wIjAykD9AKgAkUC1wEqAUsAf/8F/9v+y/6n/nz+Xf5K/k/+cf6q/uX+/P7p/sn+yP72/jn/dP+O/3r/Hf9w/rD9Qv1P/af96v0U/mb+G/8NAOkAeAHKAQ0CSwJgAkIC/AGrAWABKgElAWIBuwH6AQcCAgIMAgkC1gF9ATYBIgElAfMAcQDJ/z3/2/6Z/mz+cv69/ib/gf/W/1QACAHAATgCTgINAqIBOwEAAf8ADAHZAEAAeP++/ib+lv0N/a38ovzd/Bj9GP3n/NX8Ev2E/eP9C/4G/g/+O/6O/gf/kP/3/xEA5P+y/6r/1/8tAKYANQG5AQUCGAIqAmoCwQLiApIC9wFpAQQBpQAsAL3/fP9Z/y//6v6k/o3+s/7q/gr/B//r/rv+nf6//iH/fP+B/zb/6v7w/kT/lv+l/3z/V/9H/zT/Bv/V/sv+4P7s/tz+1v4M/4P/IwDMAGcB4QE/AnYChAJwAkoCIwIJAgkCIQIvAh4CAAITAmwC0QLuArMCYwIzAgkCswEbAXkABADW/8X/tv+3/8n/0v/F/7z/zf/i/83/i/8o/63+BP4t/XL8MPyM/EL9+/2T/in/0/9uAM8A9ADuANEAmABTADUAbgD5AJsBDAIhAvYBwAGiAaYByQHXAZQB5AAPAH7/TP8+/xH/1v7O/gP/Nv8r//T+1/72/in/JP/c/n7+Rf5H/n3+zv4W/0H/ZP+x/0sAHAHaATwCOQL8AagBPQHIAHYAbgCSAJsAcAA4ADMATgBJAP7/jv8x//3+z/6P/k3+Gf7v/cj9sf3B/eT9Av4n/oz+Pv/5/1QALQDb/77/7P8fADMAPQB6AOsAVgGVAcEB+AEdAv0BjwEEAXsA8/9Y/7L+JP62/V79G/0J/TT9bv2U/aL9x/0N/kr+UP4v/hX+Kf5d/pj+3/5Y/xEA2ABSAWkBWwF2AdABQwKWApwCPgKXAfgAswDTABkBMgETAe8A8wAMARMBDwEeATQBEAGQAPP/lf+a/8z/3//A/37/N//6/sH+lP5s/jL+0/1x/Ur9av2h/cP93P0D/jH+T/5m/r3+kP/CAPMBzAJIA68DHQR1BI8EcQQ4BPUDowNFA+QChQImAssBfQE8AfkAkAD9/2n/Dv/2/u/+xv6D/l3+bv6p/uz+Of+d/wYAVgCCAJsAtgDDAKMAUQD5/8n/wP/L/+3/NACdAAQBVgGaAdkB/QHcAXoBCwGyAFsA+f+X/3v/yf9QALgA1QC9AKYAlwB6ADkA3/98/yT/4P64/rL+sP6N/jv+7f3f/SD+fv7J/vj+C//3/sb+pf7Q/kr/y//1/8j/ov/i/4sAQgGqAa8BUgGoAOb/Q//v/vL+Mf+B/8v/AgAfAC4AUwCoACkBkAGNARwBmABPADcAAgCL//3+lf5e/kL+Lv4s/kb+aP57/n3+cf5i/l3+af6O/rj+xP6e/m7+c/64/gL/Fv/1/sH+fv4T/nz99fzF/Pb8R/15/aL9+v2I/jL/2P9/AC8B5AF/Au0CMANSA0cDGgP4Ag4DVQOTA6oDtAPPA+EDugNPA+MCtwK3AoYC7AEFASwAkf8n/9X+o/6k/tf+F/9F/2j/h/+B/y//h/6s/c/8FPyr+7D7H/yg/O38C/1P/d/9kv4F/x7/IP9S/7H/BwAyAEoAeQDMAC8BjAHiAS4CYwKBApACiQJWAvMBkAF2AcABKQJZAjUC9gG8AXoBEwGTADoAEgDs/4//Bv+U/nf+rv4A/z3/X/+A/6z/5/80AJgA+QA1AUMBQAE4AScBDwEUAVkBywESAu0BcQH1AKsAcAAZALD/a/9b/1j/Nv/1/rL+dP4w/t39n/2o/QL+pP5v/zsA2AAlASUBCgH6AOgApQAiAJ//U/9E/0P/NP8t/0n/fP+P/1X/AP/P/tz++P73/tv+xv7T/gL/UP+o/+b/3f+y/7r/HgCuABABGgH2AOQA6wDXAJAAPgAfADMASQA/ADAAPwBcAFMADQCq/1r/Mf84/2b/qP/Z/+7/6f/x/xEAMwAtAAAA3P/f//n/AAD1/wwAagDuAE4BYgFIAToBQAFCAToBNAE6AS0B/wDCAJMAdgBOAAwAx/+F/zn/3P6S/o7+1P4c/xf/sv4w/tn9wf3O/fX9O/6J/rj+vf65/tv+Iv90/6z/xf/Q/+b/DgBbANUAawHtAToCYAJ8AosCaAIcAtoBzAHcAcQBUQGtACUA8f/1//n/6P/X/+f/IQB3AMwAEAEtASUBDgEOAR4BFAHHAEMAqv8Z/5H+Fv7Y/f/9Z/6//uD+5P73/iP/OP8Z/+b+0/7p/gL/9/7J/pr+lf64/vb+OP9i/1v/Lv/x/rv+ef4R/pH9OP0z/W/9s/3k/Rr+gv4i/8X/OQCAAK4AxgC9AKsAuQD6AEwBgQGSAY8BgwFsAVEBNwEfAegAcgDQ/1T/U/+8/0MAnAC7ALkAogBvAD4ASACTAPYAKQErATcBfQH1AWYCswLHAp8CSQLhAX0BKwHlAJEAHwCl/yz/sP4r/rv9nf3f/Tr+Zv5l/n/+4v5//x8ArQAgAW4BhwFtAUYBLQEfAQgB0gCFADoA///Q/77/4/8jAFEAUAAwABgA+f+t/yj/qP5z/pT+yf7X/tf+Bv9p/9L/BADx/63/X/8n/wj/9v7h/rT+e/5u/tb+pP91AAsBeAHfAToCVAInAuABtAGiAY4BYQE8AUYBeQGaAXoBLAH0AOsA+gDrAKYALgCZ/xP/4f4V/3D/oP+L/2X/W/9d/0n/JP8j/1//ov+b/z7/3P7J/gv/b//L/xgAawDEAAsBLwEmAQEBwwB0ADsARQCKAOQAVQHoAW4ClAI9AqYBIAHKAHwA/v9F/4H+3v1b/eb8jPx2/KX89fwt/UX9W/2H/db9N/6I/qL+fP5E/kT+oP5C/97/UwCyADEB1QFkAqsCswLAAuIC5AKJAtUBCwFpAPn/ov9T/xD/5P7Q/sr+zP7K/qn+bP4s/gX+9P3j/dP91P34/SX+LP4P/hH+eP4t/8j/BwAAAPz/EQAqAB4A6v+q/3r/dv+l//3/awDeAEgBrgEGAkACRQIhAvUB4gHVAaABTgEZARcBKgETAcIAbgBLAFwAdgB5AGsAWAAyANz/Y//6/sv+1P7//jL/Wv9z/4X/oP/X/y8AhgCwAKwApQDEAPYAEAEPASQBVwF/AVcBzAAXAIz/R/8k/wD/0P6i/oP+h/6//hn/bf+U/6f/1v8oAH0AwgD4ACkBTQFgAWMBfgHOAVICyALuArwCcQJaAn8CyQIgA3EDoAOEAw8DWwKVAdUAIQCF/wj/ov4//uX9wf3t/Uf+hP55/kf+Jv4v/jb+Ef6z/UT94PyN/EX8FvwR/DT8XPyJ/Mv8Mf2r/Q7+Qv5N/j3+Kf4v/nL+Dv/v/+AAqQFPAuwCeQPLA9QDswONA1ED3AI5Aq0BcwGOAcQB4QHdAdIB0gHQAaoBUgHMACMAev/y/qX+g/5Y/i7+L/50/tn+Iv85/0H/WP9x/2D/Ef+w/nP+bv6N/rX+4f4I/yH/Iv8X/xz/Nv9T/2D/W/8//w3/xP6E/nj+qv7r/gr/B/8c/3H/7f9VAIsApwDYABsBWAGCAa0B9gFFAnQCaQI8AgkC6wHnAQMCKQIYAq8BGgGuAJUApgCXAFMAAQDO/9P/BwBuAP4AggGkAT8BhADR/1r/GP/w/uT++P43/5D/AgCTAD0B3wFUAqMC3ALsAq0CHwJ2AekAdQDz/07/vv6B/pT+rv6J/jH+8v30/ST+Uv5o/mH+T/5A/k3+cP6M/on+Z/5F/kj+c/6f/rv+zP7R/qD+C/46/Z78mfwi/c/9V/64/iH/kf/m/xcAQgCFAOkAXAHGASYCdwK2AuQCBgMWA/oCogIyAuwB8wEWAvABZwGzAB8Awf95/y3/6/7P/tP+2f7W/tr+Af9S/7L/BAAtACEA6f+g/3n/f/+A/1D/8f6e/nj+cf6B/q7+C/90/7j/yP/Q/w0AmgBBAbsB4gHVAcMBvAGwAZcBeQFoAWYBcQGMAaYBqgGBATQB3QB2AOn/Nv+a/kv+SP5M/iD+1P2l/aj9wf24/YD9Nf38/Nf81/wD/Wb9AP62/m3/CwCIAOAAHAFGAWYBcwFpAVsBcwG8ARICLwL7AbsByQEmAooCrgKLAlMCHgLgAXkB8gBqABMA/P8RAC0ANAAkAB8APgBqAIAAUADi/2n/I/8r/2X/qv/o/xgAMgAUAMz/jv+Q/8H/4v/O/6L/kf++/wsAXgCjANkA+QD6APAA7QD4APoA8gDgANUA1ADUANIA7QArAVcBMgHDAGoAewD0AIwB9wEYAvMBjwH6AFMAxf94/1r/PP///q/+Yv4c/uT9zv3W/eL91/3G/eX9Sv7T/kH/g/+q/8X/vP+J/0f/M/9g/6r/0f/C/6r/pv+s/5H/R//r/q/+sP7i/iv/af+E/3//fv+i/9v/7/+9/23/Qv9a/5X/wP/L/8f/0f/Y/8n/p/+M/3z/Xv8b/9H+oP6N/oP+g/6e/tn+E/85/0f/Qv8p//X+tP6U/rX++/4i/wr/7P4V/4v///8vAB4ABwALAA0ACwATADoAcQCIAHQANwDo/5T/UP9D/3n/0v8SADMAZQDZAHwBBQJFAk0CSQJVAmgChQK+AhwDbgN5AykDrAJFAggC6gHbAc4BtgGMATwB2gB3ABMAoP8e/67+cP5V/kH+Ov5l/r3+Bv/8/rD+e/6R/tz+E/8D/7j+Zv4u/iD+Rf6Y/gz/gP/j/z8AngDuABoBKgFDAXIBlwGMAVUBJAETAQ8B8gDMAMkA/wBGAW4BeQGHAaMBtgGgAWMBHgH/AB8BZAGmAbUBcgHwAGQA/f+y/2b/GP8C/1v/BwCuAAgBGwEfATUBTAEyAd4AcQAhAOr/wP+l/6f/wP/W/97/3v/M/6D/ZP84/y7/K//4/oP+9f2B/TX9/PzJ/LX84fxD/aX97/07/qD+C/9E/yj/z/5+/mf+hv7W/lP/7f+GAAkBdgHMAfwB+gHdAdAB2gHWAZ0BNAHcANIADwE9ARUBmwANAJn/Q/8H/+H+wf5//hP+mP03/RD9L/18/dH9Ff5L/n3+sP7v/jL/aP9//3r/e/+F/4H/T/8G/+n+Dv9k/6f/vf/T/xwAngAcAVkBSwEWAfgADgFdAbYB8QHtAccBrwGvAasBeAELAZ4AXAA5AAsAyP+S/3X/UP8L/77+nv69/v/+OP9T/1f/X/9z/4v/pf/b/zkAtwBLAf0BwwJgA6UDnQOBA1YDBQN6AsoBHgF8ANL/Gf95/jD+TP6c/tT+5v7s/vT+9v7f/r/+rv60/sH+xP7E/tb+Af8+/5b/DgCXAP8AKwE3AVMBkAHLAdkBuwF3AQ8BhQDo/23/Of8//z7/C/+//qL+0P4v/4v/w//S/8P/t//O/wYAOAA5AAwA6P/n/+3/x/+F/3b/4f+QAB4BQwElAQkBCQETARAB8gCwAEoA2f+U/6v/EgCHAM4A2QC5AHsANwD+/+z//v8XABoABgABABwALQD4/4H/Bf+//qX+kv52/nP+nv7r/jL/af+E/3v/Uv8k/xL/Lf9j/4f/j/+O/5T/hf9K/wX/8v4s/4f/zv8AADsAgACoAJgAXwAfAOT/jv8F/2n++/3k/Rv+kf4s/8n/RACNAMcABQFBAVMBOAEQAfoA6wDIAKAApwDuAEcBYgEqAd8A2gA2Aa8B5AGmAQgBRgCk/0L/L/9Z/5z/4/85AKgAGwFrAY4BpAG/Ab8BaAG9AAYAiv9b/1r/Xf9f/3P/of/O/+n/+f8BAOT/i/8D/4P+Lv4I/vn97v3R/ZH9Rf0o/Wz9C/6+/iv/Sv9X/47/4/8sAE8AYQCGAMIACgFZAbgBJAKNAuQCIQM2Aw0DlwLyAVgB+ADGAJUAYwA/AD4ATQBbAGwAlwDMAOcAyQCNAGsAgACzAMwAxwDIAOIA+wD5ANIAkgBPAA4A1/+W/0H/zP5Q/vL9wv2+/cn93/0W/oj+EP9l/1D/8P6T/mf+Vv4p/s39a/1A/Wz97v2u/nz/IwCEAKEAqwC8ANkA+AAEAfoA4AC3AIgAdACPALQAowBDAMf/gf+L/8X/+f8nAEkARQAAAIP//f6o/o/+mf6f/oP+T/4x/l3+5f6W/wwA9P9b/6r+Rf46/lX+Y/50/qX+/f5m/9v/ZAARAcwBZQLAAvICIQNlA54DuAOwA5QDZwMeA7YCTQICAtEBqgF9ATYBxgAvAJn/KP/q/rb+Y/71/Z39if2h/bf9s/2y/cn9+P0W/hX++v3i/eT9Df5T/pz+wP69/rr+6/5N/6r/4v8GAEYAuAA4AaAB5gEzApcCCQNgA40DpAOuA5MDSgP+AtoC5ALpArcCSgLPAXEBRwFRAX0BqwG4AZ4BfgGCAZMBfwEXAYAA7/9w/+v+T/7B/Yv9uf0R/jT+FP7j/df97f0I/hH+Bv7i/a39i/2o/QX+fP7K/uX+9f4n/4X/BACdAD0BsAHKAY4BQwEbAf8ArQAfAHz/Af/Q/tr+//4x/23/pP+r/3X/EP+g/lD+QP55/t7+I/8e/+z+2f4b/4X/1v/s/+j/8f8CABIAJQBUAJUAvgCxAHcAPQAiACgAVACcAPoATQF0AW4BTgEwAQoByQB1ACUA8v/M/6f/mf/R/zoAiAB8ABgAmv80/9b+Yf7h/ZL9lv3P/Qr+MP45/iv+Gf4u/pP+Kf+4/xkAYAC/ADoBqQHlAfMBAAIXAhcC5QGaAWsBaAFxAVgBDgGoAEkAAgDp//3/LQBWAFwAPgAoADIAWQCKAK4ArQBqAOf/W/8V/zj/m//c/8z/kv97/53/0v/1/wQADwARAPT/uP9r/yD/4v6+/q/+qv6X/mv+Sv5h/sT+YP/o/y0ANQAvAC0AJAAkADkAZwCSAKsAyAAKAXYB5wEmAhkC2QGKAVEBMQEfARcBGgEmATQBPQErAe8AnQBhAFwAdQBwADAA1P+s/9//RgCaALgAuADCAOMABAELAeoAogA/AMn/T//a/mz++v2K/TH9AP3y/PP8F/1w/er9UP58/n7+f/6H/n/+YP43/kD+mv43/9//bADqAGIByQEIAiwCTQJ7ArEC3wL3AvAC0wKzAqECogKjAnEC6AEqAYgANwAlAA4Ay/9p/xP/5P7c/vb+KP9m/5T/nf+H/2v/YP9q/4P/n/+m/3D/9v5p/gb+/v1I/sH+Qv+w//r/GgApAEgAggCzAKEARADZ/6T/pv+r/4//T/8N/+f+5P7v/vb+9f4A/yD/P/9E/w3/nf4f/tr99f1F/oP+jP6E/qj+//5q/8H/AgA6AGYAcgBpAHcAuwAXAV0BegGDAY8BmwGdAYUBXgE0AQkB5wDdAPAADgEUAQAB+wAlAVABSgH+AKcAgACMAKEAkwBlADcAJwA4AEgAQwAzADAATgCTAP0AaQGtAcEBuAGfAWIB6wBRAMX/Xv8X/9f+oP55/lX+HP7I/Xv9a/2g/fD9Kv5I/l3+cP55/n3+j/7G/hb/WP95/4H/hP+K/6r/9/9fAKAAdgDn/07/Ev88/3//kP9b/xz/Av8H/w3/E/80/3X/tv/k/wkAOgB7AM8AOwG1ARwCUAJVAkACLwIdAvEBnQEvAc0AegAiALz/cP9p/4v/l/9q/y7/J/9t/9H/DwAOAOr/yf+6/7D/l/9e/wr/xf69/vL+OP9p/4r/vf8XAG8AhAA+AMb/U/8M//H+/f40/4f/3/8oAGwAvAAMATsBOgEXAe4A0gDIANQA7QAPASUBKwEnATUBVwF5AYUBkAG0AeAB1AFtAdkAcABOAFUAWgBOAFAAfADOABkBKQHyAIoAFAC1/3b/Sf8Z/+L+y/71/lr/wf/y/+3/5P/4/xkANQBDAEQAJwDj/4T/PP80/2T/kv+H/z7/1/6U/p3+7/5v/+//QABRADcAFAD9/+z/7v8oAJoAGwFzAY4BhwGMAaYBrgFiAbsA7/9P/wH/8v4D/xj/Gf8G//L+7P7x/vD+3/7K/rD+lP5x/kz+N/5M/oz+7P5Q/6//BgBbAJ4AxADUAN4A3AC0AFkA4v9+/03/Sv9Y/2//mf/Z/ygAdQCoAKkAcAAZANb/tv+w/6v/rP/G//n/LAA6ACwALwBkALwAAAEVAfkAxACNAGYARAAMALb/TP/t/rT+qf6+/tP+0f7G/sv+3/7p/tv+u/6V/l3+G/7q/fT9Of6N/sP+1v7r/iT/df+l/4f/Jv+n/jX+8P3q/Rr+Yf6n/u3+Sf+9/zAAfQCrAPMAbAHvAToCQwI/AmsCvQL7AvICpQI3AtABkAGEAaYB3QH2AcoBZAELAeUA9AAhAVIBbwF0AWYBYAFrAXgBaQE4AfsAwwCNAE0ACQDo/wsAawDHAOIAsQB0AGAAhgDGAPUA6gCVAAkAe/8n/xf/If8n/xj//P7U/qr+lP7B/jL/qv/f/7z/bv8t/wj/5/66/pH+h/6l/ub+Wv/4/5wACgEbAeAAhQAkAMf/aP8H/6j+U/4e/iH+dP4G/5r/7P/5/wsAYADtAGgBpAGvAb4B4gETAjkCSAI5Ag4C3wHBAb8BxQHAAZ8BZAEfAb4APgC3/0r/A//T/pz+WP4V/uT9xv29/cz98v0F/tr9df0Q/fD8Lf2q/TX+mv7K/tf+7f4x/5//HwCEALYAxwDgABcBSgFnAXkBowHdAf4B7AG6AaMBxQEIAi4CCwKgAQQBXADH/1j/Ff/m/rX+fP5Y/lj+e/61/gL/Rf9P/wD/e/4I/u/9LP6B/rP+vf61/rP+s/60/sz+Dv9r/8H/8v8DAB4AXgC+ABUBQgFBASYBLAF3AfwBgQLOAt4C1ALPAtECrgJNArwBMQHRAJoAdQBaAEoAMAD//63/Uv8C/8X+iv48/t39df0o/RL9N/2A/cz9Bv48/oL+3v40/3j/sv8GAG4AswCrAGQAJAAoAGQAogDJAOIADgFhAckBLAJvAoUCcAJNAjoCNwIoAvUBqAFcASUBBAHwAOsAAQEkASUB0gA7AKf/Tf83/0X/X/9r/1v/Lv/q/qv+jP6T/rT+1P7b/s7+v/7U/h7/kf8CACoA9P+M/0X/Of9X/2r/bv9u/2n/Rf/2/pr+cP6M/tX+Df8W/w3/Hf9T/6//FgBkAH8AZQA0ABMAEgAoAD0ASwBrAKEA5wAsAXwB1wEpAkoCLwLzAbkBfgEpAbAALgDL/5n/cP8t/9r+mP5+/o/+vf7n/vT+1P6a/nP+Zv5X/jX+Dv4J/kv+1P51//j/UQCcAOsANAFZAVABHgHSAIcAZQByAJUAmABeAPj/kf9J/yz/Mf9b/5n/wv/B/6z/t//o/x4AMAAyAEkAfwCnAJgAZQA6ADcAOQAfAPP/1//d////MABqAKAAvACpAIEAaQB0AH8AYAAUAMv/tf/d/yoAkgAKAXwBtQGlAWwBUgFsAZ0BvAGvAYIBUQE2AToBYAGfAdIBxwFiAcMAIwCm/1n/Rf9d/3X/Yv8s/wX/Gf9q/8X/+v8LABgAMwBJAE8AQgA1ADUAPwA6ABkA3f+W/2P/Xv+J/73/1P/N/8j/5P8LABMA7/++/6D/mf+Z/5r/pv/D/9z/3f/Q/9H/6P8DAA0AAgAHADAAbwCRAIAAPQDb/2r/DP/f/tT+tf5p/gT+x/3G/d/96v3a/dr9D/5o/sX+F/9r/8j/GQA4AB8A5P+g/2r/Wv94/7r/+P8TAAIA4v/M/8f/zv/X/9f/vP90/w7/uf6f/r7+5/7p/r7+lP6O/qj+xP7Z/vv+OP+K/9f/DQAoADQARQBhAG8AUQAJALv/nP/O/zgAiwCGADoA8v/m/xIAXgCtAPsALAFBAUIBUgGFAdwBOQJ+ApUCigJ0AnACnQLzAkwDeANiAyED0wKCAiMCtgFRAQABwQCAADQA7v/W/+r/BgAAANn/tf+q/6X/hv9J//3+xf6n/p/+n/6e/pP+fv50/n/+jv55/iz+xP1s/S79/fzb/Oj8Mf2j/Rz+iv73/nT//v+CAO0AOwFoAWIBLwHwANQA5AAIAScBOwFGAVABXQFyAYcBjQFkAQ8BrQCCAK0AFgFzAaQBuwHfARACKgISAs4BdgEkAeQAsQCMAHUAcACFAMcAGQFGAScB0QB7AFQASQAsAOb/f/8S/7T+aP48/k/+nv76/iD/Bf/E/or+Vv4e/tP9gv06/Qv9Cf1I/cL9W/70/oD/9/9PAIAAkwCrAOsASgGFAXIBKgHuAOkA/wABAdEAcgD8/3//E//c/t/+//4T/wv/8f7f/sv+uv60/s7+C/9K/3n/qv/5/2QAtgDEAJoAWwATAKr/K//J/rn+8P5B/4H/rP/G/8z/sv9q/w3/tP59/nT+if6i/rD+tP7B/gH/b//c/xEACADx/+7/AwAfAC0APQBfAIoAnQCYAI8AoADJAPIACwEaARoBBgHaAK0AiwBxAFgAJwD0/8n/tf+y/9f/JQB1AIYAPwDI/2v/SP9P/1v/YP96/7j/GQCNAAABYgGmAcABuQGmAZQBeAFGAQkB3ADDAKYAbAA9AEoAngAMAVwBfQGEAYUBcgE3Ae4AsgCBADcAwP88/+X+0f7n/gb/F/8i/zb/Wf+a//j/bADXABkBOAFHAUgBLwH5AMMAlgBfAP//ef8H//D+R//b/2cAyQD6AA8BDgH9AOAAsABeAPL/i/84//b+vf6T/oP+if6V/pP+f/5x/nv+ov7P/vv+Kf9f/4r/m/+k/8H/AwBYAJ0AuACiAGwAKgDy/8v/rf+Q/27/X/94/63/2f/e/9n/9f8yAFsAQwDh/2X/B//h/uL+Bf9D/5r/6v8jAEUAYAB7AIIAVQDu/2n/9P6z/rX+9P5a/8X//f/3/83/p/+S/4z/pP/f/zoAlQDVAAkBSwGxASwCggKPAlYCCwLVAccB0gHgAccBfwEZAbMAbwA+AAkAy/+G/z7/6v6J/jf+Gf4j/iP+3P1Y/cz8ffxv/JT8xfzz/Cj9dP3W/Uz+0/5i/9//QgCLAMIA7wAhAV4BqQH1AS4CUgJoAnsChwKKAoACgQKdAsQCwwJrAssBMgHPAJoAcQBLACcAAwDx//P/BgATAAYA3P+q/47/jP+J/2v/TP9N/3z/vf/n//j/AAD+/+b/uv+J/2D/Qv8Q/9D+pP65/hD/hP/t/zoAawCBAH8AbgBZAD8AEQDS/5L/YP8v/+b+jf5d/n/+0P4C/+H+iv49/hn+FP4W/hj+Dv77/ez9Df58/iv/4f9rALwA5wAUAUcBggG4AdwBzwF6AQ4BzgDiACwBbgF6AVMBFwHXAJ4AhwCoAOoAHwEZAesAwwC4AL4AuACiAIIAYwBQAFkAhwDBANkArgBTAPj/rf9r/yH/3/7B/sj+yf6k/mL+LP4b/jX+Zf6e/tH+9/4D/wr/I/9Q/3n/gf9w/1D/Lv8L//v+G/+B/wsAjQDcAAABEAEMAeoAswCcAM4APQGtAesBAQIJAhwCLQIvAhACzgFkAesAhQBJADMAIQADAOz/6f/k/73/bf8b//j+Cv88/2X/f/+S/6b/vv/t/zMAgQCgAGwAAwCg/2n/bf+U/7r/wf+l/3z/b/+i/xEAiADaAPgA/gAOASkBOAFAAVEBaAFjATYBAAHuAA8BSAFjAUAB5ABwAAMAsP98/1//P/8L/9X+v/7L/uz+Df8m/zn/N/8G/6r+Rv4U/iP+V/6E/p7+tv7g/gv/Iv8r/zT/Qf89/xX/yP5r/iP+Dv4w/nv+1f4e/1T/mf8HAIsA6wAQARYBNwGJAe8BPgJpAoACmwK2Aq4CfwI8AvcBuAFvAQ8BoAAuAMz/i/9v/2v/Zv9d/1n/Zf9r/1r/K//4/uL+8P4O/y//Wf+K/6f/ov98/1f/Sv9Q/0j/Hf/m/sr+5/49/6T/7//8/8P/W//1/rD+mv6Y/o7+eP5c/kj+RP5g/q7+LP+6/xwASABmALMAKwGmAQACIwIGArQBTAH+AN4A5QD5AAEB+wDpAMcAkQBNABIA6v/D/4H/Mf8B/xD/Qv9r/4H/lv/D//P/DAACAPL/AwBDAJcA3AAFARwBOAFkAZ4B1QHmAbgBYQEeARsBRQFuAXkBbgFXATUB9gCjAFMADgDG/2//F//b/sj+1P7q/gD/Fv8j/xb/6f61/pT+jf6M/pf+z/4y/6H/6v8JABEAEwAHAO3/zf/D/9b/9P8IAA0AFwA5AHIAuAAJAVABeQF0AVgBOwElAQYB0gCQAFMAKgAOAP3//P8HAA0A8f+6/5v/u//1/xEA6f+f/2v/b/+n/wMAfAALAYwBzAHDAZABVgEbAd8AogBjAAwAn/89/xD/GP8y/y//Av/M/rT+u/7I/sr+zv7Z/tr+uf6J/nn+oP7y/k7/of/e//f/3f+n/3j/Y/9d/zn/8v6z/rL+8f5V/8H/LgCTAMgArABRAPL/rP91/y//4f6z/sz+Kf+k/xgAeQC3AM0AzQDNANwA8gATAT8BegG0AdIBwwGXAXYBbQFvAWMBVgFbAWYBYAE6AQsB4gCsAFgA5v9v/xn/9f7//iH/U/+R/8v/8f8BAAYAAwD0/+P/4v/+/w8A9P+t/3P/Zv98/4n/b/9F/yn/J/8j/wr/5P7I/rv+vv7I/tz+9/4Z/07/rP80AMIAJwFXAW0BgwGSAXkBNgHTAF4A2/9V//r+CP+J/0sA8gA2ARkBzQCCAEkAAAA=\" type=\"audio/wav\" />\n",
       "                    Your browser does not support the audio element.\n",
       "                </audio>\n",
       "              "
      ],
      "text/plain": [
       "<IPython.lib.display.Audio object>"
      ]
     },
     "execution_count": 46,
     "metadata": {},
     "output_type": "execute_result"
    }
   ],
   "source": [
    "out_file = 'output.mid'\n",
    "out_pm = notes_to_midi(\n",
    "    generated_notes, out_file=out_file, instrument_name=instrument_name)\n",
    "display_audio(out_pm)"
   ]
  },
  {
   "cell_type": "markdown",
   "metadata": {
    "id": "u4N9_Y03Kw-3"
   },
   "source": [
    "You can also download the audio file by adding the two lines below:\n",
    "\n",
    "```\n",
    "from google.colab import files\n",
    "files.download(out_file)\n",
    "```"
   ]
  },
  {
   "cell_type": "markdown",
   "metadata": {
    "id": "trp82gTqskPR"
   },
   "source": [
    "Visualize the generated notes."
   ]
  },
  {
   "cell_type": "code",
   "execution_count": 47,
   "metadata": {
    "execution": {
     "iopub.execute_input": "2022-06-28T01:23:25.321433Z",
     "iopub.status.busy": "2022-06-28T01:23:25.321176Z",
     "iopub.status.idle": "2022-06-28T01:23:25.508189Z",
     "shell.execute_reply": "2022-06-28T01:23:25.507626Z"
    },
    "id": "NlNsxcnhvbcK"
   },
   "outputs": [
    {
     "data": {
      "image/png": "[encoded data removed]",
      "text/plain": [
       "<Figure size 1440x288 with 1 Axes>"
      ]
     },
     "metadata": {
      "needs_background": "light"
     },
     "output_type": "display_data"
    }
   ],
   "source": [
    "plot_piano_roll(generated_notes)"
   ]
  },
  {
   "cell_type": "markdown",
   "metadata": {
    "id": "p5_yA9lvvitC"
   },
   "source": [
    "Check the distributions of `pitch`, `step` and `duration`."
   ]
  },
  {
   "cell_type": "code",
   "execution_count": 48,
   "metadata": {
    "execution": {
     "iopub.execute_input": "2022-06-28T01:23:25.511151Z",
     "iopub.status.busy": "2022-06-28T01:23:25.510901Z",
     "iopub.status.idle": "2022-06-28T01:23:25.798999Z",
     "shell.execute_reply": "2022-06-28T01:23:25.798430Z"
    },
    "id": "j5bco2WVRkAa"
   },
   "outputs": [
    {
     "data": {
      "image/png": "[encoded data removed]",
      "text/plain": [
       "<Figure size 1080x360 with 3 Axes>"
      ]
     },
     "metadata": {
      "needs_background": "light"
     },
     "output_type": "display_data"
    }
   ],
   "source": [
    "plot_distributions(generated_notes)"
   ]
  },
  {
   "cell_type": "markdown",
   "metadata": {
    "id": "iAyxR7Itw3Wh"
   },
   "source": [
    "In the above plots, you will notice the change in distribution of the note variables.\n",
    "Since there is a feedback loop between the model's outputs and inputs, the model tends to generate similar sequences of outputs to reduce the loss. \n",
    "This is particularly relevant for `step` and `duration`, which uses the MSE loss.\n",
    "For `pitch`, you can increase the randomness by increasing the `temperature` in `predict_next_note`.\n"
   ]
  },
  {
   "cell_type": "markdown",
   "metadata": {
    "id": "Bkfe3GYZEu4l"
   },
   "source": [
    "## Next steps\n",
    "\n",
    "This tutorial demonstrated the mechanics of using an RNN to generate sequences of notes from a dataset of MIDI files. To learn more, you can visit the closely related [Text generation with an RNN](https://www.tensorflow.org/text/tutorials/text_generation) tutorial, which contains additional diagrams and explanations. \n",
    "\n",
    "One of the alternatives to using RNNs for music generation is using GANs. Rather than generating audio, a GAN-based approach can generate an entire sequence in parallel. The Magenta team has done impressive work on this approach with [GANSynth](https://magenta.tensorflow.org/gansynth). You can also find many wonderful music and art projects and open-source code on [Magenta project website](https://magenta.tensorflow.org/)."
   ]
  }
 ],
 "metadata": {
  "accelerator": "GPU",
  "colab": {
   "collapsed_sections": [],
   "name": "music_generation.ipynb",
   "toc_visible": true
  },
  "kernelspec": {
   "display_name": "Python 3 (ipykernel)",
   "language": "python",
   "name": "python3"
  },
  "language_info": {
   "codemirror_mode": {
    "name": "ipython",
    "version": 3
   },
   "file_extension": ".py",
   "mimetype": "text/x-python",
   "name": "python",
   "nbconvert_exporter": "python",
   "pygments_lexer": "ipython3",
   "version": "3.7.9"
  }
 },
 "nbformat": 4,
 "nbformat_minor": 1
}
